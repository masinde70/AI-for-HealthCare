{
 "cells": [
  {
   "cell_type": "markdown",
   "metadata": {},
   "source": [
    "### Translate Performance into Clinical Utility Exercise\n",
    "The output of the last layer of your CNN will output a probability that an image belongs to a given class. The last step in assessing the performance of your model is choosing the appropriate cut-off threshold for this probability value such that the model behaves in a way that is clinically optimal. Changing this threshold will change the true positive, false positive, false negative, and true negative rates, which we learned about in Lesson 1. This will, in turn, change the precision and recall of our model. Precision and recall are important concepts in clinical testing, and usually, one is optimized at the expense of another.\n",
    "\n",
    "In this exercise, you'll be given a dataframe with ground truth labels as well as probabilities output by an algorithm that you developed to classify images as having a malignant tumor or not. Your job is to generate a Precision-Recall curve as well as an optional ROC AUC curve with the data in this dataframe.\n",
    "\n",
    "Once you create these curves, choose two different thresholds: one that favors precision and one that favors recall. Use these thresholds to calculate two separate F1 scores. Then, also calculate the accuracy of your algorithm using these two different thresholds and think about why accuracy is or is not a good choice of performance statistic for your data."
   ]
  },
  {
   "cell_type": "code",
   "execution_count": 1,
   "metadata": {},
   "outputs": [],
   "source": [
    "\n",
    "%matplotlib inline\n",
    "import numpy as np       # linear algebra\n",
    "import pandas as pd      # data processing, CSV file I/O (e.g. pd.read_csv)\n",
    "import matplotlib.pyplot as plt\n",
    "from sklearn.preprocessing import binarize\n",
    "from sklearn.metrics import roc_curve, auc, precision_recall_curve, average_precision_score, plot_precision_recall_curve,f1_score, confusion_matrix\n",
    "\n",
    "\n",
    "# Import any other libraries you may need such as\n",
    "# average_precision_score, plot_precision_recall_curve, f1_score, confusion_matrix"
   ]
  },
  {
   "cell_type": "code",
   "execution_count": 2,
   "metadata": {},
   "outputs": [],
   "source": [
    "performances = pd.read_csv('performances.csv')"
   ]
  },
  {
   "cell_type": "code",
   "execution_count": 3,
   "metadata": {},
   "outputs": [
    {
     "data": {
      "text/html": [
       "<div>\n",
       "<style scoped>\n",
       "    .dataframe tbody tr th:only-of-type {\n",
       "        vertical-align: middle;\n",
       "    }\n",
       "\n",
       "    .dataframe tbody tr th {\n",
       "        vertical-align: top;\n",
       "    }\n",
       "\n",
       "    .dataframe thead th {\n",
       "        text-align: right;\n",
       "    }\n",
       "</style>\n",
       "<table border=\"1\" class=\"dataframe\">\n",
       "  <thead>\n",
       "    <tr style=\"text-align: right;\">\n",
       "      <th></th>\n",
       "      <th>ground_truth</th>\n",
       "      <th>probability</th>\n",
       "    </tr>\n",
       "  </thead>\n",
       "  <tbody>\n",
       "    <tr>\n",
       "      <th>0</th>\n",
       "      <td>1</td>\n",
       "      <td>0.99</td>\n",
       "    </tr>\n",
       "    <tr>\n",
       "      <th>1</th>\n",
       "      <td>1</td>\n",
       "      <td>0.98</td>\n",
       "    </tr>\n",
       "    <tr>\n",
       "      <th>2</th>\n",
       "      <td>1</td>\n",
       "      <td>0.97</td>\n",
       "    </tr>\n",
       "    <tr>\n",
       "      <th>3</th>\n",
       "      <td>1</td>\n",
       "      <td>0.96</td>\n",
       "    </tr>\n",
       "    <tr>\n",
       "      <th>4</th>\n",
       "      <td>1</td>\n",
       "      <td>0.95</td>\n",
       "    </tr>\n",
       "  </tbody>\n",
       "</table>\n",
       "</div>"
      ],
      "text/plain": [
       "   ground_truth  probability\n",
       "0             1         0.99\n",
       "1             1         0.98\n",
       "2             1         0.97\n",
       "3             1         0.96\n",
       "4             1         0.95"
      ]
     },
     "execution_count": 3,
     "metadata": {},
     "output_type": "execute_result"
    }
   ],
   "source": [
    "performances.head()"
   ]
  },
  {
   "cell_type": "markdown",
   "metadata": {},
   "source": [
    "### Exercise"
   ]
  },
  {
   "cell_type": "code",
   "execution_count": 4,
   "metadata": {},
   "outputs": [],
   "source": [
    "# function to plot the roc_curve. You can utilize roc_curve and auc imported above\n",
    "def plot_roc_curve(ground_truth, probability):\n",
    "    ## YOUR CODE HERE\n",
    "    fig, c_ax = plt.subplots(1,1, figsize = (9, 9))\n",
    "    fpr, tpr, thresholds = roc_curve(ground_truth, probability)\n",
    "    c_ax.plot(fpr, tpr, label = '%s (AUC:%0.2f)'  % ('Pneumonia', auc(fpr, tpr)))\n",
    "    c_ax.legend()\n",
    "    c_ax.set_xlabel('False Positive Rate')\n",
    "    c_ax.set_ylabel('True Positive Rate')\n",
    "    \n",
    "# function to plot the precision_recall_curve. You can utilizat precision_recall_curve imported above\n",
    "def plot_precision_recall_curve(ground_truth, probability):\n",
    "    ## YOUR CODE HERE\n",
    "    fig, c_ax = plt.subplots(1,1, figsize = (9, 9))\n",
    "    precision, recall, thresholds = precision_recall_curve(ground_truth, probability)\n",
    "    c_ax.plot(recall, precision, label = '%s (AP Score:%0.2f)'  %\n",
    "              ('Pneumonia', \n",
    "               average_precision_score(ground_truth, probability)))\n",
    "    c_ax.legend()\n",
    "    c_ax.set_xlabel('Recall')\n",
    "    c_ax.set_ylabel('Precision')\n",
    "\n",
    "# function to calculate the F1 score\n",
    "def calc_f1(prec,recall):\n",
    "    return 2*(prec*recall)/(prec+recall)"
   ]
  },
  {
   "cell_type": "code",
   "execution_count": 5,
   "metadata": {},
   "outputs": [
    {
     "data": {
      "image/png": "[encoded data removed]",
      "text/plain": [
       "<Figure size 648x648 with 1 Axes>"
      ]
     },
     "metadata": {
      "needs_background": "light"
     },
     "output_type": "display_data"
    }
   ],
   "source": [
    "plot_roc_curve(performances['ground_truth'],performances['probability'])"
   ]
  },
  {
   "cell_type": "code",
   "execution_count": 6,
   "metadata": {},
   "outputs": [
    {
     "data": {
      "image/png": "[encoded data removed]",
      "text/plain": [
       "<Figure size 648x648 with 1 Axes>"
      ]
     },
     "metadata": {
      "needs_background": "light"
     },
     "output_type": "display_data"
    }
   ],
   "source": [
    "plot_precision_recall_curve(performances['ground_truth'],performances['probability'])"
   ]
  },
  {
   "cell_type": "markdown",
   "metadata": {},
   "source": [
    "### Calculate F1 Score\n",
    "Calculate F1 score for two different scenarios here, \n",
    "1. Choose a threshold that favors precision, \n",
    "2. Choose a threshold that favors recall\n",
    "\n",
    "Print the precision, recall, threshold, and F1 score for each scenario. "
   ]
  },
  {
   "cell_type": "code",
   "execution_count": 7,
   "metadata": {},
   "outputs": [],
   "source": [
    "### YOUR CODE HERE\n",
    "precision, recall, thresholds = precision_recall_curve(performances['ground_truth'],performances['probability'])"
   ]
  },
  {
   "cell_type": "code",
   "execution_count": 8,
   "metadata": {},
   "outputs": [
    {
     "name": "stdout",
     "output_type": "stream",
     "text": [
      "Precision is: 0.8043478260869565\n",
      "Recall is: 0.37373737373737376\n",
      "Threshold is: 0.79\n",
      "F1 Score is: 0.5103448275862069\n"
     ]
    }
   ],
   "source": [
    "# Look at the threshold where precision is 0.8\n",
    "precision_value = 0.8\n",
    "idx = (np.abs(precision - precision_value)).argmin() \n",
    "print('Precision is: '+ str(precision[idx]))\n",
    "print('Recall is: '+ str(recall[idx]))\n",
    "print('Threshold is: '+ str(thresholds[idx]))\n",
    "print('F1 Score is: ' + str(calc_f1(precision[idx],recall[idx])))"
   ]
  },
  {
   "cell_type": "code",
   "execution_count": 9,
   "metadata": {},
   "outputs": [
    {
     "name": "stdout",
     "output_type": "stream",
     "text": [
      "Precision is: 0.398989898989899\n",
      "Recall is: 0.797979797979798\n",
      "Threshold is: 0.39\n",
      "F1 Score is: 0.531986531986532\n"
     ]
    }
   ],
   "source": [
    "# Look at the threshold where recall is 0.8\n",
    "recall_value = 0.8\n",
    "idx = (np.abs(recall - recall_value)).argmin() \n",
    "print('Precision is: '+ str(precision[idx]))\n",
    "print('Recall is: '+ str(recall[idx]))\n",
    "print('Threshold is: '+ str(thresholds[idx]))\n",
    "print('F1 Score is: ' + str(calc_f1(precision[idx],recall[idx])))"
   ]
  },
  {
   "cell_type": "markdown",
   "metadata": {},
   "source": [
    "**As we can see, the thresholds are really different for the two cases.**\n",
    "\n",
    "--- \n",
    "\n",
    "### Examine the _accuracy_ under the two scenarios\n",
    "Now look at what the _accuracy_ of our model would be using those two threshold values. **Hint, you can add a new column with value 0 or 1 as predictions based on the threshold you choose, then you can calculate accuracy using ground truth and the prediction you just made.**\n",
    "\n",
    "Print the _accuracy_ in both the cases, and think about why accuracy really isn't a great performance statistic when evaluating and interpreting the utility of our models. "
   ]
  },
  {
   "cell_type": "code",
   "execution_count": 10,
   "metadata": {},
   "outputs": [],
   "source": [
    "probs = performances['probability']\n",
    "t1 = (probs > 0.79)\n",
    "t2 = (probs > 0.39)"
   ]
  },
  {
   "cell_type": "code",
   "execution_count": 11,
   "metadata": {},
   "outputs": [],
   "source": [
    "### YOUR CODE HERE\n",
    "t1 = t1.replace(True,1).replace(False,0)\n",
    "t2 = t2.replace(True,1).replace(False,0)"
   ]
  },
  {
   "cell_type": "code",
   "execution_count": 12,
   "metadata": {},
   "outputs": [],
   "source": [
    "compare_t1 = (t1 == performances['ground_truth'])\n",
    "compare_t2 = (t2 == performances['ground_truth'])"
   ]
  },
  {
   "cell_type": "code",
   "execution_count": 13,
   "metadata": {},
   "outputs": [
    {
     "name": "stdout",
     "output_type": "stream",
     "text": [
      "Accuracy at threshold 1: 0.8954344624447718\n"
     ]
    }
   ],
   "source": [
    "print('Accuracy at threshold 1: ' + str(len(compare_t1[compare_t1])/len(performances)))"
   ]
  },
  {
   "cell_type": "code",
   "execution_count": 14,
   "metadata": {},
   "outputs": [
    {
     "name": "stdout",
     "output_type": "stream",
     "text": [
      "Accuracy at threshold 2: 0.801178203240059\n"
     ]
    }
   ],
   "source": [
    "print('Accuracy at threshold 2: ' + str(len(compare_t2[compare_t2])/len(performances)))"
   ]
  },
  {
   "cell_type": "code",
   "execution_count": null,
   "metadata": {},
   "outputs": [],
   "source": []
  }
 ],
 "metadata": {
  "kernelspec": {
   "display_name": "Python 3 (ipykernel)",
   "language": "python",
   "name": "python3"
  },
  "language_info": {
   "codemirror_mode": {
    "name": "ipython",
    "version": 3
   },
   "file_extension": ".py",
   "mimetype": "text/x-python",
   "name": "python",
   "nbconvert_exporter": "python",
   "pygments_lexer": "ipython3",
   "version": "3.9.12"
  }
 },
 "nbformat": 4,
 "nbformat_minor": 2
}
