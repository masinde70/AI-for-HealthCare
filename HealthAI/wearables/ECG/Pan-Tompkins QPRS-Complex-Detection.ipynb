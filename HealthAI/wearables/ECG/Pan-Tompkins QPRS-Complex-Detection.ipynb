{
 "cells": [
  {
   "cell_type": "markdown",
   "id": "0acaac15-2590-4610-a088-8fe7ab54cafa",
   "metadata": {},
   "source": [
    "**Pan-Tompkins QRS Complex Detection**\n",
    "\n",
    "The first step in a lot of ECG processing is finding QRS complexes. The Pan-Tompkins algorithm is a series of pre-processing steps and a detection algorithm for finding these complexes. We'll can see it in action below."
   ]
  },
  {
   "cell_type": "markdown",
   "id": "8088a5d9-4b43-4a78-8c18-ab4d24256868",
   "metadata": {},
   "source": [
    "# Imports"
   ]
  },
  {
   "cell_type": "code",
   "execution_count": 1,
   "id": "a60af96a-6fe3-471b-b619-5cdc31857722",
   "metadata": {},
   "outputs": [],
   "source": [
    "import glob\n",
    "import os\n",
    "\n",
    "from matplotlib import pyplot as plt\n",
    "import mpld3\n",
    "import numpy as np\n",
    "import pandas as pd\n",
    "import scipy as sp\n",
    "import scipy.io\n",
    "import scipy.signal\n",
    "\n",
    "np.warnings.filterwarnings('ignore')"
   ]
  },
  {
   "cell_type": "markdown",
   "id": "6768cd99-9ca5-4f46-913a-300814cdb7d8",
   "metadata": {},
   "source": [
    "We will be using the ECGs in these files as examples"
   ]
  },
  {
   "cell_type": "code",
   "execution_count": 2,
   "id": "7c7e1cc8-1dc2-4c58-b0c2-fe92eac63c46",
   "metadata": {},
   "outputs": [],
   "source": [
    "fs = 300\n",
    "f0 = 'A00010.npz'\n",
    "f1 = 'A01593.npz'"
   ]
  },
  {
   "cell_type": "markdown",
   "id": "228a1f6b-e971-4f76-bb92-ce97d88fea35",
   "metadata": {},
   "source": [
    "A simple version of the algorithm"
   ]
  },
  {
   "cell_type": "code",
   "execution_count": null,
   "id": "64d194b0-5e9d-4f28-a9b1-035e2f29f153",
   "metadata": {},
   "outputs": [],
   "source": [
    "def BandpassFilter(signal, fs=300):\n",
    "    \"\"\"Bandpass filter the signal between 5 and 15 Hz.\"\"\"\n",
    "    b, a = sp.signal.butter(3, (5, 15), btype='bandpass', fs=fs)\n",
    "    return sp.signal.filtfilt(b, a, signal)\n",
    "\n",
    "def MovingSum(signal, fs=300):\n",
    "    \"\"\"Moving sum operation with window size of 150ms.\"\"\"\n",
    "    n_samples = int(round(fs * 0.150))\n",
    "    return pd.Series(signal).rolling(n_samples, center=True).sum().values\n",
    "\n",
    "def FindPeaks(signal, order=10):\n",
    "    \"\"\"A simple peak detection algorithm.\"\"\"\n",
    "    msk = (signal[order:-order] > signal[:-order * 2]) & (signal[order:-order] > signal[order * 2:])\n",
    "    for o in range(1, order):\n",
    "        msk &= (signal[order:-order] > signal[o: -order * 2 + o])\n",
    "        msk &= (signal[order:-order] > signal[order * 2 - o: -o])\n",
    "    return msk.nonzero()[0] + order\n",
    "\n",
    "def ThresholdPeaks(filtered_signal, pks):\n",
    "    \"\"\"Threshold detected peaks to select the QRS complexes.\"\"\"\n",
    "    thresh = np.mean(filtered_signal[pks])\n",
    "    return pks[filtered_signal[pks] > thresh]\n",
    "\n",
    "def LocalizeMaxima(signal, pks, fs):\n",
    "    \"\"\"Find R-wave peaks in the original, unfiltered signal.\n",
    "    \n",
    "    This function is mostly for aesthetic purposes and not part of the algorithm.\n",
    "    We only do it here because we know that the R-waves are pointing up.\n",
    "    \"\"\"\n",
    "    tpks = []\n",
    "    n_samples = int(round(fs * 0.150))\n",
    "    for p in pks:\n",
    "        tpks.append(np.argmax(signal[p - n_samples: p + n_samples]) + p - n_samples)\n",
    "    return tpks\n",
    "\n",
    "def PanTompkinsPeaks(signal, fs):\n",
    "    \"\"\"Pan-Tompkins QRS complex detection algorithm.\"\"\"\n",
    "    filtered_signal = MovingSum(\n",
    "        np.square(\n",
    "            np.diff(\n",
    "                BandpassFilter(signal, fs))), fs)\n",
    "    fiducial_marks = ThresholdPeaks(filtered_signal, FindPeaks(filtered_signal))\n",
    "    return LocalizeMaxima(signal, fiducial_marks, fs)"
   ]
  }
 ],
 "metadata": {
  "kernelspec": {
   "display_name": "Python 3 (ipykernel)",
   "language": "python",
   "name": "python3"
  },
  "language_info": {
   "codemirror_mode": {
    "name": "ipython",
    "version": 3
   },
   "file_extension": ".py",
   "mimetype": "text/x-python",
   "name": "python",
   "nbconvert_exporter": "python",
   "pygments_lexer": "ipython3",
   "version": "3.9.12"
  }
 },
 "nbformat": 4,
 "nbformat_minor": 5
}
