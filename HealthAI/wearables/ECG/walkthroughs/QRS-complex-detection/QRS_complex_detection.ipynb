{
 "cells": [
  {
   "cell_type": "markdown",
   "metadata": {},
   "source": [
    "# Pan-Tompkins QRS Complex Detection\n",
    "\n",
    "The first step in a lot of ECG processing is finding QRS complexes. The Pan-Tompkins algorithm is a series of pre-processing steps and a detection algorithm for finding these complexes. We'll can see it in action below."
   ]
  },
  {
   "cell_type": "markdown",
   "metadata": {},
   "source": [
    "## Imports"
   ]
  },
  {
   "cell_type": "code",
   "execution_count": null,
   "metadata": {},
   "outputs": [],
   "source": [
    "import glob\n",
    "import os\n",
    "\n",
    "from matplotlib import pyplot as plt\n",
    "import mpld3\n",
    "import numpy as np\n",
    "import pandas as pd\n",
    "import scipy as sp\n",
    "import scipy.io\n",
    "import scipy.signal\n",
    "\n",
    "np.warnings.filterwarnings('ignore')"
   ]
  },
  {
   "cell_type": "markdown",
   "metadata": {},
   "source": [
    "We will be using the ECGs in these files as examples"
   ]
  },
  {
   "cell_type": "code",
   "execution_count": null,
   "metadata": {},
   "outputs": [],
   "source": [
    "fs = 300\n",
    "f0 = 'A00010.npz'\n",
    "f1 = 'A01593.npz'"
   ]
  },
  {
   "cell_type": "markdown",
   "metadata": {},
   "source": [
    "A simple version of the algorithm"
   ]
  },
  {
   "cell_type": "code",
   "execution_count": null,
   "metadata": {},
   "outputs": [],
   "source": [
    "def BandpassFilter(signal, fs=300):\n",
    "    \"\"\"Bandpass filter the signal between 5 and 15 Hz.\"\"\"\n",
    "    b, a = sp.signal.butter(3, (5, 15), btype='bandpass', fs=fs)\n",
    "    return sp.signal.filtfilt(b, a, signal)\n",
    "\n",
    "def MovingSum(signal, fs=300):\n",
    "    \"\"\"Moving sum operation with window size of 150ms.\"\"\"\n",
    "    n_samples = int(round(fs * 0.150))\n",
    "    return pd.Series(signal).rolling(n_samples, center=True).sum().values\n",
    "\n",
    "def FindPeaks(signal, order=10):\n",
    "    \"\"\"A simple peak detection algorithm.\"\"\"\n",
    "    msk = (signal[order:-order] > signal[:-order * 2]) & (signal[order:-order] > signal[order * 2:])\n",
    "    for o in range(1, order):\n",
    "        msk &= (signal[order:-order] > signal[o: -order * 2 + o])\n",
    "        msk &= (signal[order:-order] > signal[order * 2 - o: -o])\n",
    "    return msk.nonzero()[0] + order\n",
    "\n",
    "def ThresholdPeaks(filtered_signal, pks):\n",
    "    \"\"\"Threshold detected peaks to select the QRS complexes.\"\"\"\n",
    "    thresh = np.mean(filtered_signal[pks])\n",
    "    return pks[filtered_signal[pks] > thresh]\n",
    "\n",
    "def LocalizeMaxima(signal, pks, fs):\n",
    "    \"\"\"Find R-wave peaks in the original, unfiltered signal.\n",
    "    \n",
    "    This function is mostly for aesthetic purposes and not part of the algorithm.\n",
    "    We only do it here because we know that the R-waves are pointing up.\n",
    "    \"\"\"\n",
    "    tpks = []\n",
    "    n_samples = int(round(fs * 0.150))\n",
    "    for p in pks:\n",
    "        tpks.append(np.argmax(signal[p - n_samples: p + n_samples]) + p - n_samples)\n",
    "    return tpks\n",
    "\n",
    "def PanTompkinsPeaks(signal, fs):\n",
    "    \"\"\"Pan-Tompkins QRS complex detection algorithm.\"\"\"\n",
    "    filtered_signal = MovingSum(\n",
    "        np.square(\n",
    "            np.diff(\n",
    "                BandpassFilter(signal, fs))), fs)\n",
    "    fiducial_marks = ThresholdPeaks(filtered_signal, FindPeaks(filtered_signal))\n",
    "    return LocalizeMaxima(signal, fiducial_marks, fs)"
   ]
  },
  {
   "cell_type": "markdown",
   "metadata": {},
   "source": [
    "Some plotting helper code"
   ]
  },
  {
   "cell_type": "code",
   "execution_count": null,
   "metadata": {},
   "outputs": [],
   "source": [
    "def Plot(x, fs, xlim=None, title=''):\n",
    "    plt.figure(figsize=(12, 8))\n",
    "    ts = np.arange(len(x)) / fs\n",
    "    plt.plot(ts, x)\n",
    "    pks = PanTompkinsPeaks(x, fs)\n",
    "    plt.plot(ts[pks], x[pks], 'r.', ms=10)\n",
    "    plt.xlabel('Time (sec)')\n",
    "    plt.title(title)\n",
    "    if xlim is not None:\n",
    "        plt.xlim((ts[xlim[0]], ts[xlim[1]]))"
   ]
  },
  {
   "cell_type": "code",
   "execution_count": null,
   "metadata": {},
   "outputs": [],
   "source": [
    "mpld3.enable_notebook()"
   ]
  },
  {
   "cell_type": "markdown",
   "metadata": {},
   "source": [
    "This is an example of a clean ECG signal. The QRS complexes are large, and they occur regularly. Our detector should have no problem with this signal."
   ]
  },
  {
   "cell_type": "code",
   "execution_count": null,
   "metadata": {},
   "outputs": [],
   "source": [
    "with np.load(f0) as f:\n",
    "    v = f['ecg'] * 1000\n",
    "plt.figure(figsize=(10, 6));\n",
    "plt.plot(np.arange(len(v)) / fs, v)\n",
    "plt.xlabel('Time (sec)');"
   ]
  },
  {
   "cell_type": "markdown",
   "metadata": {},
   "source": [
    "Here, we can examine how the pre-processing steps change our signal and make it really easy for the decision algorithm to pick out the right peaks."
   ]
  },
  {
   "cell_type": "code",
   "execution_count": null,
   "metadata": {},
   "outputs": [],
   "source": [
    "ts = np.arange(len(v)) / fs\n",
    "plt.figure(figsize=(10, 6))\n",
    "plt.subplot(2,1,1)\n",
    "plt.plot(ts[2001:3000], MovingSum(np.square(np.diff(BandpassFilter(v, 300)[2000:3000])), fs))\n",
    "plt.title('Pre-processed Signal')\n",
    "plt.subplot(2,1,2);\n",
    "plt.plot(ts[2000:3000], v[2000:3000]);\n",
    "plt.title('Original ECG')\n",
    "plt.xlabel('Time (sec)');"
   ]
  },
  {
   "cell_type": "markdown",
   "metadata": {},
   "source": [
    "After running Pan-Tompkins, we can see that all the peaks are detected."
   ]
  },
  {
   "cell_type": "code",
   "execution_count": null,
   "metadata": {},
   "outputs": [],
   "source": [
    "Plot(v, 300, (2000, 3000))"
   ]
  },
  {
   "cell_type": "markdown",
   "metadata": {},
   "source": [
    "This is an example of a more difficult ECG signal. While the QRS complexes are present, they are less prominent, somtetimes even smaller than the T-waves."
   ]
  },
  {
   "cell_type": "code",
   "execution_count": null,
   "metadata": {},
   "outputs": [],
   "source": [
    "with np.load(f1) as f:\n",
    "    v = f['ecg'] * 1000\n",
    "plt.figure(figsize=(10, 6))\n",
    "plt.plot(np.arange(len(v)) / fs, v)\n",
    "plt.xlabel('Time (sec)');"
   ]
  },
  {
   "cell_type": "markdown",
   "metadata": {},
   "source": [
    "Now, let's take a look at what each of the pre-processing steps do individually.\n",
    "\n",
    "  - Notice that because our pass-band is so tight, the original wave is distorted quite significantly.\n",
    "  - After taking the first difference, we start to capitalize on the QRS complexes' steep slopes, and flatten out other parts of the signal.\n",
    "  - The squaring operation non-linearly amplifies the larger parts of the signal which puts even more separation between the QRS complexes and the T-waves.\n",
    "  - Finally, the moving sum allows us to aggregate all of the energy in the QRS complex, while further flattening out the T-waves.\n",
    "  - After all the pre-processing steps, we have made even the smallest QRS complex bigger than the T-wave."
   ]
  },
  {
   "cell_type": "code",
   "execution_count": null,
   "metadata": {},
   "outputs": [],
   "source": [
    "plt.figure(figsize=(10, 6))\n",
    "plt.subplot(2,1,1)\n",
    "plt.plot(MovingSum(np.square(np.diff(BandpassFilter(v))))[3800:4800])\n",
    "plt.subplot(2,1,2)\n",
    "plt.plot(v[3800:4800])"
   ]
  },
  {
   "cell_type": "markdown",
   "metadata": {},
   "source": [
    "Although our pre-processing steps made the QRS complex larger than the T-wave, our simple decision rule was not able to pick it out."
   ]
  },
  {
   "cell_type": "code",
   "execution_count": null,
   "metadata": {},
   "outputs": [],
   "source": [
    "Plot(v, 300, (3800, 4800))"
   ]
  }
 ],
 "metadata": {
  "kernelspec": {
   "display_name": "Python 3",
   "language": "python",
   "name": "python3"
  },
  "language_info": {
   "codemirror_mode": {
    "name": "ipython",
    "version": 3
   },
   "file_extension": ".py",
   "mimetype": "text/x-python",
   "name": "python",
   "nbconvert_exporter": "python",
   "pygments_lexer": "ipython3",
   "version": "3.6.3"
  }
 },
 "nbformat": 4,
 "nbformat_minor": 2
}
