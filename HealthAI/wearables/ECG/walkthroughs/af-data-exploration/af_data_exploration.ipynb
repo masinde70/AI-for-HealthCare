{
 "cells": [
  {
   "cell_type": "markdown",
   "metadata": {},
   "source": [
    "# Data Exploration\n",
    "\n",
    "Let's examine our ECG dataset"
   ]
  },
  {
   "cell_type": "markdown",
   "metadata": {},
   "source": [
    "## Imports"
   ]
  },
  {
   "cell_type": "code",
   "execution_count": null,
   "metadata": {},
   "outputs": [],
   "source": [
    "import glob\n",
    "\n",
    "from matplotlib import pyplot as plt\n",
    "import numpy as np\n",
    "import pandas as pd"
   ]
  },
  {
   "cell_type": "markdown",
   "metadata": {},
   "source": [
    "## Load Reference Data"
   ]
  },
  {
   "cell_type": "code",
   "execution_count": null,
   "metadata": {},
   "outputs": [],
   "source": [
    "ref = pd.read_csv('../../datasets/cinc/REFERENCE.csv')"
   ]
  },
  {
   "cell_type": "markdown",
   "metadata": {},
   "source": [
    "The reference data is a flat table that tells us what rhythm each record is in. `N` for normal sinus rhythm and `O` for other rhythm. Our task will be to classify ECG signals into these two classes"
   ]
  },
  {
   "cell_type": "code",
   "execution_count": null,
   "metadata": {},
   "outputs": [],
   "source": [
    "ref.head()"
   ]
  },
  {
   "cell_type": "markdown",
   "metadata": {},
   "source": [
    "Class ratio"
   ]
  },
  {
   "cell_type": "markdown",
   "metadata": {},
   "source": [
    "We have roughly 1.5x more sinus rhythm data than other."
   ]
  },
  {
   "cell_type": "code",
   "execution_count": null,
   "metadata": {},
   "outputs": [],
   "source": [
    "ref.rhythm.value_counts()"
   ]
  },
  {
   "cell_type": "markdown",
   "metadata": {},
   "source": [
    "The sampling rate for this dataset is 300 Hz."
   ]
  },
  {
   "cell_type": "code",
   "execution_count": null,
   "metadata": {},
   "outputs": [],
   "source": [
    "fs = 300"
   ]
  },
  {
   "cell_type": "markdown",
   "metadata": {},
   "source": [
    "## Load Raw ECG Data + QRS locations\n",
    "\n",
    "The data is stored in `npz` files. We are given both the raw ECG data as well as the QRS complex locations."
   ]
  },
  {
   "cell_type": "code",
   "execution_count": null,
   "metadata": {},
   "outputs": [],
   "source": [
    "data_dir = '../../datasets/cinc/'\n",
    "files = sorted(glob.glob(data_dir + '*.npz'))\n",
    "ecgs, qrs_inds = [], []\n",
    "for f in files:\n",
    "    with np.load(f) as npz:\n",
    "        ecgs.append(npz['ecg'])\n",
    "        qrs_inds.append(npz['qrs'])"
   ]
  },
  {
   "cell_type": "markdown",
   "metadata": {},
   "source": [
    "Let's take a look at how long each ECG record is."
   ]
  },
  {
   "cell_type": "code",
   "execution_count": null,
   "metadata": {},
   "outputs": [],
   "source": [
    "plt.figure(figsize=(10, 6))\n",
    "plt.hist(np.array(list(map(len, ecgs))) / fs);\n",
    "plt.xlabel('Time (sec)')\n",
    "plt.title('Length of ECG records')"
   ]
  },
  {
   "cell_type": "markdown",
   "metadata": {},
   "source": [
    "Now let's look at the raw ECG data plotted with the QRS locations"
   ]
  },
  {
   "cell_type": "markdown",
   "metadata": {},
   "source": [
    "### Normal sinus rhythm\n",
    "\n",
    "By looking at sinus rhythm data we can get a sense of the noise level in the sensor without dealing with rhythm-induced artifacts."
   ]
  },
  {
   "cell_type": "code",
   "execution_count": null,
   "metadata": {},
   "outputs": [],
   "source": [
    "plt.figure(figsize=(10, 6))\n",
    "ecg, qrs = ecgs[0], qrs_inds[0]\n",
    "ts = np.arange(len(ecg)) / fs\n",
    "plt.plot(ts, ecg)\n",
    "plt.plot(ts[qrs], ecg[qrs], 'r.', ms=10, label='QRS Detections')\n",
    "plt.xlim((12.5, 18.95))\n",
    "plt.xlabel('Time (sec)')\n",
    "plt.ylim((-.37, 1))\n",
    "plt.title('Sinus Rhythm')"
   ]
  },
  {
   "cell_type": "markdown",
   "metadata": {},
   "source": [
    "### Noisy sinus rhythm\n",
    "\n",
    "Sometimes our ECG rhythm will be interrupted by transient noise artifacts, most likely caused by user error or motion artifact. Even in the presence of motion, the QRS detection algorithm still finds QRS complexes. In the presence of noise, there surely might be some error in the QRS detections."
   ]
  },
  {
   "cell_type": "code",
   "execution_count": null,
   "metadata": {},
   "outputs": [],
   "source": [
    "plt.figure(figsize=(10, 6))\n",
    "ecg, qrs = ecgs[1], qrs_inds[1]\n",
    "ts = np.arange(len(ecg)) / fs\n",
    "plt.plot(ts, ecg)\n",
    "plt.plot(ts[qrs], ecg[qrs], 'r.', ms=10, label='QRS Detections')\n",
    "plt.xlim((16.74, 20.91))\n",
    "plt.xlabel('Time (sec)')\n",
    "plt.ylim((-0.68, 1.74))\n",
    "plt.title('Noisy Sinus Rhythm')"
   ]
  },
  {
   "cell_type": "markdown",
   "metadata": {},
   "source": [
    "### Atrial Fibrillation\n",
    "\n",
    "This is an example of an atrial fibrillation ECG. Notice the irregularity in the QRS complex times. This will be the source of most of our features in the algorithm."
   ]
  },
  {
   "cell_type": "code",
   "execution_count": null,
   "metadata": {},
   "outputs": [],
   "source": [
    "plt.figure(figsize=(10, 6))\n",
    "ecg, qrs = ecgs[3], qrs_inds[3]\n",
    "ts = np.arange(len(ecg)) / fs\n",
    "plt.plot(ts, ecg)\n",
    "plt.plot(ts[qrs], ecg[qrs], 'r.', ms=10, label='QRS Detections')\n",
    "plt.xlim((9, 16))\n",
    "plt.xlabel('Time (sec)')\n",
    "plt.ylim((-0.68, 1.6))\n",
    "plt.title('AF Rhythm')"
   ]
  },
  {
   "cell_type": "markdown",
   "metadata": {},
   "source": [
    "Download this notebook and play with the data yourself. Try to find snippets where the QRS detector messes up, or look for `other` records that have a regular rhythm. These are a few challenges that might confuse our algorithm."
   ]
  }
 ],
 "metadata": {
  "kernelspec": {
   "display_name": "Python 3",
   "language": "python",
   "name": "python3"
  },
  "language_info": {
   "codemirror_mode": {
    "name": "ipython",
    "version": 3
   },
   "file_extension": ".py",
   "mimetype": "text/x-python",
   "name": "python",
   "nbconvert_exporter": "python",
   "pygments_lexer": "ipython3",
   "version": "3.7.4"
  }
 },
 "nbformat": 4,
 "nbformat_minor": 2
}
