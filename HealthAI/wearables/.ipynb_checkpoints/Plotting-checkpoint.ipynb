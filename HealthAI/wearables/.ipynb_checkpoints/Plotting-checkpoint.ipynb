{
 "cells": [
  {
   "cell_type": "markdown",
   "id": "807ac42b-54fe-458b-a3c4-7f2f6a023ed5",
   "metadata": {},
   "source": [
    "**Exercise 1: Plotting**\n",
    "\n",
    "You have (hypothetically) built an algorithm that processes ECG data and detects R waves which correspond to ventricular contractions\n",
    "(you will actually build this algorithm in Lesson 4). The R waves have characteristically tall sharp peaks as shown below."
   ]
  },
  {
   "cell_type": "markdown",
   "id": "1bdd3ef3-f4ed-4252-9b61-07eeeb6be2e6",
   "metadata": {},
   "source": [
    "Now you must validate the algorithm that you have built against a labeled reference dataset. You think about using the [European ST-T Database](https://physionet.org/content/edb/1.0.0/). This dataset contains ECG data along with annotations that mark the R wave peaks.\n",
    "\n",
    "As you are exploring the dataset you wonder how accurate its R wave annotations are. Ideally they should mark the apex of the R wave as shown in the Figure. You decide to plot the annotations on top of the ECG signal to qualitatively explore their accuracy.\n",
    "\n",
    "Find the exported part of this dataset in folder. The .npz file contains two numpy arrays. The array ecg is the raw ECG signal sampled at 250 Hz. The array annotations is the sample locations of the R peaks. Your task is to plot the R peaks on top of the ECG trace. The x-axis should be time in seconds. You should end up with something like the solution image."
   ]
  },
  {
   "cell_type": "code",
   "execution_count": 1,
   "id": "e67f65d3-c3ac-46fd-a7d9-b0649df163c4",
   "metadata": {},
   "outputs": [],
   "source": [
    "import numpy as np\n",
    "from matplotlib import pyplot as plt"
   ]
  },
  {
   "cell_type": "code",
   "execution_count": null,
   "id": "bf6112cb-87da-49d4-9b2e-6dbb8b843336",
   "metadata": {},
   "outputs": [],
   "source": []
  }
 ],
 "metadata": {
  "kernelspec": {
   "display_name": "Python 3 (ipykernel)",
   "language": "python",
   "name": "python3"
  },
  "language_info": {
   "codemirror_mode": {
    "name": "ipython",
    "version": 3
   },
   "file_extension": ".py",
   "mimetype": "text/x-python",
   "name": "python",
   "nbconvert_exporter": "python",
   "pygments_lexer": "ipython3",
   "version": "3.9.12"
  }
 },
 "nbformat": 4,
 "nbformat_minor": 5
}
