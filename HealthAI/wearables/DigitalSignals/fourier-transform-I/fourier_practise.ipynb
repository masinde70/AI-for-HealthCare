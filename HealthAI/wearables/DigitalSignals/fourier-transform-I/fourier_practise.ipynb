{
 "cells": [
  {
   "cell_type": "markdown",
   "id": "089fc69b-51ed-4476-a714-7461ea61821e",
   "metadata": {},
   "source": [
    "# Fourier Transform In Practice\n",
    "\n",
    "Now that we know what the Fourier transform is, let's use it to solve some problems."
   ]
  },
  {
   "cell_type": "code",
   "execution_count": null,
   "id": "12266abd-8019-4b64-b41d-8d89f1386fed",
   "metadata": {},
   "outputs": [],
   "source": []
  },
  {
   "cell_type": "code",
   "execution_count": null,
   "id": "d3e253bf-13b9-4a80-8d2b-e37b0dc97f12",
   "metadata": {},
   "outputs": [],
   "source": []
  },
  {
   "cell_type": "code",
   "execution_count": 1,
   "id": "198800e6-499f-47e0-b363-b28e5610a59c",
   "metadata": {},
   "outputs": [
    {
     "name": "stdout",
     "output_type": "stream",
     "text": [
      "Requirement already satisfied: mpld3 in /home/masinde/miniconda3/envs/ml/lib/python3.9/site-packages (0.5.8)\n",
      "Requirement already satisfied: matplotlib in /home/masinde/miniconda3/envs/ml/lib/python3.9/site-packages (from mpld3) (3.5.1)\n",
      "Requirement already satisfied: jinja2 in /home/masinde/miniconda3/envs/ml/lib/python3.9/site-packages (from mpld3) (3.1.2)\n",
      "Requirement already satisfied: MarkupSafe>=2.0 in /home/masinde/miniconda3/envs/ml/lib/python3.9/site-packages (from jinja2->mpld3) (2.1.1)\n",
      "Requirement already satisfied: packaging>=20.0 in /home/masinde/miniconda3/envs/ml/lib/python3.9/site-packages (from matplotlib->mpld3) (21.3)\n",
      "Requirement already satisfied: kiwisolver>=1.0.1 in /home/masinde/miniconda3/envs/ml/lib/python3.9/site-packages (from matplotlib->mpld3) (1.3.2)\n",
      "Requirement already satisfied: pillow>=6.2.0 in /home/masinde/miniconda3/envs/ml/lib/python3.9/site-packages (from matplotlib->mpld3) (9.1.1)\n",
      "Requirement already satisfied: fonttools>=4.22.0 in /home/masinde/miniconda3/envs/ml/lib/python3.9/site-packages (from matplotlib->mpld3) (4.25.0)\n",
      "Requirement already satisfied: pyparsing>=2.2.1 in /home/masinde/miniconda3/envs/ml/lib/python3.9/site-packages (from matplotlib->mpld3) (3.0.9)\n",
      "Requirement already satisfied: numpy>=1.17 in /home/masinde/miniconda3/envs/ml/lib/python3.9/site-packages (from matplotlib->mpld3) (1.22.3)\n",
      "Requirement already satisfied: python-dateutil>=2.7 in /home/masinde/miniconda3/envs/ml/lib/python3.9/site-packages (from matplotlib->mpld3) (2.8.2)\n",
      "Requirement already satisfied: cycler>=0.10 in /home/masinde/miniconda3/envs/ml/lib/python3.9/site-packages (from matplotlib->mpld3) (0.11.0)\n",
      "Requirement already satisfied: six>=1.5 in /home/masinde/miniconda3/envs/ml/lib/python3.9/site-packages (from python-dateutil>=2.7->matplotlib->mpld3) (1.16.0)\n"
     ]
    }
   ],
   "source": [
    "mpld3.enable_notebook()"
   ]
  },
  {
   "cell_type": "code",
   "execution_count": null,
   "id": "5af54c60-edc0-4f94-b1c9-7a83fbd4a846",
   "metadata": {},
   "outputs": [],
   "source": []
  }
 ],
 "metadata": {
  "kernelspec": {
   "display_name": "Python 3 (ipykernel)",
   "language": "python",
   "name": "python3"
  },
  "language_info": {
   "codemirror_mode": {
    "name": "ipython",
    "version": 3
   },
   "file_extension": ".py",
   "mimetype": "text/x-python",
   "name": "python",
   "nbconvert_exporter": "python",
   "pygments_lexer": "ipython3",
   "version": "3.9.12"
  }
 },
 "nbformat": 4,
 "nbformat_minor": 5
}
