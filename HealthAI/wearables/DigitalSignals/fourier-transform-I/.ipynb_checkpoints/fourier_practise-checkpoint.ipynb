{
 "cells": [
  {
   "cell_type": "markdown",
   "id": "089fc69b-51ed-4476-a714-7461ea61821e",
   "metadata": {},
   "source": [
    "# Fourier Transform In Practice\n",
    "\n",
    "Now that we know what the Fourier transform is, let's use it to solve some problems."
   ]
  },
  {
   "cell_type": "markdown",
   "id": "01f317df-cdfa-4082-9bc3-f4d613d6b229",
   "metadata": {},
   "source": [
    "## Imports\n",
    "Begin with our traditional imports. "
   ]
  },
  {
   "cell_type": "code",
   "execution_count": 2,
   "id": "d3e253bf-13b9-4a80-8d2b-e37b0dc97f12",
   "metadata": {},
   "outputs": [],
   "source": [
    "import numpy as np\n",
    "from matplotlib import pyplot as plt\n",
    "import mpld3\n",
    "import scipy as sp\n",
    "from scipy import io, signal"
   ]
  },
  {
   "cell_type": "code",
   "execution_count": 3,
   "id": "c03af849-241e-4c9c-aa2d-2e36fa34c78f",
   "metadata": {},
   "outputs": [],
   "source": [
    "%matplotlib inline"
   ]
  },
  {
   "cell_type": "code",
   "execution_count": 4,
   "id": "198800e6-499f-47e0-b363-b28e5610a59c",
   "metadata": {},
   "outputs": [],
   "source": [
    "mpld3.enable_notebook()"
   ]
  },
  {
   "cell_type": "markdown",
   "id": "e58d9bf1-0434-47d4-b894-1787ad0fe84b",
   "metadata": {},
   "source": [
    "## Computing the Fourier Transform"
   ]
  },
  {
   "cell_type": "markdown",
   "id": "064f69a2-a770-4221-a7c0-0c8296b9eb88",
   "metadata": {},
   "source": [
    "Let's make a signal that is composed of two sine waves at 2 Hz and 3 Hz plus some random noise."
   ]
  },
  {
   "cell_type": "code",
   "execution_count": 5,
   "id": "4bdf2376-d140-4c9c-aa40-b97b3acccede",
   "metadata": {},
   "outputs": [],
   "source": [
    "fs = 50\n",
    "ts = np.arange(0, 10, 1/fs)\n",
    "s2 = np.sin(2 * np.pi * 2 * ts)\n",
    "s3 = np.sin(2 * np.pi * 3 * ts)\n",
    "s = s2 + s3 + np.random.randn(len(s2)) * 1"
   ]
  },
  {
   "cell_type": "markdown",
   "id": "b0239b62-87c8-4ae5-b5a0-7304835a622e",
   "metadata": {},
   "source": [
    "We use the np.fft module to help us compute the Fourier transform. rfftfreq tells us the frequencies for which we are computing the Fourier transform. rfft computes the actual Fourier transform coefficients. We use the rfft and rfftfreq functions instead of fft and fftfreq because we know our signals will only ever contain real numbers (as opposed to complex). You don't really need to know the difference for now."
   ]
  },
  {
   "cell_type": "code",
   "execution_count": 6,
   "id": "4dbca4c9-c94e-4556-845e-b692154680ad",
   "metadata": {},
   "outputs": [],
   "source": [
    "freqs = np.fft.rfftfreq(len(s), 1/fs)\n",
    "fft = np.fft.rfft(s)"
   ]
  },
  {
   "cell_type": "markdown",
   "id": "fabb6a36-24de-433e-866b-b295842e092d",
   "metadata": {},
   "source": [
    "By examining freqs, we see that the FFT samples the Fourier transform uniformly from 0 Hz to the Nyquist frequency, which in this case is 25 Hz because our sampling rate is 50 Hz."
   ]
  },
  {
   "cell_type": "code",
   "execution_count": 7,
   "id": "e8d6319b-35c3-4ac3-aa32-7d492964c6f3",
   "metadata": {},
   "outputs": [
    {
     "data": {
      "text/plain": [
       "array([ 0. ,  0.1,  0.2,  0.3,  0.4,  0.5,  0.6,  0.7,  0.8,  0.9,  1. ,\n",
       "        1.1,  1.2,  1.3,  1.4,  1.5,  1.6,  1.7,  1.8,  1.9,  2. ,  2.1,\n",
       "        2.2,  2.3,  2.4,  2.5,  2.6,  2.7,  2.8,  2.9,  3. ,  3.1,  3.2,\n",
       "        3.3,  3.4,  3.5,  3.6,  3.7,  3.8,  3.9,  4. ,  4.1,  4.2,  4.3,\n",
       "        4.4,  4.5,  4.6,  4.7,  4.8,  4.9,  5. ,  5.1,  5.2,  5.3,  5.4,\n",
       "        5.5,  5.6,  5.7,  5.8,  5.9,  6. ,  6.1,  6.2,  6.3,  6.4,  6.5,\n",
       "        6.6,  6.7,  6.8,  6.9,  7. ,  7.1,  7.2,  7.3,  7.4,  7.5,  7.6,\n",
       "        7.7,  7.8,  7.9,  8. ,  8.1,  8.2,  8.3,  8.4,  8.5,  8.6,  8.7,\n",
       "        8.8,  8.9,  9. ,  9.1,  9.2,  9.3,  9.4,  9.5,  9.6,  9.7,  9.8,\n",
       "        9.9, 10. , 10.1, 10.2, 10.3, 10.4, 10.5, 10.6, 10.7, 10.8, 10.9,\n",
       "       11. , 11.1, 11.2, 11.3, 11.4, 11.5, 11.6, 11.7, 11.8, 11.9, 12. ,\n",
       "       12.1, 12.2, 12.3, 12.4, 12.5, 12.6, 12.7, 12.8, 12.9, 13. , 13.1,\n",
       "       13.2, 13.3, 13.4, 13.5, 13.6, 13.7, 13.8, 13.9, 14. , 14.1, 14.2,\n",
       "       14.3, 14.4, 14.5, 14.6, 14.7, 14.8, 14.9, 15. , 15.1, 15.2, 15.3,\n",
       "       15.4, 15.5, 15.6, 15.7, 15.8, 15.9, 16. , 16.1, 16.2, 16.3, 16.4,\n",
       "       16.5, 16.6, 16.7, 16.8, 16.9, 17. , 17.1, 17.2, 17.3, 17.4, 17.5,\n",
       "       17.6, 17.7, 17.8, 17.9, 18. , 18.1, 18.2, 18.3, 18.4, 18.5, 18.6,\n",
       "       18.7, 18.8, 18.9, 19. , 19.1, 19.2, 19.3, 19.4, 19.5, 19.6, 19.7,\n",
       "       19.8, 19.9, 20. , 20.1, 20.2, 20.3, 20.4, 20.5, 20.6, 20.7, 20.8,\n",
       "       20.9, 21. , 21.1, 21.2, 21.3, 21.4, 21.5, 21.6, 21.7, 21.8, 21.9,\n",
       "       22. , 22.1, 22.2, 22.3, 22.4, 22.5, 22.6, 22.7, 22.8, 22.9, 23. ,\n",
       "       23.1, 23.2, 23.3, 23.4, 23.5, 23.6, 23.7, 23.8, 23.9, 24. , 24.1,\n",
       "       24.2, 24.3, 24.4, 24.5, 24.6, 24.7, 24.8, 24.9, 25. ])"
      ]
     },
     "execution_count": 7,
     "metadata": {},
     "output_type": "execute_result"
    }
   ],
   "source": [
    "freqs"
   ]
  },
  {
   "cell_type": "markdown",
   "id": "ae76a7d1-b5f1-4cd2-8162-aec4c9947282",
   "metadata": {},
   "source": [
    "The actual Fourier transform coefficients are complex numbers because they describe not only the magnitude of the frequency component in the signal but also its phase. Most of the time, we're just interested in the magnitude, which we can get by using np.abs."
   ]
  },
  {
   "cell_type": "code",
   "execution_count": 8,
   "id": "45d0cf68-7389-4680-ad7c-e4b3499e8d70",
   "metadata": {},
   "outputs": [
    {
     "data": {
      "text/plain": [
       "array([ 40.10549818,  19.26592311,  11.47784404,  18.9819256 ,\n",
       "        20.1251061 ,   9.66942295,  13.44446909,  17.7007404 ,\n",
       "        18.87524099,  22.1605334 ,  10.97687414,   5.50146152,\n",
       "        14.2819682 ,   4.14955573,  44.23597373,  20.88074194,\n",
       "        30.12231081,   8.33980707,  22.40884896,  15.61773515,\n",
       "       235.75728386,   9.83437263,   5.55829988,  20.88420673,\n",
       "        15.19265971,  18.65559676,  33.51552043,   2.36357906,\n",
       "         5.96330075,  21.95349065, 246.15220556,  38.92474806,\n",
       "        23.0724274 ,  10.00554059,   8.18357163,  13.43658501,\n",
       "        10.57140882,   5.37684706,  21.39285847,  33.67340033,\n",
       "        12.3212652 ,  26.21553104,  29.61563459,  27.03757141,\n",
       "        26.11770444,  21.57813261,  13.16916722,  32.51785285,\n",
       "         7.9393807 ,  18.24651314,  28.271558  ,  17.28255063,\n",
       "         9.79082902,  40.2760335 ,  15.57898696,  17.3329477 ,\n",
       "        27.40168434,   3.68007181,  11.92860687,  33.71878358,\n",
       "        22.54727801,  22.13906742,   8.67322456,  22.39557579,\n",
       "        20.48887315,  11.06715078,  19.30414403,   9.85316919,\n",
       "        21.68588469,  29.94571389,  57.97125259,   4.03403293,\n",
       "        17.89293633,  25.34267334,  21.67076992,   8.9673318 ,\n",
       "        30.74395612,  16.98170779,  18.85069005,  27.20635797,\n",
       "        12.84865073,  28.18484427,  23.10322232,  17.14606312,\n",
       "        21.88366469,  33.67573299,   5.385235  ,  37.71006689,\n",
       "        56.14085813,   7.54304387,  33.06255509,  11.92725518,\n",
       "         8.27596871,  18.02367852,  14.79834789,  14.27579842,\n",
       "        11.87198017,  14.9566789 ,  35.94100609,  24.37349247,\n",
       "         3.99947171,  16.29774622,  36.7701525 ,  28.7945712 ,\n",
       "        14.5307065 ,   4.42810921,  20.4200299 ,  19.68722362,\n",
       "         6.59380166,  22.18383706,  26.42456742,   4.32989817,\n",
       "        25.56983603,  23.13344882,  23.15176405,  31.99509504,\n",
       "        10.30887437,  17.85248663,  15.80550319,   8.89894158,\n",
       "        16.65836166,  10.8472028 ,  12.94207425,  25.12864874,\n",
       "        18.02305638,  17.724081  ,   5.52447353,  23.4092504 ,\n",
       "         4.60296592,   7.10731824,   8.66641137,  30.84794605,\n",
       "        11.0806134 ,  11.639727  ,  13.65696725,  16.05808816,\n",
       "        24.43760948,  26.50939322,   7.1371979 ,  23.31278718,\n",
       "        28.50001121,  11.77870718,  15.08291288,  20.15417044,\n",
       "        30.17593486,  39.5496793 ,   8.85932638,   4.87039197,\n",
       "        12.32175198,   4.15285434,  23.2845559 ,  21.33806487,\n",
       "         9.63476893,  29.68100808,  31.44851739,  17.67041245,\n",
       "         6.07400423,  18.70377201,   5.77464746,  30.71165401,\n",
       "         4.5852733 ,  31.62537403,   5.39653298,  22.00520398,\n",
       "        29.41665713,  42.87730408,   4.94505999,  34.94513353,\n",
       "         3.51017786,  25.67552357,  23.65719394,  16.84747149,\n",
       "        27.18667925,  20.1663483 ,  26.78311397,  23.65032586,\n",
       "        21.5362317 ,  29.51782381,   7.62249023,  15.18516746,\n",
       "        10.97307424,  27.67074669,  24.0603658 ,  37.41963806,\n",
       "        21.79247029,   7.24208749,  36.86588893,  40.76854182,\n",
       "        28.49122954,  18.00825042,  23.42341904,  21.49458857,\n",
       "        33.99456412,  19.86777164,  18.94506202,  15.73437527,\n",
       "        28.3443027 ,   9.07314205,  10.450126  ,  14.3037737 ,\n",
       "        30.63539501,  46.33272735,  37.18745489,  16.44208173,\n",
       "        24.17571151,  34.92667612,  29.29198966,  17.05710603,\n",
       "        14.1101482 ,  11.49191937,  11.46119944,  14.63832052,\n",
       "        19.92657771,  30.56030848,   7.32148786,  18.25616394,\n",
       "        32.67742756,  33.71082314,  20.63718504,  30.64161874,\n",
       "        14.3468933 ,   2.00994814,   5.74899936,  10.21249753,\n",
       "         6.47216741,  22.44975794,  14.18979146,   6.1215152 ,\n",
       "        27.61667849,  27.08074802,  25.19452236,  11.35325132,\n",
       "        23.43870844,  10.15618919,  19.00966899,  28.52824767,\n",
       "        17.84007725,  15.34538288,  21.63820575,  27.00816292,\n",
       "        33.67754588,   4.2167692 ,  38.54451484,   5.69266864,\n",
       "        10.39813568,  14.12583042,  26.35203923,  39.31524718,\n",
       "        18.69789178,  27.89165056,  32.03380073])"
      ]
     },
     "execution_count": 8,
     "metadata": {},
     "output_type": "execute_result"
    }
   ],
   "source": [
    "np.abs(fft)"
   ]
  },
  {
   "cell_type": "markdown",
   "id": "67fe748f-ca73-46a8-b6a7-9f261abac8e1",
   "metadata": {},
   "source": [
    "The output of the real FFT is half the length of the input signal (plus 1)."
   ]
  },
  {
   "cell_type": "code",
   "execution_count": null,
   "id": "a2fb84ba-3fe0-492c-8148-18085cb8f928",
   "metadata": {},
   "outputs": [],
   "source": []
  }
 ],
 "metadata": {
  "kernelspec": {
   "display_name": "Python 3 (ipykernel)",
   "language": "python",
   "name": "python3"
  },
  "language_info": {
   "codemirror_mode": {
    "name": "ipython",
    "version": 3
   },
   "file_extension": ".py",
   "mimetype": "text/x-python",
   "name": "python",
   "nbconvert_exporter": "python",
   "pygments_lexer": "ipython3",
   "version": "3.9.12"
  }
 },
 "nbformat": 4,
 "nbformat_minor": 5
}
