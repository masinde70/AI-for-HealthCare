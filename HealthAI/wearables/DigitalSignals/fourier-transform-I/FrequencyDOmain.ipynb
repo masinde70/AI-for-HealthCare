{
 "cells": [
  {
   "cell_type": "markdown",
   "id": "d0ad44f9-37c5-4acb-ab24-dda908462dfe",
   "metadata": {},
   "source": [
    "# Frequency Domain Plotting\n",
    "\n",
    "In this lesson, we're going to learn about a more advanced tool for plotting signals in the frequency domain. Up until now, we have just been plotting the FFT of a signal in much the same way we plot time-domain signals. But as you'll soon see, this can sometimes be misleading."
   ]
  },
  {
   "cell_type": "markdown",
   "id": "c68ed3c3-9343-4fa6-bdd7-8018f376c67f",
   "metadata": {},
   "source": [
    "mpld3.enable_notebook()"
   ]
  },
  {
   "cell_type": "markdown",
   "id": "30630f41-3dbb-407b-a0d1-20117713a9c8",
   "metadata": {},
   "source": [
    "# Imports"
   ]
  },
  {
   "cell_type": "code",
   "execution_count": 2,
   "id": "9ac13836-4bb4-4306-884f-6663df679b92",
   "metadata": {},
   "outputs": [],
   "source": [
    "import numpy as np\n",
    "from matplotlib import pyplot as plt"
   ]
  },
  {
   "cell_type": "markdown",
   "id": "559f0760-05ef-425e-81db-f3c0de7e83c5",
   "metadata": {},
   "source": [
    "## Make Signal\n",
    "Let's make a signal whose frequency components change over time."
   ]
  },
  {
   "cell_type": "code",
   "execution_count": 3,
   "id": "e5c88200-1d00-47d5-8bdf-5dbaa32d9f84",
   "metadata": {},
   "outputs": [],
   "source": [
    "fs = 200\n",
    "T = 120\n",
    "f0, f1 = 0, 10\n",
    "ts = np.arange(0, T, 1/fs)\n",
    "c = (f1 - f0) / T\n",
    "sig = np.sin(2 * np.pi * (c / 2 * np.square(ts) + f0 * ts))"
   ]
  },
  {
   "cell_type": "markdown",
   "id": "a5184569-27d1-4021-b452-7289f70f1a9d",
   "metadata": {},
   "source": [
    "This signal is a sine wave that starts off at 0 Hz and slowly starts to increase in frequency up to 10 Hz."
   ]
  },
  {
   "cell_type": "code",
   "execution_count": null,
   "id": "699e52b2-4efd-4bd2-a70e-bce76cc14c01",
   "metadata": {},
   "outputs": [],
   "source": []
  }
 ],
 "metadata": {
  "kernelspec": {
   "display_name": "Python 3 (ipykernel)",
   "language": "python",
   "name": "python3"
  },
  "language_info": {
   "codemirror_mode": {
    "name": "ipython",
    "version": 3
   },
   "file_extension": ".py",
   "mimetype": "text/x-python",
   "name": "python",
   "nbconvert_exporter": "python",
   "pygments_lexer": "ipython3",
   "version": "3.9.12"
  }
 },
 "nbformat": 4,
 "nbformat_minor": 5
}
