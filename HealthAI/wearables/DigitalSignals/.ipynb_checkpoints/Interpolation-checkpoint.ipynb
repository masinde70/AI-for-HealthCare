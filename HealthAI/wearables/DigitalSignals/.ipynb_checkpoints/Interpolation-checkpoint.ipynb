{
 "cells": [
  {
   "cell_type": "markdown",
   "id": "d924351b-3f8d-48f7-bd92-d3c9d06a20e3",
   "metadata": {},
   "source": [
    "**Interpolation**\n",
    "\n",
    "Interpolation which is a technique that allows us to work with multiple signals that are sampled differently in time. \n",
    "We saw 2 signals that are both 1 Hz sine waves, but the one that is sampled at 60 Hz has many more data points than the one sampled at 25 Hz. \n",
    "After plotting and verifying the lengths of the signals, it might appear that s2_interp and s1 are the same, but it is most certainly not! \n",
    "By plotting the original and the interpolated signal together we can see that linear interpolation estimates points \n",
    "in between existing points by using a weighted average of the original points."
   ]
  },
  {
   "cell_type": "markdown",
   "id": "b06ed5ca-6751-4a9f-be14-ca3a09f7f60b",
   "metadata": {},
   "source": [
    "We've previously discussed how signals are sampled at discrete points in time.\n",
    "When we want to work with multiple signals that are sampled differently in time, \n",
    "we need techniques that allow us to compare them. Interpolation is a technique to estimate a signal at points in time between existing samples.\n",
    "\n",
    "Let's see how it works."
   ]
  },
  {
   "cell_type": "code",
   "execution_count": 1,
   "id": "eaf3b826-2437-47fc-98ba-75385361cce3",
   "metadata": {},
   "outputs": [],
   "source": [
    "import numpy as np\n",
    "import scipy as sp\n",
    "from matplotlib import pyplot as plt\n",
    "from scipy import signal"
   ]
  },
  {
   "cell_type": "code",
   "execution_count": null,
   "id": "f32ae38e-edf9-4744-a0e8-a5164d1e35ac",
   "metadata": {},
   "outputs": [],
   "source": []
  }
 ],
 "metadata": {
  "kernelspec": {
   "display_name": "Python 3 (ipykernel)",
   "language": "python",
   "name": "python3"
  },
  "language_info": {
   "codemirror_mode": {
    "name": "ipython",
    "version": 3
   },
   "file_extension": ".py",
   "mimetype": "text/x-python",
   "name": "python",
   "nbconvert_exporter": "python",
   "pygments_lexer": "ipython3",
   "version": "3.9.12"
  }
 },
 "nbformat": 4,
 "nbformat_minor": 5
}
