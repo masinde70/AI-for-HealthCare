{
 "cells": [
  {
   "cell_type": "markdown",
   "id": "0480fb33-d61c-4647-8404-b206ee8d775f",
   "metadata": {},
   "source": [
    "# Exercise 2: Interpolation"
   ]
  },
  {
   "cell_type": "markdown",
   "id": "b5dcb3fd-003e-4d0f-b951-5550eb2f788f",
   "metadata": {},
   "source": [
    "You want to use your (still hypothetical) R wave detection algorithm to output heart rate. You can easily compute heart rate by taking the difference between successive R wave peak times because the R wave corresponds to a heart beat. The heart rate is then just the reciprocal of the inter-beat-interval time. \n",
    "\n",
    "You find a dataset that has an ECG signal and a reference heart rate datastream. After running your algorithm on the dataset, you have a series of R wave peak times. The heart rates that you get from the inter-beat-interval times will be non-uniformly sequenced because the heart beats at non-uniform intervals. The reference heart rate is uniformly sampled, however. To compare these two datastreams you will need to interpolate your heart rate onto the reference stream first.\n",
    "\n",
    "The data you need is stored in the `npz` file as follows:  \n",
    " - `est_r_peaks` - the timestamps in seconds of the r peaks detected by your algorithm\n",
    " - `ref_ts` - the timestamps in seconds of the reference heart rate\n",
    " - `ref_hr` - the reference heart rate values in beats per minute\n",
    "\n",
    "You must first derive heart rate from your sequence of R peaks. Then interpolate your estimate heart rate stream to match up with the reference stream. Finally, compute the mean absolute error between the reference stream your estimate heart rate. The mean absolute error is the average absolute difference between each estimate heart rate and its reference value."
   ]
  },
  {
   "cell_type": "markdown",
   "id": "9c14739e-7086-4928-8ef9-8f81fa1dab7c",
   "metadata": {},
   "source": [
    "# Imports"
   ]
  },
  {
   "cell_type": "code",
   "execution_count": 1,
   "id": "c50f1338-788b-4176-8118-825bac7638f7",
   "metadata": {},
   "outputs": [],
   "source": [
    "import numpy as np"
   ]
  },
  {
   "cell_type": "markdown",
   "id": "235c55ff-166b-4da4-a39d-401a1733340d",
   "metadata": {},
   "source": [
    "# Load Data"
   ]
  },
  {
   "cell_type": "code",
   "execution_count": 2,
   "id": "bc00ca04-2997-4c02-9479-db03b52f59a7",
   "metadata": {},
   "outputs": [],
   "source": [
    "npz = np.load(\"./exercise2.npz\")\n",
    "est_r_peaks = npz['est_r_peaks']\n",
    "ref_ts = npz['ref_ts']\n",
    "ref_hr = npz['ref_hr']"
   ]
  },
  {
   "cell_type": "markdown",
   "id": "7f65faff-1c94-4284-9b06-a16f3f33665d",
   "metadata": {},
   "source": [
    "# Estimate heart rate"
   ]
  },
  {
   "cell_type": "code",
   "execution_count": 3,
   "id": "2ac8b255-aeb7-4b9e-b47c-ef343e9cb076",
   "metadata": {},
   "outputs": [],
   "source": [
    "est_ts = est_r_peaks[1:]\n",
    "est_hr = 1 / np.diff(est_r_peaks) * 60"
   ]
  },
  {
   "cell_type": "markdown",
   "id": "6df8e41c-367f-443e-9143-2e0db55dadf7",
   "metadata": {},
   "source": [
    "# Interpolate"
   ]
  },
  {
   "cell_type": "code",
   "execution_count": 4,
   "id": "c0838a54-f1b3-496d-be4b-76a48a45a00c",
   "metadata": {},
   "outputs": [],
   "source": [
    "interp_est_hr = np.interp(ref_ts, est_ts, est_hr)"
   ]
  },
  {
   "cell_type": "markdown",
   "id": "f52a8fd5-2cfa-4b6c-b8c7-3a539f3ec54b",
   "metadata": {},
   "source": [
    "# Compute MAE"
   ]
  },
  {
   "cell_type": "code",
   "execution_count": 5,
   "id": "998df992-7fbb-4625-82f8-9f90e3dfaec5",
   "metadata": {},
   "outputs": [
    {
     "name": "stdout",
     "output_type": "stream",
     "text": [
      "3.935457503943592\n"
     ]
    }
   ],
   "source": [
    "mae = np.mean(np.abs(interp_est_hr - ref_hr))\n",
    "print(mae)"
   ]
  },
  {
   "cell_type": "markdown",
   "id": "3bf0b64d-d13b-46a2-871a-0c15332f5500",
   "metadata": {},
   "source": [
    "[explanation](https://www.youtube.com/watch?v=O49HkDz-DwQ&t=47s&ab_channel=Udacity)"
   ]
  },
  {
   "cell_type": "markdown",
   "id": "4d9c3f8a-f959-405d-b920-3db670d548cc",
   "metadata": {},
   "source": [
    "**Key Takeaways**\n",
    "- Deriving instantaneous heart rate from R peak locations\n",
    "- Using interpolation to normalize a non-uniformly sampled signal\n",
    "- Using interpolation to align estimates with reference data streams"
   ]
  }
 ],
 "metadata": {
  "kernelspec": {
   "display_name": "Python 3 (ipykernel)",
   "language": "python",
   "name": "python3"
  },
  "language_info": {
   "codemirror_mode": {
    "name": "ipython",
    "version": 3
   },
   "file_extension": ".py",
   "mimetype": "text/x-python",
   "name": "python",
   "nbconvert_exporter": "python",
   "pygments_lexer": "ipython3",
   "version": "3.9.12"
  }
 },
 "nbformat": 4,
 "nbformat_minor": 5
}
