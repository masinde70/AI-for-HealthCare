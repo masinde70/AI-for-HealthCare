{
 "cells": [
  {
   "cell_type": "markdown",
   "id": "dff77504-58b2-4bbe-a69a-beae9d459a23",
   "metadata": {},
   "source": [
    "### Exercise 1: Step Cadence\n",
    "In this exercise, you are given an wrist-worn accelerometer signal of someone who is running. Using your knowledge of signal processing from the last lesson, \n",
    "what you just learned about accelerometers, and the information below, estimate the distance that the wearer ran.\n",
    "\n",
    "- The step rate is the largest frequency component in the accelerometer signal\n",
    "- The wearer's average step length is 55 inches\n",
    "\n",
    "\n",
    "## Imports"
   ]
  },
  {
   "cell_type": "code",
   "execution_count": 1,
   "id": "06acb898-3b12-4a75-b3c1-c5801d1260c3",
   "metadata": {},
   "outputs": [],
   "source": [
    "from matplotlib import pyplot as plt\n",
    "import numpy as np"
   ]
  },
  {
   "cell_type": "markdown",
   "id": "ebe0feff-63cf-44e7-93e9-638fc761b7f8",
   "metadata": {},
   "source": [
    "## Load Data"
   ]
  },
  {
   "cell_type": "code",
   "execution_count": null,
   "id": "4a4ba275-4e33-4e6e-b5f6-f1900e30f4be",
   "metadata": {},
   "outputs": [],
   "source": [
    "with np.load('exercise1.npz') as npz:\n",
    "    fs = npz['fs']    # The sampling rate \n",
    "    acc = npz['acc']  # The accelerometer signal"
   ]
  },
  {
   "cell_type": "markdown",
   "id": "83d1adf8-9e16-4d50-9778-812e26414919",
   "metadata": {},
   "source": [
    "## Estimate Distance Ran"
   ]
  }
 ],
 "metadata": {
  "kernelspec": {
   "display_name": "Python 3 (ipykernel)",
   "language": "python",
   "name": "python3"
  },
  "language_info": {
   "codemirror_mode": {
    "name": "ipython",
    "version": 3
   },
   "file_extension": ".py",
   "mimetype": "text/x-python",
   "name": "python",
   "nbconvert_exporter": "python",
   "pygments_lexer": "ipython3",
   "version": "3.8.10"
  }
 },
 "nbformat": 4,
 "nbformat_minor": 5
}
