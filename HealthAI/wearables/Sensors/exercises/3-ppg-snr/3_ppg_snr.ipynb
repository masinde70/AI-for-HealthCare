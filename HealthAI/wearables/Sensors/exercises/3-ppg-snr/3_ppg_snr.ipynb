{
 "cells": [
  {
   "cell_type": "markdown",
   "metadata": {},
   "source": [
    "# Exercise 3: PPG SNR\n",
    "\n",
    "A useful task for evaluating PPG signals is computing the signal-to-noise ratio (SNR). The SNR of a signal is a measure of how noisy the signal. High SNRs mean that the signal has very little noise. Often times, calculating the SNR is more of an art than a science because very often, we don't know which parts of the signal are noise and which are not.\n",
    "\n",
    "When you have a PPG signal with a contemporaneous reference pulse rate, you can use that pulse rate to approximate the SNR of the PPG signal. Ideally, most of the energy in the Fourier transform of the signal should be concentrated around the pulse rate frequency (and any harmonics of that frequency). So one measure of SNR would be the ratio of energy around the pulse rate frequency (and harmonics) to the amount of energy elsewhere.\n",
    "\n",
    "This exercise will guide you through this process for three different signals."
   ]
  },
  {
   "cell_type": "markdown",
   "metadata": {},
   "source": [
    "## Imports"
   ]
  },
  {
   "cell_type": "code",
   "execution_count": null,
   "metadata": {},
   "outputs": [],
   "source": [
    "import numpy as np\n",
    "from matplotlib import pyplot as plt"
   ]
  },
  {
   "cell_type": "code",
   "execution_count": null,
   "metadata": {},
   "outputs": [],
   "source": [
    "import mpld3\n",
    "mpld3.enable_notebook()"
   ]
  },
  {
   "cell_type": "markdown",
   "metadata": {},
   "source": [
    "## Load Data"
   ]
  },
  {
   "cell_type": "markdown",
   "metadata": {},
   "source": [
    "You are given 3 different signals along with the average heart rate for that signal in beats per minute (BPM)."
   ]
  },
  {
   "cell_type": "code",
   "execution_count": null,
   "metadata": {},
   "outputs": [],
   "source": [
    "fs = 125\n",
    "with np.load('./exercise3.npz') as npz:\n",
    "    sig0 = npz['sig0']\n",
    "    hr0_bpm = npz['hr0_bpm']\n",
    "    sig1 = npz['sig1']\n",
    "    hr1_bpm = npz['hr1_bpm']\n",
    "    sig2 = npz['sig2']\n",
    "    hr2_bpm = npz['hr2_bpm']"
   ]
  },
  {
   "cell_type": "markdown",
   "metadata": {},
   "source": [
    "## Data Exploration"
   ]
  },
  {
   "cell_type": "markdown",
   "metadata": {},
   "source": [
    "Use this space to explore your data. Plot your signals and the Fourier transforms. Think about which signals have a higher SNR and what you notice about their FFTs."
   ]
  },
  {
   "cell_type": "code",
   "execution_count": null,
   "metadata": {},
   "outputs": [],
   "source": []
  },
  {
   "cell_type": "markdown",
   "metadata": {},
   "source": [
    "## Calculate SNR Function\n",
    "\n",
    "The SNR is the ratio of signal power to noise power. To calculate the signal power:\n",
    "  - compute the FFT of the signal\n",
    "  - calculating the signal power by:\n",
    "    - summing the FFT magnitudes in a window of 5 BPM around the frequency of the average heart rate\n",
    "    - and summing the FFT magnitudes in a window of 5 BPM around the first harmonic of the average heart rate\n",
    "  - calculate the noise power by:\n",
    "    - summing the FFT magnitudes everywhere else\n",
    "  - divide the signal power by the noise power"
   ]
  },
  {
   "cell_type": "code",
   "execution_count": null,
   "metadata": {},
   "outputs": [],
   "source": [
    "def CalcSNR(sig, hr_bpm):\n",
    "    # Our data is sampled at 125 Hz\n",
    "    fs = 125\n",
    "\n",
    "    # Compute signal power and noise power\n",
    "    signal_power = None \n",
    "    noise_power = None\n",
    "\n",
    "    # Compute SNR\n",
    "    snr = signal_power / noise_power\n",
    "    return snr"
   ]
  },
  {
   "cell_type": "markdown",
   "metadata": {},
   "source": [
    "## Compute SNR on our signals\n",
    "\n",
    "Now run the CalcSNR function on our signals and see if they match up with the expected results."
   ]
  },
  {
   "cell_type": "code",
   "execution_count": null,
   "metadata": {},
   "outputs": [],
   "source": [
    "snr0 = CalcSNR(sig0, hr0_bpm)\n",
    "snr0"
   ]
  },
  {
   "cell_type": "code",
   "execution_count": null,
   "metadata": {},
   "outputs": [],
   "source": [
    "snr1 = CalcSNR(sig1, hr1_bpm)\n",
    "snr1"
   ]
  },
  {
   "cell_type": "code",
   "execution_count": null,
   "metadata": {},
   "outputs": [],
   "source": [
    "snr2 = CalcSNR(sig2, hr2_bpm)\n",
    "snr2"
   ]
  },
  {
   "cell_type": "code",
   "execution_count": null,
   "metadata": {},
   "outputs": [],
   "source": [
    "plt.figure(figsize=(10, 6))\n",
    "plt.plot(sig0, label='{:0.2f}'.format(snr0)) \n",
    "plt.plot(sig1, label='{:0.2f}'.format(snr1))\n",
    "plt.plot(sig2, label='{:0.2f}'.format(snr2))\n",
    "plt.legend()"
   ]
  }
 ],
 "metadata": {
  "kernelspec": {
   "display_name": "Python 3",
   "language": "python",
   "name": "python3"
  },
  "language_info": {
   "codemirror_mode": {
    "name": "ipython",
    "version": 3
   },
   "file_extension": ".py",
   "mimetype": "text/x-python",
   "name": "python",
   "nbconvert_exporter": "python",
   "pygments_lexer": "ipython3",
   "version": "3.7.4"
  }
 },
 "nbformat": 4,
 "nbformat_minor": 2
}
