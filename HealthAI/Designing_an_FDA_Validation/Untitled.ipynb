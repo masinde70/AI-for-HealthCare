{
 "cells": [
  {
   "cell_type": "markdown",
   "id": "d1a67219",
   "metadata": {},
   "source": [
    "### Designing an FDA Validation Plan Exercise\n",
    "You just learned about how to design a validation plan for an algorithm that's been developed for 2D medical imaging. This is the final exercise of this course, and so this exercise will try to synthesize a lot of what you've learned and prepared you for your final project. Below are intended use statements with some indications for use and algorithmic limitations of two separate algorithms, both used for screening mammography studies.\n",
    "\n",
    "### Algorithm A:\n",
    "Intended Use: Assisting a radiologist with classifying breast density\n",
    "\n",
    "### Indications for Use: \n",
    "indicated for use in screening mammography studies in women of ages 40-80. Not indicated for use in women with artificial implants.\n",
    "\n",
    "### Hint: \n",
    "Breast density falls into four categories: A, B, C, D and can only be determined from an image. It is notoriously difficult to determine breast density on a mammography study, but that's because there is no \"correct\" answer. It's a sliding scale that radiologists tend to disagree on when a patient is right on the border between two density levels. Also, in the real world, breast densities A & D are both about 10% prevalent, while breast densities B & C are both about 40% prevalent.\n",
    "\n",
    "## Algorithm B:\n",
    "### Intended Use:\n",
    "Assisting a radiologist with identifying breast abnormalities.\n",
    "\n",
    "### Indications for Use:\n",
    "indicated for use in screening mammography studies in women for ages 40-80. Not indicated for women with a prior history of breast cancer.\n",
    "\n",
    "## Hint:\n",
    "Radiologists are really good at detecting a wide range of abnormalities on screening mammograms, and a radiologists' read is considered the gold standard for determining 'normal' vs. 'abnormal' for an imaging study.\n",
    "\n",
    "In the free response section, compare and contrast how you would do the following for your FDA validation plan for each of the two algorithms:\n",
    "Define the clinical population needed for the validation data set that you obtain from your clinical partner\n",
    "Choose the method of obtaining a ground truth"
   ]
  },
  {
   "cell_type": "code",
   "execution_count": null,
   "id": "9dea4b61",
   "metadata": {},
   "outputs": [],
   "source": []
  }
 ],
 "metadata": {
  "kernelspec": {
   "display_name": "Python 3 (ipykernel)",
   "language": "python",
   "name": "python3"
  },
  "language_info": {
   "codemirror_mode": {
    "name": "ipython",
    "version": 3
   },
   "file_extension": ".py",
   "mimetype": "text/x-python",
   "name": "python",
   "nbconvert_exporter": "python",
   "pygments_lexer": "ipython3",
   "version": "3.9.7"
  }
 },
 "nbformat": 4,
 "nbformat_minor": 5
}
