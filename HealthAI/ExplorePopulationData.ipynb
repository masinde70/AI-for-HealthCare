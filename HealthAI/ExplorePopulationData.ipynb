{
 "cells": [
  {
   "cell_type": "markdown",
   "id": "51d2d8a3",
   "metadata": {},
   "source": [
    "##### Exploring Population Metadata Exercise\n",
    "You've now learned how to explore individual images and their associated data as you prepare them for machine learning. The other important aspect of EDA is exploring your population. In this exercise, you'll be given a dataframe that describes a large dataset. Your goal is to perform EDA on the population in the dataset such that you can answer the following questions:\n",
    "\n",
    "How are the different diseases distributed in my dataset in terms of frequency and co-occurrence with one another? (For the sake of time, just choose one of the diseases and assess its co-occurrence frequencies with all other diseases.)\n",
    "How is age distributed across my dataset? Is it distributed differently for different diseases?\n",
    "How is sex distributed across my dataset? Is it distributed differently for different diseases?\n",
    "For findings that have a Mass_size (i.e. not just a binary classification of disease presence) is there a relationship between size and age, sex, or presence of other diseases?"
   ]
  },
  {
   "cell_type": "code",
   "execution_count": 1,
   "id": "3699da64",
   "metadata": {},
   "outputs": [],
   "source": [
    "%matplotlib inline\n",
    "\n",
    "import pandas as pd\n",
    "import numpy as np\n",
    "import matplotlib.pyplot as plt\n",
    "import seaborn as sns\n",
    "from random import sample\n",
    "\n",
    "from itertools import chain\n",
    "from random import sample \n",
    "import scipy"
   ]
  },
  {
   "cell_type": "code",
   "execution_count": 2,
   "id": "24bf8d4b",
   "metadata": {},
   "outputs": [],
   "source": [
    "data = pd.read_csv('findings_data.csv')"
   ]
  },
  {
   "cell_type": "code",
   "execution_count": 3,
   "id": "292d74b6",
   "metadata": {},
   "outputs": [
    {
     "data": {
      "text/html": [
       "<div>\n",
       "<style scoped>\n",
       "    .dataframe tbody tr th:only-of-type {\n",
       "        vertical-align: middle;\n",
       "    }\n",
       "\n",
       "    .dataframe tbody tr th {\n",
       "        vertical-align: top;\n",
       "    }\n",
       "\n",
       "    .dataframe thead th {\n",
       "        text-align: right;\n",
       "    }\n",
       "</style>\n",
       "<table border=\"1\" class=\"dataframe\">\n",
       "  <thead>\n",
       "    <tr style=\"text-align: right;\">\n",
       "      <th></th>\n",
       "      <th>Unnamed: 0</th>\n",
       "      <th>Patient ID</th>\n",
       "      <th>Finding Labels</th>\n",
       "      <th>Patient Age</th>\n",
       "      <th>Patient Gender</th>\n",
       "      <th>Mass_Size</th>\n",
       "    </tr>\n",
       "  </thead>\n",
       "  <tbody>\n",
       "    <tr>\n",
       "      <th>0</th>\n",
       "      <td>1</td>\n",
       "      <td>1</td>\n",
       "      <td>Cardiomegaly|Emphysema</td>\n",
       "      <td>57</td>\n",
       "      <td>M</td>\n",
       "      <td>NaN</td>\n",
       "    </tr>\n",
       "    <tr>\n",
       "      <th>1</th>\n",
       "      <td>2</td>\n",
       "      <td>2</td>\n",
       "      <td>No Finding</td>\n",
       "      <td>77</td>\n",
       "      <td>M</td>\n",
       "      <td>NaN</td>\n",
       "    </tr>\n",
       "    <tr>\n",
       "      <th>2</th>\n",
       "      <td>3</td>\n",
       "      <td>3</td>\n",
       "      <td>Atelectasis</td>\n",
       "      <td>79</td>\n",
       "      <td>M</td>\n",
       "      <td>NaN</td>\n",
       "    </tr>\n",
       "    <tr>\n",
       "      <th>3</th>\n",
       "      <td>4</td>\n",
       "      <td>4</td>\n",
       "      <td>Cardiomegaly|Edema|Effusion</td>\n",
       "      <td>55</td>\n",
       "      <td>F</td>\n",
       "      <td>NaN</td>\n",
       "    </tr>\n",
       "    <tr>\n",
       "      <th>4</th>\n",
       "      <td>5</td>\n",
       "      <td>5</td>\n",
       "      <td>Consolidation|Mass</td>\n",
       "      <td>68</td>\n",
       "      <td>M</td>\n",
       "      <td>2516.0</td>\n",
       "    </tr>\n",
       "  </tbody>\n",
       "</table>\n",
       "</div>"
      ],
      "text/plain": [
       "   Unnamed: 0  Patient ID               Finding Labels  Patient Age  \\\n",
       "0           1           1       Cardiomegaly|Emphysema           57   \n",
       "1           2           2                   No Finding           77   \n",
       "2           3           3                  Atelectasis           79   \n",
       "3           4           4  Cardiomegaly|Edema|Effusion           55   \n",
       "4           5           5           Consolidation|Mass           68   \n",
       "\n",
       "  Patient Gender  Mass_Size  \n",
       "0              M        NaN  \n",
       "1              M        NaN  \n",
       "2              M        NaN  \n",
       "3              F        NaN  \n",
       "4              M     2516.0  "
      ]
     },
     "execution_count": 3,
     "metadata": {},
     "output_type": "execute_result"
    }
   ],
   "source": [
    "data.head()"
   ]
  },
  {
   "cell_type": "code",
   "execution_count": 4,
   "id": "8a7eb384",
   "metadata": {},
   "outputs": [
    {
     "data": {
      "text/html": [
       "<div>\n",
       "<style scoped>\n",
       "    .dataframe tbody tr th:only-of-type {\n",
       "        vertical-align: middle;\n",
       "    }\n",
       "\n",
       "    .dataframe tbody tr th {\n",
       "        vertical-align: top;\n",
       "    }\n",
       "\n",
       "    .dataframe thead th {\n",
       "        text-align: right;\n",
       "    }\n",
       "</style>\n",
       "<table border=\"1\" class=\"dataframe\">\n",
       "  <thead>\n",
       "    <tr style=\"text-align: right;\">\n",
       "      <th></th>\n",
       "      <th>Unnamed: 0</th>\n",
       "      <th>Patient ID</th>\n",
       "      <th>Patient Age</th>\n",
       "      <th>Mass_Size</th>\n",
       "    </tr>\n",
       "  </thead>\n",
       "  <tbody>\n",
       "    <tr>\n",
       "      <th>count</th>\n",
       "      <td>999.000000</td>\n",
       "      <td>999.000000</td>\n",
       "      <td>999.000000</td>\n",
       "      <td>35.000000</td>\n",
       "    </tr>\n",
       "    <tr>\n",
       "      <th>mean</th>\n",
       "      <td>500.000000</td>\n",
       "      <td>500.000000</td>\n",
       "      <td>49.117117</td>\n",
       "      <td>1656.457143</td>\n",
       "    </tr>\n",
       "    <tr>\n",
       "      <th>std</th>\n",
       "      <td>288.530761</td>\n",
       "      <td>288.530761</td>\n",
       "      <td>16.036509</td>\n",
       "      <td>866.779073</td>\n",
       "    </tr>\n",
       "    <tr>\n",
       "      <th>min</th>\n",
       "      <td>1.000000</td>\n",
       "      <td>1.000000</td>\n",
       "      <td>6.000000</td>\n",
       "      <td>320.000000</td>\n",
       "    </tr>\n",
       "    <tr>\n",
       "      <th>25%</th>\n",
       "      <td>250.500000</td>\n",
       "      <td>250.500000</td>\n",
       "      <td>39.000000</td>\n",
       "      <td>932.500000</td>\n",
       "    </tr>\n",
       "    <tr>\n",
       "      <th>50%</th>\n",
       "      <td>500.000000</td>\n",
       "      <td>500.000000</td>\n",
       "      <td>51.000000</td>\n",
       "      <td>1488.000000</td>\n",
       "    </tr>\n",
       "    <tr>\n",
       "      <th>75%</th>\n",
       "      <td>749.500000</td>\n",
       "      <td>749.500000</td>\n",
       "      <td>60.000000</td>\n",
       "      <td>2416.500000</td>\n",
       "    </tr>\n",
       "    <tr>\n",
       "      <th>max</th>\n",
       "      <td>999.000000</td>\n",
       "      <td>999.000000</td>\n",
       "      <td>87.000000</td>\n",
       "      <td>3654.000000</td>\n",
       "    </tr>\n",
       "  </tbody>\n",
       "</table>\n",
       "</div>"
      ],
      "text/plain": [
       "       Unnamed: 0  Patient ID  Patient Age    Mass_Size\n",
       "count  999.000000  999.000000   999.000000    35.000000\n",
       "mean   500.000000  500.000000    49.117117  1656.457143\n",
       "std    288.530761  288.530761    16.036509   866.779073\n",
       "min      1.000000    1.000000     6.000000   320.000000\n",
       "25%    250.500000  250.500000    39.000000   932.500000\n",
       "50%    500.000000  500.000000    51.000000  1488.000000\n",
       "75%    749.500000  749.500000    60.000000  2416.500000\n",
       "max    999.000000  999.000000    87.000000  3654.000000"
      ]
     },
     "execution_count": 4,
     "metadata": {},
     "output_type": "execute_result"
    }
   ],
   "source": [
    "data.describe()"
   ]
  },
  {
   "cell_type": "code",
   "execution_count": 5,
   "id": "0568483b",
   "metadata": {},
   "outputs": [
    {
     "name": "stdout",
     "output_type": "stream",
     "text": [
      "<class 'pandas.core.frame.DataFrame'>\n",
      "RangeIndex: 999 entries, 0 to 998\n",
      "Data columns (total 6 columns):\n",
      " #   Column          Non-Null Count  Dtype  \n",
      "---  ------          --------------  -----  \n",
      " 0   Unnamed: 0      999 non-null    int64  \n",
      " 1   Patient ID      999 non-null    int64  \n",
      " 2   Finding Labels  999 non-null    object \n",
      " 3   Patient Age     999 non-null    int64  \n",
      " 4   Patient Gender  999 non-null    object \n",
      " 5   Mass_Size       35 non-null     float64\n",
      "dtypes: float64(1), int64(3), object(2)\n",
      "memory usage: 47.0+ KB\n"
     ]
    }
   ],
   "source": [
    "data.info()"
   ]
  },
  {
   "cell_type": "code",
   "execution_count": 6,
   "id": "fb0903b3",
   "metadata": {},
   "outputs": [
    {
     "name": "stdout",
     "output_type": "stream",
     "text": [
      "     Unnamed: 0  Patient ID               Finding Labels  Patient Age  \\\n",
      "0             1           1       Cardiomegaly|Emphysema           57   \n",
      "1             2           2                   No Finding           77   \n",
      "2             3           3                  Atelectasis           79   \n",
      "3             4           4  Cardiomegaly|Edema|Effusion           55   \n",
      "4             5           5           Consolidation|Mass           68   \n",
      "..          ...         ...                          ...          ...   \n",
      "994         995         995                   No Finding           40   \n",
      "995         996         996            Infiltration|Mass           38   \n",
      "996         997         997                       Nodule           38   \n",
      "997         998         998                       Nodule           38   \n",
      "998         999         999                       Nodule           38   \n",
      "\n",
      "    Patient Gender  Mass_Size  \n",
      "0                M        NaN  \n",
      "1                M        NaN  \n",
      "2                M        NaN  \n",
      "3                F        NaN  \n",
      "4                M     2516.0  \n",
      "..             ...        ...  \n",
      "994              F        NaN  \n",
      "995              M      874.0  \n",
      "996              M        NaN  \n",
      "997              M        NaN  \n",
      "998              M        NaN  \n",
      "\n",
      "[999 rows x 6 columns]\n"
     ]
    }
   ],
   "source": [
    "print(data)"
   ]
  },
  {
   "cell_type": "code",
   "execution_count": 11,
   "id": "a6d2a412",
   "metadata": {},
   "outputs": [
    {
     "name": "stdout",
     "output_type": "stream",
     "text": [
      "All Labels (14): ['Atelectasis', 'Cardiomegaly', 'Consolidation', 'Edema', 'Effusion', 'Emphysema', 'Fibrosis', 'Infiltration', 'Mass', 'No Finding', 'Nodule', 'Pleural_Thickening', 'Pneumonia', 'Pneumothorax']\n"
     ]
    },
    {
     "data": {
      "text/html": [
       "<div>\n",
       "<style scoped>\n",
       "    .dataframe tbody tr th:only-of-type {\n",
       "        vertical-align: middle;\n",
       "    }\n",
       "\n",
       "    .dataframe tbody tr th {\n",
       "        vertical-align: top;\n",
       "    }\n",
       "\n",
       "    .dataframe thead th {\n",
       "        text-align: right;\n",
       "    }\n",
       "</style>\n",
       "<table border=\"1\" class=\"dataframe\">\n",
       "  <thead>\n",
       "    <tr style=\"text-align: right;\">\n",
       "      <th></th>\n",
       "      <th>Unnamed: 0</th>\n",
       "      <th>Patient ID</th>\n",
       "      <th>Finding Labels</th>\n",
       "      <th>Patient Age</th>\n",
       "      <th>Patient Gender</th>\n",
       "      <th>Mass_Size</th>\n",
       "      <th>Atelectasis</th>\n",
       "      <th>Cardiomegaly</th>\n",
       "      <th>Consolidation</th>\n",
       "      <th>Edema</th>\n",
       "      <th>Effusion</th>\n",
       "      <th>Emphysema</th>\n",
       "      <th>Fibrosis</th>\n",
       "      <th>Infiltration</th>\n",
       "      <th>Mass</th>\n",
       "      <th>No Finding</th>\n",
       "      <th>Nodule</th>\n",
       "      <th>Pleural_Thickening</th>\n",
       "      <th>Pneumonia</th>\n",
       "      <th>Pneumothorax</th>\n",
       "    </tr>\n",
       "  </thead>\n",
       "  <tbody>\n",
       "    <tr>\n",
       "      <th>454</th>\n",
       "      <td>455</td>\n",
       "      <td>455</td>\n",
       "      <td>No Finding</td>\n",
       "      <td>51</td>\n",
       "      <td>F</td>\n",
       "      <td>NaN</td>\n",
       "      <td>0.0</td>\n",
       "      <td>0.0</td>\n",
       "      <td>0.0</td>\n",
       "      <td>0.0</td>\n",
       "      <td>0.0</td>\n",
       "      <td>0.0</td>\n",
       "      <td>0.0</td>\n",
       "      <td>0.0</td>\n",
       "      <td>0.0</td>\n",
       "      <td>1.0</td>\n",
       "      <td>0.0</td>\n",
       "      <td>0.0</td>\n",
       "      <td>0.0</td>\n",
       "      <td>0.0</td>\n",
       "    </tr>\n",
       "    <tr>\n",
       "      <th>822</th>\n",
       "      <td>823</td>\n",
       "      <td>823</td>\n",
       "      <td>No Finding</td>\n",
       "      <td>43</td>\n",
       "      <td>M</td>\n",
       "      <td>NaN</td>\n",
       "      <td>0.0</td>\n",
       "      <td>0.0</td>\n",
       "      <td>0.0</td>\n",
       "      <td>0.0</td>\n",
       "      <td>0.0</td>\n",
       "      <td>0.0</td>\n",
       "      <td>0.0</td>\n",
       "      <td>0.0</td>\n",
       "      <td>0.0</td>\n",
       "      <td>1.0</td>\n",
       "      <td>0.0</td>\n",
       "      <td>0.0</td>\n",
       "      <td>0.0</td>\n",
       "      <td>0.0</td>\n",
       "    </tr>\n",
       "    <tr>\n",
       "      <th>86</th>\n",
       "      <td>87</td>\n",
       "      <td>87</td>\n",
       "      <td>Infiltration</td>\n",
       "      <td>58</td>\n",
       "      <td>M</td>\n",
       "      <td>NaN</td>\n",
       "      <td>0.0</td>\n",
       "      <td>0.0</td>\n",
       "      <td>0.0</td>\n",
       "      <td>0.0</td>\n",
       "      <td>0.0</td>\n",
       "      <td>0.0</td>\n",
       "      <td>0.0</td>\n",
       "      <td>1.0</td>\n",
       "      <td>0.0</td>\n",
       "      <td>0.0</td>\n",
       "      <td>0.0</td>\n",
       "      <td>0.0</td>\n",
       "      <td>0.0</td>\n",
       "      <td>0.0</td>\n",
       "    </tr>\n",
       "  </tbody>\n",
       "</table>\n",
       "</div>"
      ],
      "text/plain": [
       "     Unnamed: 0  Patient ID Finding Labels  Patient Age Patient Gender  \\\n",
       "454         455         455     No Finding           51              F   \n",
       "822         823         823     No Finding           43              M   \n",
       "86           87          87   Infiltration           58              M   \n",
       "\n",
       "     Mass_Size  Atelectasis  Cardiomegaly  Consolidation  Edema  Effusion  \\\n",
       "454        NaN          0.0           0.0            0.0    0.0       0.0   \n",
       "822        NaN          0.0           0.0            0.0    0.0       0.0   \n",
       "86         NaN          0.0           0.0            0.0    0.0       0.0   \n",
       "\n",
       "     Emphysema  Fibrosis  Infiltration  Mass  No Finding  Nodule  \\\n",
       "454        0.0       0.0           0.0   0.0         1.0     0.0   \n",
       "822        0.0       0.0           0.0   0.0         1.0     0.0   \n",
       "86         0.0       0.0           1.0   0.0         0.0     0.0   \n",
       "\n",
       "     Pleural_Thickening  Pneumonia  Pneumothorax  \n",
       "454                 0.0        0.0           0.0  \n",
       "822                 0.0        0.0           0.0  \n",
       "86                  0.0        0.0           0.0  "
      ]
     },
     "execution_count": 11,
     "metadata": {},
     "output_type": "execute_result"
    }
   ],
   "source": [
    "## Here I'm just going to split up my \"Finding Labels\" column so that I have one column in my dataframe\n",
    "# per disease, with a binary flag. This makes EDA a lot easier! \n",
    "\n",
    "all_labels = np.unique(list(chain(*data['Finding Labels'].map(lambda x: x.split('|')).tolist())))\n",
    "all_labels = [x for x in all_labels if len(x)>0]\n",
    "print('All Labels ({}): {}'.format(len(all_labels), all_labels))\n",
    "for c_label in all_labels:\n",
    "    if len(c_label)>1: # leave out empty labels\n",
    "        data[c_label] = data['Finding Labels'].map(lambda finding: 1.0 if c_label in finding else 0)\n",
    "data.sample(3)"
   ]
  },
  {
   "cell_type": "code",
   "execution_count": 12,
   "id": "7a8f12bf",
   "metadata": {},
   "outputs": [
    {
     "data": {
      "text/plain": [
       "14"
      ]
     },
     "execution_count": 12,
     "metadata": {},
     "output_type": "execute_result"
    }
   ],
   "source": [
    "len(all_labels)"
   ]
  },
  {
   "cell_type": "markdown",
   "id": "9098f8a9",
   "metadata": {},
   "source": [
    "I see here that there are 14 unique types of labels found in my dataset"
   ]
  },
  {
   "cell_type": "code",
   "execution_count": 14,
   "id": "e3cb455c",
   "metadata": {},
   "outputs": [
    {
     "data": {
      "text/plain": [
       "Atelectasis           0.093093\n",
       "Cardiomegaly          0.038038\n",
       "Consolidation         0.043043\n",
       "Edema                 0.016016\n",
       "Effusion              0.095095\n",
       "Emphysema             0.018018\n",
       "Fibrosis              0.027027\n",
       "Infiltration          0.134134\n",
       "Mass                  0.035035\n",
       "No Finding            0.575576\n",
       "Nodule                0.041041\n",
       "Pleural_Thickening    0.032032\n",
       "Pneumonia             0.006006\n",
       "Pneumothorax          0.033033\n",
       "dtype: float64"
      ]
     },
     "execution_count": 14,
     "metadata": {},
     "output_type": "execute_result"
    }
   ],
   "source": [
    "data[all_labels].sum()/len(data)"
   ]
  },
  {
   "cell_type": "code",
   "execution_count": 17,
   "id": "ff04f11a",
   "metadata": {},
   "outputs": [
    {
     "data": {
      "text/plain": [
       "[Text(0, 0.5, 'Number of Images with label')]"
      ]
     },
     "execution_count": 17,
     "metadata": {},
     "output_type": "execute_result"
    },
    {
     "data": {
      "image/png": "[encoded data removed]",
      "text/plain": [
       "<Figure size 432x288 with 1 Axes>"
      ]
     },
     "metadata": {
      "needs_background": "light"
     },
     "output_type": "display_data"
    }
   ],
   "source": [
    "ax = data[all_labels].sum().plot(kind='bar')\n",
    "ax.set(ylabel = 'Number of Images with label')"
   ]
  },
  {
   "cell_type": "code",
   "execution_count": null,
   "id": "dbb11e4e",
   "metadata": {},
   "outputs": [],
   "source": []
  }
 ],
 "metadata": {
  "kernelspec": {
   "display_name": "Python 3 (ipykernel)",
   "language": "python",
   "name": "python3"
  },
  "language_info": {
   "codemirror_mode": {
    "name": "ipython",
    "version": 3
   },
   "file_extension": ".py",
   "mimetype": "text/x-python",
   "name": "python",
   "nbconvert_exporter": "python",
   "pygments_lexer": "ipython3",
   "version": "3.9.7"
  }
 },
 "nbformat": 4,
 "nbformat_minor": 5
}
