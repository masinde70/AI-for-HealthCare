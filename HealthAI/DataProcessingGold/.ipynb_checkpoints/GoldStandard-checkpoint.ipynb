{
 "cells": [
  {
   "cell_type": "markdown",
   "id": "b07d8836",
   "metadata": {},
   "source": [
    "### Obtaining a Gold Standard Exercise\n",
    "In this exercise, you'll be given labels for 60 mammograms that contain a suspicious mass. Anytime this occurs in a clinical setting, the patient is sent for a mass biopsy to determine if the mass is benign or cancerous. The radiologist can still make a judgment about whether to mass appears malignant or not based on how it appears in the image.\n",
    "\n",
    "Sometimes in algorithmic development settings, we are only able to obtain radiologist reports and we are not able to obtain biopsy reports for all studies. Since the true gold standard label is the biopsy result, it helps to get several opinions from different radiologists on the image appearance to make a more robust ground truth assessment in the absence of biopsy data.\n",
    "\n",
    "Here, you are provided with labels from three different radiologists who have the following levels of clinical experience:\n",
    "\n",
    "Rad1 = 5 years\n",
    "Rad2 = 10 years\n",
    "Rad3 = 15 years\n",
    "In this exercise, create three 'ground truths', you can label benign as 1 and malignant as 0:\n",
    "\n",
    "Using biopsy labels (true gold standard)\n",
    "Using a voting system between the three radiologists\n",
    "Using a weighted voting system with experience levels between the three radiologists\n",
    "Assess how 2 & 3 compare to 1: if the ground truths from 2 & 3 agree with 1."
   ]
  },
  {
   "cell_type": "code",
   "execution_count": null,
   "id": "64daa538",
   "metadata": {},
   "outputs": [],
   "source": [
    "import numpy as np\n",
    "import pandas as pd"
   ]
  }
 ],
 "metadata": {
  "kernelspec": {
   "display_name": "Python 3 (ipykernel)",
   "language": "python",
   "name": "python3"
  },
  "language_info": {
   "codemirror_mode": {
    "name": "ipython",
    "version": 3
   },
   "file_extension": ".py",
   "mimetype": "text/x-python",
   "name": "python",
   "nbconvert_exporter": "python",
   "pygments_lexer": "ipython3",
   "version": "3.9.7"
  }
 },
 "nbformat": 4,
 "nbformat_minor": 5
}
