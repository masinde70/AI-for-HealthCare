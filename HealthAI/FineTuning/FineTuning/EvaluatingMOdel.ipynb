{
 "cells": [
  {
   "cell_type": "code",
   "execution_count": 1,
   "id": "cf3f4776",
   "metadata": {},
   "outputs": [],
   "source": [
    "import numpy as np \n",
    "import pandas as pd \n",
    "import os\n",
    "from glob import glob\n",
    "%matplotlib inline\n",
    "import matplotlib.pyplot as plt\n",
    "import tensorflow as tf\n",
    "from skimage import io\n",
    "\n",
    "from keras.preprocessing.image import ImageDataGenerator\n",
    "from keras.layers import GlobalAveragePooling2D, Dense, Dropout, Flatten, Conv2D, MaxPooling2D\n",
    "from keras.models import Sequential, Model\n",
    "from keras.applications.vgg16 import VGG16\n",
    "from keras.applications.resnet import ResNet50 \n",
    "from tensorflow.keras.optimizers import Adam\n",
    "from keras.callbacks import ModelCheckpoint, LearningRateScheduler, EarlyStopping, ReduceLROnPlateau"
   ]
  },
  {
   "cell_type": "code",
   "execution_count": 2,
   "id": "2e0d6644",
   "metadata": {},
   "outputs": [],
   "source": [
    "train_df = pd.read_csv('train.csv')\n",
    "valid_df = pd.read_csv('test.csv')"
   ]
  },
  {
   "cell_type": "markdown",
   "id": "b1890d15",
   "metadata": {},
   "source": [
    "## Setting up the image augmentation from last Lesson: "
   ]
  },
  {
   "cell_type": "code",
   "execution_count": 3,
   "id": "c489df94",
   "metadata": {},
   "outputs": [],
   "source": [
    "IMG_SIZE = (224, 224)"
   ]
  },
  {
   "cell_type": "code",
   "execution_count": 4,
   "id": "3352b725",
   "metadata": {},
   "outputs": [
    {
     "name": "stdout",
     "output_type": "stream",
     "text": [
      "Found 20 validated image filenames belonging to 2 classes.\n",
      "Found 6 validated image filenames belonging to 2 classes.\n"
     ]
    }
   ],
   "source": [
    "train_idg = ImageDataGenerator(rescale=1. / 255.0,\n",
    "                              horizontal_flip = True, \n",
    "                              vertical_flip = False, \n",
    "                              height_shift_range= 0.1, \n",
    "                              width_shift_range=0.1, \n",
    "                              rotation_range=20, \n",
    "                              shear_range = 0.1,\n",
    "                              zoom_range=0.1)\n",
    "\n",
    "train_gen = train_idg.flow_from_dataframe(dataframe=train_df, \n",
    "                                         directory=None, \n",
    "                                         x_col = 'img_path',\n",
    "                                         y_col = 'class',\n",
    "                                         class_mode = 'binary',\n",
    "                                         target_size = IMG_SIZE, \n",
    "                                         batch_size = 9\n",
    "                                         )\n",
    "\n",
    "# Note that the validation data should not be augmented! We only want to do some basic intensity rescaling here\n",
    "val_idg = ImageDataGenerator(rescale=1. / 255.0\n",
    "                                 )\n",
    "\n",
    "val_gen = val_idg.flow_from_dataframe(dataframe=valid_df, \n",
    "                                         directory=None, \n",
    "                                         x_col = 'img_path',\n",
    "                                         y_col = 'class',\n",
    "                                         class_mode = 'binary',\n",
    "                                         target_size = IMG_SIZE, \n",
    "                                         batch_size = 6) ## We've only been provided with 6 validation images"
   ]
  },
  {
   "cell_type": "code",
   "execution_count": 5,
   "id": "d78fbc16",
   "metadata": {},
   "outputs": [],
   "source": [
    "## Pull a single large batch of random validation data for testing after each epoch\n",
    "testX, testY = val_gen.next()"
   ]
  },
  {
   "cell_type": "code",
   "execution_count": 6,
   "id": "20cbc210",
   "metadata": {},
   "outputs": [],
   "source": [
    "## Pull a single large batch of random validation data for testing after each epoch\n",
    "testX, testY = val_gen.next()"
   ]
  },
  {
   "cell_type": "code",
   "execution_count": 7,
   "id": "0efe15ba",
   "metadata": {},
   "outputs": [],
   "source": [
    "## Pull a single large batch of random validation data for testing after each epoch\n",
    "testX, testY = val_gen.next()"
   ]
  },
  {
   "cell_type": "markdown",
   "id": "ab383433",
   "metadata": {},
   "source": [
    "## Now we'll load in VGG16 with pre-trained ImageNet weights: "
   ]
  },
  {
   "cell_type": "code",
   "execution_count": 8,
   "id": "fa5674b0",
   "metadata": {},
   "outputs": [
    {
     "name": "stdout",
     "output_type": "stream",
     "text": [
      "Metal device set to: Apple M1\n"
     ]
    },
    {
     "name": "stderr",
     "output_type": "stream",
     "text": [
      "2022-03-14 11:36:30.151137: I tensorflow/core/common_runtime/pluggable_device/pluggable_device_factory.cc:305] Could not identify NUMA node of platform GPU ID 0, defaulting to 0. Your kernel may not have been built with NUMA support.\n",
      "2022-03-14 11:36:30.151239: I tensorflow/core/common_runtime/pluggable_device/pluggable_device_factory.cc:271] Created TensorFlow device (/job:localhost/replica:0/task:0/device:GPU:0 with 0 MB memory) -> physical PluggableDevice (device: 0, name: METAL, pci bus id: <undefined>)\n"
     ]
    },
    {
     "name": "stdout",
     "output_type": "stream",
     "text": [
      "Model: \"vgg16\"\n",
      "_________________________________________________________________\n",
      " Layer (type)                Output Shape              Param #   \n",
      "=================================================================\n",
      " input_1 (InputLayer)        [(None, 224, 224, 3)]     0         \n",
      "                                                                 \n",
      " block1_conv1 (Conv2D)       (None, 224, 224, 64)      1792      \n",
      "                                                                 \n",
      " block1_conv2 (Conv2D)       (None, 224, 224, 64)      36928     \n",
      "                                                                 \n",
      " block1_pool (MaxPooling2D)  (None, 112, 112, 64)      0         \n",
      "                                                                 \n",
      " block2_conv1 (Conv2D)       (None, 112, 112, 128)     73856     \n",
      "                                                                 \n",
      " block2_conv2 (Conv2D)       (None, 112, 112, 128)     147584    \n",
      "                                                                 \n",
      " block2_pool (MaxPooling2D)  (None, 56, 56, 128)       0         \n",
      "                                                                 \n",
      " block3_conv1 (Conv2D)       (None, 56, 56, 256)       295168    \n",
      "                                                                 \n",
      " block3_conv2 (Conv2D)       (None, 56, 56, 256)       590080    \n",
      "                                                                 \n",
      " block3_conv3 (Conv2D)       (None, 56, 56, 256)       590080    \n",
      "                                                                 \n",
      " block3_pool (MaxPooling2D)  (None, 28, 28, 256)       0         \n",
      "                                                                 \n",
      " block4_conv1 (Conv2D)       (None, 28, 28, 512)       1180160   \n",
      "                                                                 \n",
      " block4_conv2 (Conv2D)       (None, 28, 28, 512)       2359808   \n",
      "                                                                 \n",
      " block4_conv3 (Conv2D)       (None, 28, 28, 512)       2359808   \n",
      "                                                                 \n",
      " block4_pool (MaxPooling2D)  (None, 14, 14, 512)       0         \n",
      "                                                                 \n",
      " block5_conv1 (Conv2D)       (None, 14, 14, 512)       2359808   \n",
      "                                                                 \n",
      " block5_conv2 (Conv2D)       (None, 14, 14, 512)       2359808   \n",
      "                                                                 \n",
      " block5_conv3 (Conv2D)       (None, 14, 14, 512)       2359808   \n",
      "                                                                 \n",
      " block5_pool (MaxPooling2D)  (None, 7, 7, 512)         0         \n",
      "                                                                 \n",
      " flatten (Flatten)           (None, 25088)             0         \n",
      "                                                                 \n",
      " fc1 (Dense)                 (None, 4096)              102764544 \n",
      "                                                                 \n",
      " fc2 (Dense)                 (None, 4096)              16781312  \n",
      "                                                                 \n",
      " predictions (Dense)         (None, 1000)              4097000   \n",
      "                                                                 \n",
      "=================================================================\n",
      "Total params: 138,357,544\n",
      "Trainable params: 138,357,544\n",
      "Non-trainable params: 0\n",
      "_________________________________________________________________\n"
     ]
    }
   ],
   "source": [
    "model = VGG16(include_top=True, weights='imagenet')\n",
    "model.summary()"
   ]
  },
  {
   "cell_type": "code",
   "execution_count": 9,
   "id": "56d3ceb9",
   "metadata": {},
   "outputs": [],
   "source": [
    "transfer_layer = model.get_layer('block5_pool')\n",
    "vgg_model = Model(inputs=model.input,\n",
    "                   outputs=transfer_layer.output)"
   ]
  },
  {
   "cell_type": "code",
   "execution_count": 10,
   "id": "68fd5836",
   "metadata": {},
   "outputs": [],
   "source": [
    "## Now, choose which layers of VGG16 we actually want to fine-tune (if any)\n",
    "## Here, we'll freeze all but the last convolutional layer\n",
    "for layer in vgg_model.layers[0:17]:\n",
    "    layer.trainable = False"
   ]
  },
  {
   "cell_type": "code",
   "execution_count": 11,
   "id": "606640ac",
   "metadata": {},
   "outputs": [],
   "source": [
    "new_model = Sequential()\n",
    "\n",
    "# Add the convolutional part of the VGG16 model from above.\n",
    "new_model.add(vgg_model)\n",
    "\n",
    "# Flatten the output of the VGG16 model because it is from a\n",
    "# convolutional layer.\n",
    "new_model.add(Flatten())\n",
    "\n",
    "# Add a dropout-layer which may prevent overfitting and\n",
    "# improve generalization ability to unseen data e.g. the test-set.\n",
    "new_model.add(Dropout(0.5))\n",
    "\n",
    "# Add a dense (aka. fully-connected) layer.\n",
    "# This is for combining features that the VGG16 model has\n",
    "# recognized in the image.\n",
    "new_model.add(Dense(1024, activation='relu'))\n",
    "\n",
    "# Add a dropout-layer which may prevent overfitting and\n",
    "# improve generalization ability to unseen data e.g. the test-set.\n",
    "new_model.add(Dropout(0.5))\n",
    "\n",
    "# Add a dense (aka. fully-connected) layer.\n",
    "# This is for combining features that the VGG16 model has\n",
    "# recognized in the image.\n",
    "new_model.add(Dense(512, activation='relu'))\n",
    "\n",
    "# Add a dropout-layer which may prevent overfitting and\n",
    "# improve generalization ability to unseen data e.g. the test-set.\n",
    "new_model.add(Dropout(0.5))\n",
    "\n",
    "# Add a dense (aka. fully-connected) layer.\n",
    "# This is for combining features that the VGG16 model has\n",
    "# recognized in the image.\n",
    "new_model.add(Dense(256, activation='relu'))\n",
    "\n",
    "# Add a dense (aka. fully-connected) layer.\n",
    "# Change the activation function to sigmoid \n",
    "# so output of the last layer is in the range of [0,1] \n",
    "new_model.add(Dense(1, activation='sigmoid'))"
   ]
  },
  {
   "cell_type": "code",
   "execution_count": 12,
   "id": "968512e4",
   "metadata": {},
   "outputs": [
    {
     "name": "stdout",
     "output_type": "stream",
     "text": [
      "Model: \"sequential\"\n",
      "_________________________________________________________________\n",
      " Layer (type)                Output Shape              Param #   \n",
      "=================================================================\n",
      " model (Functional)          (None, 7, 7, 512)         14714688  \n",
      "                                                                 \n",
      " flatten (Flatten)           (None, 25088)             0         \n",
      "                                                                 \n",
      " dropout (Dropout)           (None, 25088)             0         \n",
      "                                                                 \n",
      " dense (Dense)               (None, 1024)              25691136  \n",
      "                                                                 \n",
      " dropout_1 (Dropout)         (None, 1024)              0         \n",
      "                                                                 \n",
      " dense_1 (Dense)             (None, 512)               524800    \n",
      "                                                                 \n",
      " dropout_2 (Dropout)         (None, 512)               0         \n",
      "                                                                 \n",
      " dense_2 (Dense)             (None, 256)               131328    \n",
      "                                                                 \n",
      " dense_3 (Dense)             (None, 1)                 257       \n",
      "                                                                 \n",
      "=================================================================\n",
      "Total params: 41,062,209\n",
      "Trainable params: 28,707,329\n",
      "Non-trainable params: 12,354,880\n",
      "_________________________________________________________________\n"
     ]
    }
   ],
   "source": [
    "new_model.summary()"
   ]
  },
  {
   "cell_type": "code",
   "execution_count": 13,
   "id": "0b39f961",
   "metadata": {},
   "outputs": [],
   "source": [
    "## Set our optimizer, loss function, and learning rate\n",
    "optimizer = Adam(learning_rate=1e-4)\n",
    "loss = 'binary_crossentropy'\n",
    "metrics = ['binary_accuracy']"
   ]
  },
  {
   "cell_type": "code",
   "execution_count": 14,
   "id": "6d85eae3",
   "metadata": {},
   "outputs": [],
   "source": [
    "new_model.compile(optimizer=optimizer, loss=loss, metrics=metrics)"
   ]
  },
  {
   "cell_type": "code",
   "execution_count": 15,
   "id": "e102f6ed",
   "metadata": {},
   "outputs": [
    {
     "name": "stdout",
     "output_type": "stream",
     "text": [
      "Epoch 1/10\n"
     ]
    },
    {
     "name": "stderr",
     "output_type": "stream",
     "text": [
      "/var/folders/v_/rh4ycfcn3vd4r73j2nln2brm0000gn/T/ipykernel_59819/2430834703.py:2: UserWarning: `Model.fit_generator` is deprecated and will be removed in a future version. Please use `Model.fit`, which supports generators.\n",
      "  history = new_model.fit_generator(train_gen,\n",
      "2022-03-14 11:36:31.815448: W tensorflow/core/platform/profile_utils/cpu_utils.cc:128] Failed to get CPU frequency: 0 Hz\n",
      "2022-03-14 11:36:32.027375: I tensorflow/core/grappler/optimizers/custom_graph_optimizer_registry.cc:112] Plugin optimizer for device_type GPU is enabled.\n"
     ]
    },
    {
     "name": "stdout",
     "output_type": "stream",
     "text": [
      "3/3 [==============================] - 1s 320ms/step - loss: 1.3035 - binary_accuracy: 0.5500 - val_loss: 0.6880 - val_binary_accuracy: 0.6667\n"
     ]
    },
    {
     "name": "stderr",
     "output_type": "stream",
     "text": [
      "2022-03-14 11:36:32.886450: I tensorflow/core/grappler/optimizers/custom_graph_optimizer_registry.cc:112] Plugin optimizer for device_type GPU is enabled.\n"
     ]
    },
    {
     "name": "stdout",
     "output_type": "stream",
     "text": [
      "Epoch 2/10\n",
      "3/3 [==============================] - 1s 187ms/step - loss: 1.2643 - binary_accuracy: 0.5500 - val_loss: 0.6872 - val_binary_accuracy: 0.5000\n",
      "Epoch 3/10\n",
      "3/3 [==============================] - 1s 186ms/step - loss: 0.8595 - binary_accuracy: 0.4500 - val_loss: 0.6930 - val_binary_accuracy: 0.5000\n",
      "Epoch 4/10\n",
      "3/3 [==============================] - 1s 189ms/step - loss: 1.1139 - binary_accuracy: 0.6000 - val_loss: 0.6880 - val_binary_accuracy: 0.5000\n",
      "Epoch 5/10\n",
      "3/3 [==============================] - 1s 272ms/step - loss: 0.7920 - binary_accuracy: 0.8500 - val_loss: 0.6716 - val_binary_accuracy: 0.5000\n",
      "Epoch 6/10\n",
      "3/3 [==============================] - 1s 269ms/step - loss: 0.8587 - binary_accuracy: 0.6000 - val_loss: 0.6611 - val_binary_accuracy: 0.6667\n",
      "Epoch 7/10\n",
      "3/3 [==============================] - 1s 211ms/step - loss: 0.5503 - binary_accuracy: 0.7000 - val_loss: 0.6590 - val_binary_accuracy: 0.6667\n",
      "Epoch 8/10\n",
      "3/3 [==============================] - 1s 209ms/step - loss: 0.5204 - binary_accuracy: 0.7500 - val_loss: 0.6673 - val_binary_accuracy: 0.6667\n",
      "Epoch 9/10\n",
      "3/3 [==============================] - 1s 188ms/step - loss: 0.5649 - binary_accuracy: 0.6500 - val_loss: 0.6593 - val_binary_accuracy: 0.6667\n",
      "Epoch 10/10\n",
      "3/3 [==============================] - 1s 186ms/step - loss: 0.9099 - binary_accuracy: 0.7500 - val_loss: 0.6269 - val_binary_accuracy: 0.6667\n"
     ]
    }
   ],
   "source": [
    "## Run for 10 epochs to see if any learning occurs:\n",
    "history = new_model.fit_generator(train_gen, \n",
    "                                  validation_data = (testX, testY), \n",
    "                                  epochs = 10)"
   ]
  },
  {
   "cell_type": "code",
   "execution_count": 16,
   "id": "de8146ee",
   "metadata": {},
   "outputs": [],
   "source": [
    "# Define a function here that will plot loss, val_loss, binary_accuracy, and val_binary_accuracy over all of \n",
    "# your epochs: \n",
    "def plot_history(history):\n",
    "    N = len(history.history[\"loss\"])\n",
    "    plt.style.use(\"ggplot\")\n",
    "    plt.figure()\n",
    "    plt.plot(np.arange(0, N), history.history[\"loss\"], label=\"train_loss\")\n",
    "    plt.plot(np.arange(0, N), history.history[\"val_loss\"], label=\"val_loss\")\n",
    "    plt.plot(np.arange(0, N), history.history[\"binary_accuracy\"], label=\"train_acc\")\n",
    "    plt.plot(np.arange(0, N), history.history[\"val_binary_accuracy\"], label=\"val_acc\")\n",
    "    plt.title(\"Training Loss and Accuracy on Dataset\")\n",
    "    plt.xlabel(\"Epoch #\")\n",
    "    plt.ylabel(\"Loss/Accuracy\")\n",
    "    plt.legend(loc=\"lower left\")"
   ]
  },
  {
   "cell_type": "code",
   "execution_count": 17,
   "id": "839ee6dc",
   "metadata": {},
   "outputs": [
    {
     "data": {
      "image/png": "[encoded data removed]",
      "text/plain": [
       "<Figure size 432x288 with 1 Axes>"
      ]
     },
     "metadata": {},
     "output_type": "display_data"
    }
   ],
   "source": [
    "plot_history(history)"
   ]
  },
  {
   "cell_type": "markdown",
   "id": "db8127af",
   "metadata": {},
   "source": [
    "Based on the plot above, it looks like our model stopped learning after 7 epochs. You can tell this by looking at the decline in val_loss from epochs 0-7. "
   ]
  },
  {
   "cell_type": "markdown",
   "id": "15412fcb",
   "metadata": {},
   "source": [
    "## Try a model with less dropout, same learning rate: "
   ]
  },
  {
   "cell_type": "code",
   "execution_count": 18,
   "id": "8e785fb9",
   "metadata": {},
   "outputs": [],
   "source": [
    "new_model = Sequential()\n",
    "\n",
    "# Add the convolutional part of the VGG16 model from above.\n",
    "new_model.add(vgg_model)\n",
    "\n",
    "# Flatten the output of the VGG16 model because it is from a\n",
    "# convolutional layer.\n",
    "new_model.add(Flatten())\n",
    "\n",
    "# Add a dense (aka. fully-connected) layer.\n",
    "# This is for combining features that the VGG16 model has\n",
    "# recognized in the image.\n",
    "new_model.add(Dense(1024, activation='relu'))\n",
    "\n",
    "# Add a dropout-layer which may prevent overfitting and\n",
    "# improve generalization ability to unseen data e.g. the test-set.\n",
    "new_model.add(Dropout(0.3))\n",
    "\n",
    "# Add a dense (aka. fully-connected) layer.\n",
    "# This is for combining features that the VGG16 model has\n",
    "# recognized in the image.\n",
    "new_model.add(Dense(512, activation='relu'))\n",
    "\n",
    "# Add a dropout-layer which may prevent overfitting and\n",
    "# improve generalization ability to unseen data e.g. the test-set.\n",
    "new_model.add(Dropout(0.3))\n",
    "\n",
    "# Add a dense (aka. fully-connected) layer.\n",
    "# This is for combining features that the VGG16 model has\n",
    "# recognized in the image.\n",
    "new_model.add(Dense(256, activation='relu'))\n",
    "\n",
    "# Add a dense (aka. fully-connected) layer.\n",
    "# Change the activation function to sigmoid \n",
    "# so output of the last layer is in the range of [0,1] \n",
    "new_model.add(Dense(1, activation='sigmoid'))"
   ]
  },
  {
   "cell_type": "code",
   "execution_count": 19,
   "id": "c3d0479d",
   "metadata": {},
   "outputs": [],
   "source": [
    "new_model.compile(optimizer=optimizer, loss=loss, metrics=metrics)"
   ]
  },
  {
   "cell_type": "code",
   "execution_count": 20,
   "id": "98da2f01",
   "metadata": {},
   "outputs": [
    {
     "name": "stderr",
     "output_type": "stream",
     "text": [
      "/var/folders/v_/rh4ycfcn3vd4r73j2nln2brm0000gn/T/ipykernel_59819/3038495923.py:1: UserWarning: `Model.fit_generator` is deprecated and will be removed in a future version. Please use `Model.fit`, which supports generators.\n",
      "  history = new_model.fit_generator(train_gen,\n"
     ]
    },
    {
     "name": "stdout",
     "output_type": "stream",
     "text": [
      "Epoch 1/10\n"
     ]
    },
    {
     "name": "stderr",
     "output_type": "stream",
     "text": [
      "2022-03-14 11:36:39.690533: I tensorflow/core/grappler/optimizers/custom_graph_optimizer_registry.cc:112] Plugin optimizer for device_type GPU is enabled.\n"
     ]
    },
    {
     "name": "stdout",
     "output_type": "stream",
     "text": [
      "3/3 [==============================] - 1s 321ms/step - loss: 0.8688 - binary_accuracy: 0.5500 - val_loss: 0.7080 - val_binary_accuracy: 0.5000\n"
     ]
    },
    {
     "name": "stderr",
     "output_type": "stream",
     "text": [
      "2022-03-14 11:36:40.454650: I tensorflow/core/grappler/optimizers/custom_graph_optimizer_registry.cc:112] Plugin optimizer for device_type GPU is enabled.\n"
     ]
    },
    {
     "name": "stdout",
     "output_type": "stream",
     "text": [
      "Epoch 2/10\n",
      "3/3 [==============================] - 1s 210ms/step - loss: 0.6325 - binary_accuracy: 0.6000 - val_loss: 0.6660 - val_binary_accuracy: 0.6667\n",
      "Epoch 3/10\n",
      "3/3 [==============================] - 1s 215ms/step - loss: 0.6344 - binary_accuracy: 0.7000 - val_loss: 0.6280 - val_binary_accuracy: 0.6667\n",
      "Epoch 4/10\n",
      "3/3 [==============================] - 1s 191ms/step - loss: 0.5619 - binary_accuracy: 0.6000 - val_loss: 0.5505 - val_binary_accuracy: 0.6667\n",
      "Epoch 5/10\n",
      "3/3 [==============================] - 1s 211ms/step - loss: 0.7949 - binary_accuracy: 0.8000 - val_loss: 0.6364 - val_binary_accuracy: 0.5000\n",
      "Epoch 6/10\n",
      "3/3 [==============================] - 1s 214ms/step - loss: 0.4453 - binary_accuracy: 0.7500 - val_loss: 0.5246 - val_binary_accuracy: 0.6667\n",
      "Epoch 7/10\n",
      "3/3 [==============================] - 1s 299ms/step - loss: 0.3458 - binary_accuracy: 0.9000 - val_loss: 0.7128 - val_binary_accuracy: 0.6667\n",
      "Epoch 8/10\n",
      "3/3 [==============================] - 1s 284ms/step - loss: 0.4223 - binary_accuracy: 0.8000 - val_loss: 0.7561 - val_binary_accuracy: 0.6667\n",
      "Epoch 9/10\n",
      "3/3 [==============================] - 1s 193ms/step - loss: 0.3642 - binary_accuracy: 0.8000 - val_loss: 0.4591 - val_binary_accuracy: 0.8333\n",
      "Epoch 10/10\n",
      "3/3 [==============================] - 1s 277ms/step - loss: 0.2813 - binary_accuracy: 0.9500 - val_loss: 0.5086 - val_binary_accuracy: 0.8333\n"
     ]
    }
   ],
   "source": [
    "history = new_model.fit_generator(train_gen, \n",
    "                                  validation_data = (testX, testY), \n",
    "                                  epochs = 10)"
   ]
  },
  {
   "cell_type": "code",
   "execution_count": 21,
   "id": "c6f65c95",
   "metadata": {},
   "outputs": [
    {
     "data": {
      "image/png": "[encoded data removed]",
      "text/plain": [
       "<Figure size 432x288 with 1 Axes>"
      ]
     },
     "metadata": {},
     "output_type": "display_data"
    }
   ],
   "source": [
    "plot_history(history)"
   ]
  },
  {
   "cell_type": "markdown",
   "id": "891a3db9",
   "metadata": {},
   "source": [
    "With less dropout, it looks like the model got worse since the train_loss dropped dramatically but the val_loss increased."
   ]
  },
  {
   "cell_type": "markdown",
   "id": "894fc315",
   "metadata": {},
   "source": [
    "## Finally, try a model with the same amount of dropout as you initiall had, but a slower learning rate: "
   ]
  },
  {
   "cell_type": "code",
   "execution_count": 22,
   "id": "da9e640c",
   "metadata": {},
   "outputs": [],
   "source": [
    "new_model = Sequential()\n",
    "\n",
    "# Add the convolutional part of the VGG16 model from above.\n",
    "new_model.add(vgg_model)\n",
    "\n",
    "# Flatten the output of the VGG16 model because it is from a\n",
    "# convolutional layer.\n",
    "new_model.add(Flatten())\n",
    "\n",
    "# Add a dropout-layer which may prevent overfitting and\n",
    "# improve generalization ability to unseen data e.g. the test-set.\n",
    "new_model.add(Dropout(0.5))\n",
    "\n",
    "# Add a dense (aka. fully-connected) layer.\n",
    "# This is for combining features that the VGG16 model has\n",
    "# recognized in the image.\n",
    "new_model.add(Dense(1024, activation='relu'))\n",
    "\n",
    "# Add a dropout-layer which may prevent overfitting and\n",
    "# improve generalization ability to unseen data e.g. the test-set.\n",
    "new_model.add(Dropout(0.5))\n",
    "\n",
    "# Add a dense (aka. fully-connected) layer.\n",
    "# This is for combining features that the VGG16 model has\n",
    "# recognized in the image.\n",
    "new_model.add(Dense(512, activation='relu'))\n",
    "\n",
    "# Add a dropout-layer which may prevent overfitting and\n",
    "# improve generalization ability to unseen data e.g. the test-set.\n",
    "new_model.add(Dropout(0.5))\n",
    "\n",
    "# Add a dense (aka. fully-connected) layer.\n",
    "# This is for combining features that the VGG16 model has\n",
    "# recognized in the image.\n",
    "new_model.add(Dense(256, activation='relu'))\n",
    "\n",
    "# Add a dense (aka. fully-connected) layer.\n",
    "# Change the activation function to sigmoid \n",
    "# so output of the last layer is in the range of [0,1] \n",
    "new_model.add(Dense(1, activation='sigmoid'))"
   ]
  },
  {
   "cell_type": "code",
   "execution_count": 23,
   "id": "8a971fd3",
   "metadata": {},
   "outputs": [],
   "source": [
    "## Set our optimizer, loss function, and learning rate\n",
    "optimizer = Adam(learning_rate=1e-6)\n",
    "loss = 'binary_crossentropy'\n",
    "metrics = ['binary_accuracy']"
   ]
  },
  {
   "cell_type": "code",
   "execution_count": 24,
   "id": "52dc80f2",
   "metadata": {},
   "outputs": [],
   "source": [
    "new_model.compile(optimizer=optimizer, loss=loss, metrics=metrics)"
   ]
  },
  {
   "cell_type": "code",
   "execution_count": 25,
   "id": "6aeeee13",
   "metadata": {},
   "outputs": [
    {
     "name": "stderr",
     "output_type": "stream",
     "text": [
      "/var/folders/v_/rh4ycfcn3vd4r73j2nln2brm0000gn/T/ipykernel_59819/3038495923.py:1: UserWarning: `Model.fit_generator` is deprecated and will be removed in a future version. Please use `Model.fit`, which supports generators.\n",
      "  history = new_model.fit_generator(train_gen,\n"
     ]
    },
    {
     "name": "stdout",
     "output_type": "stream",
     "text": [
      "Epoch 1/10\n"
     ]
    },
    {
     "name": "stderr",
     "output_type": "stream",
     "text": [
      "2022-03-14 11:36:47.508100: I tensorflow/core/grappler/optimizers/custom_graph_optimizer_registry.cc:112] Plugin optimizer for device_type GPU is enabled.\n"
     ]
    },
    {
     "name": "stdout",
     "output_type": "stream",
     "text": [
      "3/3 [==============================] - 1s 279ms/step - loss: 0.8102 - binary_accuracy: 0.3500 - val_loss: 0.6799 - val_binary_accuracy: 0.5000\n"
     ]
    },
    {
     "name": "stderr",
     "output_type": "stream",
     "text": [
      "2022-03-14 11:36:48.299509: I tensorflow/core/grappler/optimizers/custom_graph_optimizer_registry.cc:112] Plugin optimizer for device_type GPU is enabled.\n"
     ]
    },
    {
     "name": "stdout",
     "output_type": "stream",
     "text": [
      "Epoch 2/10\n",
      "3/3 [==============================] - 1s 212ms/step - loss: 0.7482 - binary_accuracy: 0.5500 - val_loss: 0.6799 - val_binary_accuracy: 0.5000\n",
      "Epoch 3/10\n",
      "3/3 [==============================] - 1s 188ms/step - loss: 0.6650 - binary_accuracy: 0.5500 - val_loss: 0.6797 - val_binary_accuracy: 0.5000\n",
      "Epoch 4/10\n",
      "3/3 [==============================] - 1s 276ms/step - loss: 0.6383 - binary_accuracy: 0.6000 - val_loss: 0.6794 - val_binary_accuracy: 0.5000\n",
      "Epoch 5/10\n",
      "3/3 [==============================] - 1s 209ms/step - loss: 0.7056 - binary_accuracy: 0.5000 - val_loss: 0.6792 - val_binary_accuracy: 0.5000\n",
      "Epoch 6/10\n",
      "3/3 [==============================] - 1s 270ms/step - loss: 0.6980 - binary_accuracy: 0.6500 - val_loss: 0.6790 - val_binary_accuracy: 0.5000\n",
      "Epoch 7/10\n",
      "3/3 [==============================] - 1s 209ms/step - loss: 0.7568 - binary_accuracy: 0.5500 - val_loss: 0.6788 - val_binary_accuracy: 0.5000\n",
      "Epoch 8/10\n",
      "3/3 [==============================] - 1s 273ms/step - loss: 0.6878 - binary_accuracy: 0.6500 - val_loss: 0.6784 - val_binary_accuracy: 0.5000\n",
      "Epoch 9/10\n",
      "3/3 [==============================] - 1s 190ms/step - loss: 0.5990 - binary_accuracy: 0.6500 - val_loss: 0.6782 - val_binary_accuracy: 0.5000\n",
      "Epoch 10/10\n",
      "3/3 [==============================] - 1s 186ms/step - loss: 0.6863 - binary_accuracy: 0.6000 - val_loss: 0.6781 - val_binary_accuracy: 0.5000\n"
     ]
    }
   ],
   "source": [
    "history = new_model.fit_generator(train_gen, \n",
    "                                  validation_data = (testX, testY), \n",
    "                                  epochs = 10)"
   ]
  },
  {
   "cell_type": "code",
   "execution_count": 26,
   "id": "c24d3ed6",
   "metadata": {},
   "outputs": [
    {
     "data": {
      "image/png": "[encoded data removed]",
      "text/plain": [
       "<Figure size 432x288 with 1 Axes>"
      ]
     },
     "metadata": {},
     "output_type": "display_data"
    }
   ],
   "source": [
    "plot_history(history)"
   ]
  },
  {
   "cell_type": "markdown",
   "id": "ded62e5e",
   "metadata": {},
   "source": [
    "The performance with this architecture and parameters is pretty unstable, and also isn't learning based on the flat val_loss curve. We see, however, that between epoch 3 and 8 the train_loss goes down, which indicates that while the model was learning _something,_ it was essentially just learning to overfit on the training data. "
   ]
  },
  {
   "cell_type": "code",
   "execution_count": null,
   "id": "37128075",
   "metadata": {},
   "outputs": [],
   "source": []
  }
 ],
 "metadata": {
  "kernelspec": {
   "display_name": "Python 3 (ipykernel)",
   "language": "python",
   "name": "python3"
  },
  "language_info": {
   "codemirror_mode": {
    "name": "ipython",
    "version": 3
   },
   "file_extension": ".py",
   "mimetype": "text/x-python",
   "name": "python",
   "nbconvert_exporter": "python",
   "pygments_lexer": "ipython3",
   "version": "3.9.7"
  }
 },
 "nbformat": 4,
 "nbformat_minor": 5
}
