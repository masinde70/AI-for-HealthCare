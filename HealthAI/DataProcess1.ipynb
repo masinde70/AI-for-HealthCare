{
 "cells": [
  {
   "cell_type": "markdown",
   "id": "266e8c01",
   "metadata": {},
   "source": [
    "### Split Dataset For Model Development Exercise\n",
    "In this exercise, we're going to prepare a dataset to be fed into a classification model for training. You're given a dataframe with image labels for 5,000 chest x-rays. Your goal is to prepare a training and a validation dataset for an algorithm that predicts the presence of a Pneumothorax (collapsed lung). Remember, we want our model to see an equal amount of positive and negative cases when it's training, but when we evaluate its performance, we should be looking at a class balance or imbalance that is more reflective of the real world. In this exercise,\n",
    "\n",
    "You will notice that Pneumothorax isn't a very common finding in this dataset, so you'll want to maximize your data so that you can use all of the true Pneumothorax cases in training. Given the large class imbalances, however, you may end up throwing away images that don't contain Pneumothorax.\n",
    "\n",
    "Here's an assumption you can make when creating your validation set: Despite the large imbalance of Pneumothorax in this dataset, in the actual clinical setting where you want to deploy your algorithm, the prevalence of Pneumothorax will be about 20%. This is because patients are only being x-rayed based on their clinical symptoms that make Pneumothorax highly likely.\n",
    "\n",
    "The final output of this exercise should be two dataframes: one containing data for training your algorithm, and one containing data for validating your algorithm."
   ]
  },
  {
   "cell_type": "code",
   "execution_count": 1,
   "id": "5e2e6685",
   "metadata": {},
   "outputs": [],
   "source": [
    "%matplotlib inline\n",
    "\n",
    "import pandas as pd\n",
    "import numpy as np\n",
    "import matplotlib.pyplot as plt\n",
    "import seaborn as sns\n",
    "from random import sample\n",
    "\n",
    "from itertools import chain\n",
    "from random import sample \n",
    "import scipy\n",
    "\n",
    "import sklearn.model_selection as skl"
   ]
  },
  {
   "cell_type": "markdown",
   "id": "7547f059",
   "metadata": {},
   "source": [
    "## 1. Read the Data\n",
    "First read in the dataframe. You'll notice it's similar to the dataframe that you ended the final solution with in Lesson 2, Exercise 4, only with more data:"
   ]
  },
  {
   "cell_type": "code",
   "execution_count": 2,
   "id": "84e8d69b",
   "metadata": {},
   "outputs": [
    {
     "data": {
      "text/html": [
       "<div>\n",
       "<style scoped>\n",
       "    .dataframe tbody tr th:only-of-type {\n",
       "        vertical-align: middle;\n",
       "    }\n",
       "\n",
       "    .dataframe tbody tr th {\n",
       "        vertical-align: top;\n",
       "    }\n",
       "\n",
       "    .dataframe thead th {\n",
       "        text-align: right;\n",
       "    }\n",
       "</style>\n",
       "<table border=\"1\" class=\"dataframe\">\n",
       "  <thead>\n",
       "    <tr style=\"text-align: right;\">\n",
       "      <th></th>\n",
       "      <th>Unnamed: 0</th>\n",
       "      <th>Finding Labels</th>\n",
       "      <th>Patient ID</th>\n",
       "      <th>Patient Age</th>\n",
       "      <th>Patient Gender</th>\n",
       "      <th>Atelectasis</th>\n",
       "      <th>Cardiomegaly</th>\n",
       "      <th>Consolidation</th>\n",
       "      <th>Edema</th>\n",
       "      <th>Effusion</th>\n",
       "      <th>Emphysema</th>\n",
       "      <th>Fibrosis</th>\n",
       "      <th>Hernia</th>\n",
       "      <th>Infiltration</th>\n",
       "      <th>Mass</th>\n",
       "      <th>No Finding</th>\n",
       "      <th>Nodule</th>\n",
       "      <th>Pleural_Thickening</th>\n",
       "      <th>Pneumonia</th>\n",
       "      <th>Pneumothorax</th>\n",
       "    </tr>\n",
       "  </thead>\n",
       "  <tbody>\n",
       "    <tr>\n",
       "      <th>0</th>\n",
       "      <td>1</td>\n",
       "      <td>Cardiomegaly|Emphysema</td>\n",
       "      <td>1</td>\n",
       "      <td>57</td>\n",
       "      <td>M</td>\n",
       "      <td>0.0</td>\n",
       "      <td>1.0</td>\n",
       "      <td>0.0</td>\n",
       "      <td>0.0</td>\n",
       "      <td>0.0</td>\n",
       "      <td>1.0</td>\n",
       "      <td>0.0</td>\n",
       "      <td>0.0</td>\n",
       "      <td>0.0</td>\n",
       "      <td>0.0</td>\n",
       "      <td>0.0</td>\n",
       "      <td>0.0</td>\n",
       "      <td>0.0</td>\n",
       "      <td>0.0</td>\n",
       "      <td>0.0</td>\n",
       "    </tr>\n",
       "    <tr>\n",
       "      <th>1</th>\n",
       "      <td>2</td>\n",
       "      <td>No Finding</td>\n",
       "      <td>2</td>\n",
       "      <td>77</td>\n",
       "      <td>M</td>\n",
       "      <td>0.0</td>\n",
       "      <td>0.0</td>\n",
       "      <td>0.0</td>\n",
       "      <td>0.0</td>\n",
       "      <td>0.0</td>\n",
       "      <td>0.0</td>\n",
       "      <td>0.0</td>\n",
       "      <td>0.0</td>\n",
       "      <td>0.0</td>\n",
       "      <td>0.0</td>\n",
       "      <td>1.0</td>\n",
       "      <td>0.0</td>\n",
       "      <td>0.0</td>\n",
       "      <td>0.0</td>\n",
       "      <td>0.0</td>\n",
       "    </tr>\n",
       "    <tr>\n",
       "      <th>2</th>\n",
       "      <td>3</td>\n",
       "      <td>Atelectasis</td>\n",
       "      <td>3</td>\n",
       "      <td>79</td>\n",
       "      <td>M</td>\n",
       "      <td>1.0</td>\n",
       "      <td>0.0</td>\n",
       "      <td>0.0</td>\n",
       "      <td>0.0</td>\n",
       "      <td>0.0</td>\n",
       "      <td>0.0</td>\n",
       "      <td>0.0</td>\n",
       "      <td>0.0</td>\n",
       "      <td>0.0</td>\n",
       "      <td>0.0</td>\n",
       "      <td>0.0</td>\n",
       "      <td>0.0</td>\n",
       "      <td>0.0</td>\n",
       "      <td>0.0</td>\n",
       "      <td>0.0</td>\n",
       "    </tr>\n",
       "    <tr>\n",
       "      <th>3</th>\n",
       "      <td>4</td>\n",
       "      <td>Cardiomegaly|Edema|Effusion</td>\n",
       "      <td>4</td>\n",
       "      <td>55</td>\n",
       "      <td>F</td>\n",
       "      <td>0.0</td>\n",
       "      <td>1.0</td>\n",
       "      <td>0.0</td>\n",
       "      <td>1.0</td>\n",
       "      <td>1.0</td>\n",
       "      <td>0.0</td>\n",
       "      <td>0.0</td>\n",
       "      <td>0.0</td>\n",
       "      <td>0.0</td>\n",
       "      <td>0.0</td>\n",
       "      <td>0.0</td>\n",
       "      <td>0.0</td>\n",
       "      <td>0.0</td>\n",
       "      <td>0.0</td>\n",
       "      <td>0.0</td>\n",
       "    </tr>\n",
       "    <tr>\n",
       "      <th>4</th>\n",
       "      <td>5</td>\n",
       "      <td>Consolidation|Mass</td>\n",
       "      <td>5</td>\n",
       "      <td>68</td>\n",
       "      <td>M</td>\n",
       "      <td>0.0</td>\n",
       "      <td>0.0</td>\n",
       "      <td>1.0</td>\n",
       "      <td>0.0</td>\n",
       "      <td>0.0</td>\n",
       "      <td>0.0</td>\n",
       "      <td>0.0</td>\n",
       "      <td>0.0</td>\n",
       "      <td>0.0</td>\n",
       "      <td>1.0</td>\n",
       "      <td>0.0</td>\n",
       "      <td>0.0</td>\n",
       "      <td>0.0</td>\n",
       "      <td>0.0</td>\n",
       "      <td>0.0</td>\n",
       "    </tr>\n",
       "  </tbody>\n",
       "</table>\n",
       "</div>"
      ],
      "text/plain": [
       "   Unnamed: 0               Finding Labels  Patient ID  Patient Age  \\\n",
       "0           1       Cardiomegaly|Emphysema           1           57   \n",
       "1           2                   No Finding           2           77   \n",
       "2           3                  Atelectasis           3           79   \n",
       "3           4  Cardiomegaly|Edema|Effusion           4           55   \n",
       "4           5           Consolidation|Mass           5           68   \n",
       "\n",
       "  Patient Gender  Atelectasis  Cardiomegaly  Consolidation  Edema  Effusion  \\\n",
       "0              M          0.0           1.0            0.0    0.0       0.0   \n",
       "1              M          0.0           0.0            0.0    0.0       0.0   \n",
       "2              M          1.0           0.0            0.0    0.0       0.0   \n",
       "3              F          0.0           1.0            0.0    1.0       1.0   \n",
       "4              M          0.0           0.0            1.0    0.0       0.0   \n",
       "\n",
       "   Emphysema  Fibrosis  Hernia  Infiltration  Mass  No Finding  Nodule  \\\n",
       "0        1.0       0.0     0.0           0.0   0.0         0.0     0.0   \n",
       "1        0.0       0.0     0.0           0.0   0.0         1.0     0.0   \n",
       "2        0.0       0.0     0.0           0.0   0.0         0.0     0.0   \n",
       "3        0.0       0.0     0.0           0.0   0.0         0.0     0.0   \n",
       "4        0.0       0.0     0.0           0.0   1.0         0.0     0.0   \n",
       "\n",
       "   Pleural_Thickening  Pneumonia  Pneumothorax  \n",
       "0                 0.0        0.0           0.0  \n",
       "1                 0.0        0.0           0.0  \n",
       "2                 0.0        0.0           0.0  \n",
       "3                 0.0        0.0           0.0  \n",
       "4                 0.0        0.0           0.0  "
      ]
     },
     "execution_count": 2,
     "metadata": {},
     "output_type": "execute_result"
    }
   ],
   "source": [
    "d = pd.read_csv('findings_data_5000.csv')\n",
    "d.head()"
   ]
  },
  {
   "cell_type": "markdown",
   "id": "1d90ff09",
   "metadata": {},
   "source": [
    "## 2. Understand the Distribution\n",
    "Just like in Lesson 2, Exercise 4, we want to see how different diseases are distributed with our disease of interest, as well as how age and gender are distributed:"
   ]
  },
  {
   "cell_type": "code",
   "execution_count": 3,
   "id": "6eb0d05f",
   "metadata": {},
   "outputs": [],
   "source": [
    "all_labels = np.unique(list(chain(*d['Finding Labels'].map(lambda x: x.split('|')).tolist())))\n",
    "all_labels = [x for x in all_labels if len(x)>0]"
   ]
  },
  {
   "cell_type": "code",
   "execution_count": 4,
   "id": "bd87a596",
   "metadata": {},
   "outputs": [
    {
     "data": {
      "text/plain": [
       "[Text(0, 0.5, 'Number of Images with Label')]"
      ]
     },
     "execution_count": 4,
     "metadata": {},
     "output_type": "execute_result"
    },
    {
     "data": {
      "image/png": "[encoded data removed]",
      "text/plain": [
       "<Figure size 432x288 with 1 Axes>"
      ]
     },
     "metadata": {
      "needs_background": "light"
     },
     "output_type": "display_data"
    }
   ],
   "source": [
    "ax = d[all_labels].sum().plot(kind='bar')\n",
    "ax.set(ylabel = 'Number of Images with Label')"
   ]
  },
  {
   "cell_type": "code",
   "execution_count": 5,
   "id": "d9861a9e",
   "metadata": {},
   "outputs": [
    {
     "data": {
      "text/plain": [
       "<AxesSubplot:>"
      ]
     },
     "execution_count": 5,
     "metadata": {},
     "output_type": "execute_result"
    },
    {
     "data": {
      "image/png": "[encoded data removed]",
      "text/plain": [
       "<Figure size 1152x432 with 1 Axes>"
      ]
     },
     "metadata": {
      "needs_background": "light"
     },
     "output_type": "display_data"
    }
   ],
   "source": [
    "plt.figure(figsize=(16,6))\n",
    "d[d.Pneumothorax==1]['Finding Labels'].value_counts()[0:30].plot(kind='bar')"
   ]
  },
  {
   "cell_type": "code",
   "execution_count": 6,
   "id": "5b6d753c",
   "metadata": {},
   "outputs": [
    {
     "data": {
      "text/plain": [
       "<AxesSubplot:>"
      ]
     },
     "execution_count": 6,
     "metadata": {},
     "output_type": "execute_result"
    },
    {
     "data": {
      "image/png": "[encoded data removed]",
      "text/plain": [
       "<Figure size 432x432 with 1 Axes>"
      ]
     },
     "metadata": {
      "needs_background": "light"
     },
     "output_type": "display_data"
    }
   ],
   "source": [
    "plt.figure(figsize=(6,6))\n",
    "d[d.Pneumothorax ==1]['Patient Gender'].value_counts().plot(kind='bar')"
   ]
  },
  {
   "cell_type": "code",
   "execution_count": 7,
   "id": "907ee916",
   "metadata": {},
   "outputs": [
    {
     "data": {
      "text/plain": [
       "(array([12., 18., 13., 21., 20., 47., 50., 26.,  9.,  4.]),\n",
       " array([ 7. , 14.6, 22.2, 29.8, 37.4, 45. , 52.6, 60.2, 67.8, 75.4, 83. ]),\n",
       " <BarContainer object of 10 artists>)"
      ]
     },
     "execution_count": 7,
     "metadata": {},
     "output_type": "execute_result"
    },
    {
     "data": {
      "image/png": "[encoded data removed]",
      "text/plain": [
       "<Figure size 720x432 with 1 Axes>"
      ]
     },
     "metadata": {
      "needs_background": "light"
     },
     "output_type": "display_data"
    }
   ],
   "source": [
    "plt.figure(figsize=(10,6))\n",
    "plt.hist(d[d.Pneumothorax==1]['Patient Age'])"
   ]
  },
  {
   "cell_type": "markdown",
   "id": "6699921c",
   "metadata": {},
   "source": [
    "## 3. Split the Data into Train/Test Partitions\n",
    "Now, knowing what we know from above, let's create the appropriate training and validation sets for a model that we want to train to classify the presence of a Pneumothorax"
   ]
  },
  {
   "cell_type": "code",
   "execution_count": 8,
   "id": "ded502fe",
   "metadata": {},
   "outputs": [],
   "source": [
    "train_df, valid_df = skl.train_test_split(d, \n",
    "                                   test_size = 0.2, \n",
    "                                   stratify = d['Pneumothorax'])"
   ]
  },
  {
   "cell_type": "code",
   "execution_count": 9,
   "id": "e05d36ad",
   "metadata": {},
   "outputs": [
    {
     "data": {
      "text/plain": [
       "0.04401100275068767"
      ]
     },
     "execution_count": 9,
     "metadata": {},
     "output_type": "execute_result"
    }
   ],
   "source": [
    "train_df['Pneumothorax'].sum()/len(train_df)"
   ]
  },
  {
   "cell_type": "code",
   "execution_count": 10,
   "id": "17ca3a91",
   "metadata": {},
   "outputs": [
    {
     "data": {
      "text/plain": [
       "0.044"
      ]
     },
     "execution_count": 10,
     "metadata": {},
     "output_type": "execute_result"
    }
   ],
   "source": [
    "valid_df['Pneumothorax'].sum()/len(valid_df)"
   ]
  },
  {
   "cell_type": "markdown",
   "id": "3fce286f",
   "metadata": {},
   "source": [
    "Great, our train_test_split made sure that we had the same proportions of Pneumothorax in both sets!\n",
    "\n",
    "### Condition 1 - To have _EQUAL_ amount of positive and negative cases of Pneumothorax in Training \n",
    "But.... we know that we want our model to be trained on a set that has _equal_ proportions of pneumothorax and no pneumothorax, so we're going to have to throw away some data:"
   ]
  },
  {
   "cell_type": "code",
   "execution_count": 11,
   "id": "5c049184",
   "metadata": {},
   "outputs": [],
   "source": [
    "p_inds = train_df[train_df.Pneumothorax==1].index.tolist()\n",
    "np_inds = train_df[train_df.Pneumothorax==0].index.tolist()\n",
    "\n",
    "np_sample = sample(np_inds,len(p_inds))\n",
    "train_df = train_df.loc[p_inds + np_sample]"
   ]
  },
  {
   "cell_type": "code",
   "execution_count": 12,
   "id": "ae5d13c8",
   "metadata": {},
   "outputs": [
    {
     "data": {
      "text/plain": [
       "0.5"
      ]
     },
     "execution_count": 12,
     "metadata": {},
     "output_type": "execute_result"
    }
   ],
   "source": [
    "train_df['Pneumothorax'].sum()/len(train_df)"
   ]
  },
  {
   "cell_type": "markdown",
   "id": "fdd6dec6",
   "metadata": {},
   "source": [
    "Ta-da! We randomly chose a set of non-Pneumothorax images using the sample() function that was the same length as the number of true Pneumothorax cases we had, and then we threw out the rest of the non-Pneumothorax cases. Now our training dataset is balanced 50-50.\n",
    "\n",
    "### Condition 2 - To have 20% positive cases of Pneumothorax in the Test Set\n",
    "Finally, we want to make the balance in our validation set more like 20-80 since our exercise told us that the prevalence of Pneumothorax in this clinical situation is about 20%:"
   ]
  },
  {
   "cell_type": "code",
   "execution_count": 13,
   "id": "5aae7148",
   "metadata": {},
   "outputs": [],
   "source": [
    "p_inds = valid_df[valid_df.Pneumothorax==1].index.tolist()\n",
    "np_inds = valid_df[valid_df.Pneumothorax==0].index.tolist()\n",
    "\n",
    "# The following code pulls a random sample of non-pneumonia data that's 4 times as big as the pneumonia sample.\n",
    "np_sample = sample(np_inds,4*len(p_inds))\n",
    "valid_df = valid_df.loc[p_inds + np_sample]"
   ]
  },
  {
   "cell_type": "code",
   "execution_count": 14,
   "id": "08b19ca0",
   "metadata": {},
   "outputs": [
    {
     "data": {
      "text/plain": [
       "0.2"
      ]
     },
     "execution_count": 14,
     "metadata": {},
     "output_type": "execute_result"
    }
   ],
   "source": [
    "valid_df['Pneumothorax'].sum()/len(valid_df)"
   ]
  },
  {
   "cell_type": "code",
   "execution_count": null,
   "id": "6d5ac7f1",
   "metadata": {},
   "outputs": [],
   "source": []
  }
 ],
 "metadata": {
  "kernelspec": {
   "display_name": "Python 3 (ipykernel)",
   "language": "python",
   "name": "python3"
  },
  "language_info": {
   "codemirror_mode": {
    "name": "ipython",
    "version": 3
   },
   "file_extension": ".py",
   "mimetype": "text/x-python",
   "name": "python",
   "nbconvert_exporter": "python",
   "pygments_lexer": "ipython3",
   "version": "3.9.7"
  }
 },
 "nbformat": 4,
 "nbformat_minor": 5
}
