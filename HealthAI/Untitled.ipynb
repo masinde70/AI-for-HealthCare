{
 "cells": [
  {
   "cell_type": "markdown",
   "id": "1355ce6d",
   "metadata": {},
   "source": [
    "##### Exploring Population Metadata Exercise\n",
    "You've now learned how to explore individual images and their associated data as you prepare them for machine learning. The other important aspect of EDA is exploring your population. In this exercise, you'll be given a dataframe that describes a large dataset. Your goal is to perform EDA on the population in the dataset such that you can answer the following questions:\n",
    "\n",
    "How are the different diseases distributed in my dataset in terms of frequency and co-occurrence with one another? (For the sake of time, just choose one of the diseases and assess its co-occurrence frequencies with all other diseases.)\n",
    "How is age distributed across my dataset? Is it distributed differently for different diseases?\n",
    "How is sex distributed across my dataset? Is it distributed differently for different diseases?\n",
    "For findings that have a Mass_size (i.e. not just a binary classification of disease presence) is there a relationship between size and age, sex, or presence of other diseases?"
   ]
  },
  {
   "cell_type": "code",
   "execution_count": 2,
   "id": "3699da64",
   "metadata": {},
   "outputs": [],
   "source": []
  },
  {
   "cell_type": "code",
   "execution_count": null,
   "id": "24bf8d4b",
   "metadata": {},
   "outputs": [],
   "source": []
  }
 ],
 "metadata": {
  "kernelspec": {
   "display_name": "Python 3 (ipykernel)",
   "language": "python",
   "name": "python3"
  },
  "language_info": {
   "codemirror_mode": {
    "name": "ipython",
    "version": 3
   },
   "file_extension": ".py",
   "mimetype": "text/x-python",
   "name": "python",
   "nbconvert_exporter": "python",
   "pygments_lexer": "ipython3",
   "version": "3.9.7"
  }
 },
 "nbformat": 4,
 "nbformat_minor": 5
}
