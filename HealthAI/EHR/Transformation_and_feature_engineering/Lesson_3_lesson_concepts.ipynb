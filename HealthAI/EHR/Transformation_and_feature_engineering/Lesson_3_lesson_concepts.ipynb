{
 "cells": [
  {
   "cell_type": "markdown",
   "metadata": {},
   "source": [
    "This the code for walking through the lesson examples for your reference."
   ]
  },
  {
   "cell_type": "markdown",
   "metadata": {},
   "source": [
    "[Solution](https://www.youtube.com/watch?v=ymL-vyz-RoU&t=106s&ab_channel=Udacity)"
   ]
  },
  {
   "cell_type": "markdown",
   "metadata": {},
   "source": [
    "## Code for Building Synthetic Dataset"
   ]
  },
  {
   "cell_type": "code",
   "execution_count": 1,
   "metadata": {},
   "outputs": [],
   "source": [
    "import pandas as pd\n",
    "import numpy as np"
   ]
  },
  {
   "cell_type": "code",
   "execution_count": 2,
   "metadata": {},
   "outputs": [],
   "source": [
    "#build synthetic line level example\n",
    "NUMBER_RECORDS = 100000\n",
    "NUMBER_ENCOUNTERS = 7800\n",
    "NUMBER_PATIENTS = 1000"
   ]
  },
  {
   "cell_type": "code",
   "execution_count": 3,
   "metadata": {},
   "outputs": [],
   "source": [
    "# Create random list of code sets for diagnosis, procedure, medication, and lab codes\n",
    "dx_code_list = [\"dx_code_\" + str(x) for x in np.arange(1,100000)]\n",
    "procedure_code_list =[\"procedure_code_\" + str(x) for x in np.arange(0,73000)]\n",
    "medication_code_list = [\"medication_code_\" + str(x) for x in np.arange(0,10000)]\n",
    "lab_code_list = [\"lab_code_\" + str(x) for x in np.arange(0,10000)]"
   ]
  },
  {
   "cell_type": "code",
   "execution_count": 4,
   "metadata": {},
   "outputs": [],
   "source": [
    "patient_id_list = [\"udacity_health_patient_id_\" + str(x) for x in np.arange(1, NUMBER_PATIENTS +1)]\n",
    "encounter_id_list = [\"udacity_health_encounter_id_\" + str(x) for x in np.arange(1, NUMBER_ENCOUNTERS +1)]"
   ]
  },
  {
   "cell_type": "code",
   "execution_count": 5,
   "metadata": {},
   "outputs": [],
   "source": [
    "def random_value_selection(field_value_list, number_records):\n",
    "    #build normal probability distribution \n",
    "    field_prob_dist = np.random.dirichlet(np.ones(len(field_value_list)), size=1)[0] \n",
    "    #build random value list for field\n",
    "    field_random_values = np.random.choice(field_value_list, number_records, p=field_prob_dist)\n",
    "    return field_random_values"
   ]
  },
  {
   "cell_type": "code",
   "execution_count": 6,
   "metadata": {},
   "outputs": [],
   "source": [
    "#patient_values = random_value_selection(patient_id_list, NUMBER_RECORDS)\n",
    "encounter_values = random_value_selection(encounter_id_list, NUMBER_RECORDS)"
   ]
  },
  {
   "cell_type": "code",
   "execution_count": 7,
   "metadata": {},
   "outputs": [],
   "source": [
    "encounter_patient_mapping = dict(zip(encounter_id_list,   random_value_selection(patient_id_list, NUMBER_ENCOUNTERS)))\n",
    "patient_values = [encounter_patient_mapping[x] for x in encounter_values]"
   ]
  },
  {
   "cell_type": "code",
   "execution_count": 8,
   "metadata": {},
   "outputs": [],
   "source": [
    "dx_value_mapping = dict(zip(encounter_id_list, random_value_selection(dx_code_list, NUMBER_ENCOUNTERS) ))\n",
    "dx_values = [dx_value_mapping[x] for x in encounter_values ]"
   ]
  },
  {
   "cell_type": "code",
   "execution_count": 9,
   "metadata": {},
   "outputs": [],
   "source": [
    "procedure_values = random_value_selection(procedure_code_list, NUMBER_RECORDS)\n",
    "medication_values = random_value_selection(medication_code_list, NUMBER_RECORDS)\n",
    "lab_values = random_value_selection(lab_code_list, NUMBER_RECORDS)"
   ]
  },
  {
   "cell_type": "code",
   "execution_count": 10,
   "metadata": {},
   "outputs": [],
   "source": [
    "triplet_prob_choice = np.random.choice([0, 1, 2], NUMBER_RECORDS, p= np.random.dirichlet(np.ones(3), size=1)[0] )\n",
    "line_triplet_values = list(zip(procedure_values, medication_values, lab_values, triplet_prob_choice))\n",
    "selected_procedure_values = [x[0] if x[3] == 0 else np.nan for x in line_triplet_values ]\n",
    "selected_medication_values = [x[1] if x[3] == 1 else np.nan for x in line_triplet_values]\n",
    "selected_lab_values = [x[2] if x[3] == 2 else np.nan for x in line_triplet_values]"
   ]
  },
  {
   "cell_type": "code",
   "execution_count": 11,
   "metadata": {},
   "outputs": [],
   "source": [
    "#add label\n",
    "patient_label_mapping = dict(zip( patient_id_list, np.random.choice([0, 1], NUMBER_PATIENTS, replace=True, \n",
    "                                                                    p=[0.88, 0.12]) ))\n",
    "label_values = [patient_label_mapping[x] for x in patient_values]"
   ]
  },
  {
   "cell_type": "code",
   "execution_count": 12,
   "metadata": {},
   "outputs": [],
   "source": [
    "line_df = pd.DataFrame({ \"ENCOUNTER_ID\": encounter_values,\n",
    "                        \"PATIENT_ID\": patient_values,\n",
    "                        \"PRINCIPAL_DIAGNOSIS_CODE\": dx_values,\n",
    "                        \"PROCEDURE_CODE\": selected_procedure_values,\n",
    "                        \"MEDICATION_CODE\": selected_medication_values,\n",
    "                        \"LAB_CODE\": selected_lab_values,\n",
    "                        \"LABEL\": label_values\n",
    "                       })"
   ]
  },
  {
   "cell_type": "code",
   "execution_count": 13,
   "metadata": {},
   "outputs": [],
   "source": [
    "#line_df.to_csv(\"./data/SYNTHETIC_EHR_DATASET.csv\", index=False)"
   ]
  },
  {
   "cell_type": "markdown",
   "metadata": {},
   "source": [
    "## 1. Converting Line to Encounter Representation"
   ]
  },
  {
   "cell_type": "markdown",
   "metadata": {},
   "source": [
    "### Load Synthetic EHR Line Dataset"
   ]
  },
  {
   "cell_type": "code",
   "execution_count": 14,
   "metadata": {},
   "outputs": [],
   "source": [
    "ehr_line_df = pd.read_csv(\"SYNTHETIC_EHR_DATASET.csv\")"
   ]
  },
  {
   "cell_type": "code",
   "execution_count": 15,
   "metadata": {},
   "outputs": [
    {
     "data": {
      "text/html": [
       "<div>\n",
       "<style scoped>\n",
       "    .dataframe tbody tr th:only-of-type {\n",
       "        vertical-align: middle;\n",
       "    }\n",
       "\n",
       "    .dataframe tbody tr th {\n",
       "        vertical-align: top;\n",
       "    }\n",
       "\n",
       "    .dataframe thead th {\n",
       "        text-align: right;\n",
       "    }\n",
       "</style>\n",
       "<table border=\"1\" class=\"dataframe\">\n",
       "  <thead>\n",
       "    <tr style=\"text-align: right;\">\n",
       "      <th></th>\n",
       "      <th>ENCOUNTER_ID</th>\n",
       "      <th>PATIENT_ID</th>\n",
       "      <th>PRINCIPAL_DIAGNOSIS_CODE</th>\n",
       "      <th>PROCEDURE_CODE</th>\n",
       "      <th>MEDICATION_CODE</th>\n",
       "      <th>LAB_CODE</th>\n",
       "      <th>LABEL</th>\n",
       "    </tr>\n",
       "  </thead>\n",
       "  <tbody>\n",
       "    <tr>\n",
       "      <th>0</th>\n",
       "      <td>udacity_health_encounter_id_1933</td>\n",
       "      <td>udacity_health_patient_id_817</td>\n",
       "      <td>dx_code_56522</td>\n",
       "      <td>procedure_code_20005</td>\n",
       "      <td>NaN</td>\n",
       "      <td>NaN</td>\n",
       "      <td>0</td>\n",
       "    </tr>\n",
       "    <tr>\n",
       "      <th>1</th>\n",
       "      <td>udacity_health_encounter_id_5664</td>\n",
       "      <td>udacity_health_patient_id_594</td>\n",
       "      <td>dx_code_39264</td>\n",
       "      <td>NaN</td>\n",
       "      <td>medication_code_7471</td>\n",
       "      <td>NaN</td>\n",
       "      <td>0</td>\n",
       "    </tr>\n",
       "    <tr>\n",
       "      <th>2</th>\n",
       "      <td>udacity_health_encounter_id_1946</td>\n",
       "      <td>udacity_health_patient_id_169</td>\n",
       "      <td>dx_code_83619</td>\n",
       "      <td>NaN</td>\n",
       "      <td>NaN</td>\n",
       "      <td>lab_code_5311</td>\n",
       "      <td>0</td>\n",
       "    </tr>\n",
       "    <tr>\n",
       "      <th>3</th>\n",
       "      <td>udacity_health_encounter_id_1528</td>\n",
       "      <td>udacity_health_patient_id_870</td>\n",
       "      <td>dx_code_97434</td>\n",
       "      <td>procedure_code_31111</td>\n",
       "      <td>NaN</td>\n",
       "      <td>NaN</td>\n",
       "      <td>0</td>\n",
       "    </tr>\n",
       "    <tr>\n",
       "      <th>4</th>\n",
       "      <td>udacity_health_encounter_id_7185</td>\n",
       "      <td>udacity_health_patient_id_722</td>\n",
       "      <td>dx_code_68924</td>\n",
       "      <td>NaN</td>\n",
       "      <td>medication_code_2250</td>\n",
       "      <td>NaN</td>\n",
       "      <td>0</td>\n",
       "    </tr>\n",
       "  </tbody>\n",
       "</table>\n",
       "</div>"
      ],
      "text/plain": [
       "                       ENCOUNTER_ID                     PATIENT_ID  \\\n",
       "0  udacity_health_encounter_id_1933  udacity_health_patient_id_817   \n",
       "1  udacity_health_encounter_id_5664  udacity_health_patient_id_594   \n",
       "2  udacity_health_encounter_id_1946  udacity_health_patient_id_169   \n",
       "3  udacity_health_encounter_id_1528  udacity_health_patient_id_870   \n",
       "4  udacity_health_encounter_id_7185  udacity_health_patient_id_722   \n",
       "\n",
       "  PRINCIPAL_DIAGNOSIS_CODE        PROCEDURE_CODE       MEDICATION_CODE  \\\n",
       "0            dx_code_56522  procedure_code_20005                   NaN   \n",
       "1            dx_code_39264                   NaN  medication_code_7471   \n",
       "2            dx_code_83619                   NaN                   NaN   \n",
       "3            dx_code_97434  procedure_code_31111                   NaN   \n",
       "4            dx_code_68924                   NaN  medication_code_2250   \n",
       "\n",
       "        LAB_CODE  LABEL  \n",
       "0            NaN      0  \n",
       "1            NaN      0  \n",
       "2  lab_code_5311      0  \n",
       "3            NaN      0  \n",
       "4            NaN      0  "
      ]
     },
     "execution_count": 15,
     "metadata": {},
     "output_type": "execute_result"
    }
   ],
   "source": [
    "ehr_line_df.head()"
   ]
  },
  {
   "cell_type": "code",
   "execution_count": 16,
   "metadata": {},
   "outputs": [
    {
     "data": {
      "text/html": [
       "<div>\n",
       "<style scoped>\n",
       "    .dataframe tbody tr th:only-of-type {\n",
       "        vertical-align: middle;\n",
       "    }\n",
       "\n",
       "    .dataframe tbody tr th {\n",
       "        vertical-align: top;\n",
       "    }\n",
       "\n",
       "    .dataframe thead th {\n",
       "        text-align: right;\n",
       "    }\n",
       "</style>\n",
       "<table border=\"1\" class=\"dataframe\">\n",
       "  <thead>\n",
       "    <tr style=\"text-align: right;\">\n",
       "      <th></th>\n",
       "      <th>ENCOUNTER_ID</th>\n",
       "      <th>PATIENT_ID</th>\n",
       "      <th>PRINCIPAL_DIAGNOSIS_CODE</th>\n",
       "      <th>PROCEDURE_CODE</th>\n",
       "      <th>MEDICATION_CODE</th>\n",
       "      <th>LAB_CODE</th>\n",
       "      <th>LABEL</th>\n",
       "    </tr>\n",
       "  </thead>\n",
       "  <tbody>\n",
       "    <tr>\n",
       "      <th>14286</th>\n",
       "      <td>udacity_health_encounter_id_100</td>\n",
       "      <td>udacity_health_patient_id_585</td>\n",
       "      <td>dx_code_71465</td>\n",
       "      <td>NaN</td>\n",
       "      <td>NaN</td>\n",
       "      <td>lab_code_4198</td>\n",
       "      <td>0</td>\n",
       "    </tr>\n",
       "    <tr>\n",
       "      <th>19091</th>\n",
       "      <td>udacity_health_encounter_id_100</td>\n",
       "      <td>udacity_health_patient_id_585</td>\n",
       "      <td>dx_code_71465</td>\n",
       "      <td>NaN</td>\n",
       "      <td>medication_code_7982</td>\n",
       "      <td>NaN</td>\n",
       "      <td>0</td>\n",
       "    </tr>\n",
       "    <tr>\n",
       "      <th>29530</th>\n",
       "      <td>udacity_health_encounter_id_100</td>\n",
       "      <td>udacity_health_patient_id_585</td>\n",
       "      <td>dx_code_71465</td>\n",
       "      <td>NaN</td>\n",
       "      <td>NaN</td>\n",
       "      <td>lab_code_6603</td>\n",
       "      <td>0</td>\n",
       "    </tr>\n",
       "    <tr>\n",
       "      <th>34583</th>\n",
       "      <td>udacity_health_encounter_id_100</td>\n",
       "      <td>udacity_health_patient_id_585</td>\n",
       "      <td>dx_code_71465</td>\n",
       "      <td>NaN</td>\n",
       "      <td>NaN</td>\n",
       "      <td>lab_code_332</td>\n",
       "      <td>0</td>\n",
       "    </tr>\n",
       "    <tr>\n",
       "      <th>62325</th>\n",
       "      <td>udacity_health_encounter_id_100</td>\n",
       "      <td>udacity_health_patient_id_585</td>\n",
       "      <td>dx_code_71465</td>\n",
       "      <td>NaN</td>\n",
       "      <td>medication_code_2452</td>\n",
       "      <td>NaN</td>\n",
       "      <td>0</td>\n",
       "    </tr>\n",
       "    <tr>\n",
       "      <th>64967</th>\n",
       "      <td>udacity_health_encounter_id_100</td>\n",
       "      <td>udacity_health_patient_id_585</td>\n",
       "      <td>dx_code_71465</td>\n",
       "      <td>NaN</td>\n",
       "      <td>NaN</td>\n",
       "      <td>lab_code_1431</td>\n",
       "      <td>0</td>\n",
       "    </tr>\n",
       "    <tr>\n",
       "      <th>94636</th>\n",
       "      <td>udacity_health_encounter_id_100</td>\n",
       "      <td>udacity_health_patient_id_585</td>\n",
       "      <td>dx_code_71465</td>\n",
       "      <td>NaN</td>\n",
       "      <td>medication_code_279</td>\n",
       "      <td>NaN</td>\n",
       "      <td>0</td>\n",
       "    </tr>\n",
       "  </tbody>\n",
       "</table>\n",
       "</div>"
      ],
      "text/plain": [
       "                          ENCOUNTER_ID                     PATIENT_ID  \\\n",
       "14286  udacity_health_encounter_id_100  udacity_health_patient_id_585   \n",
       "19091  udacity_health_encounter_id_100  udacity_health_patient_id_585   \n",
       "29530  udacity_health_encounter_id_100  udacity_health_patient_id_585   \n",
       "34583  udacity_health_encounter_id_100  udacity_health_patient_id_585   \n",
       "62325  udacity_health_encounter_id_100  udacity_health_patient_id_585   \n",
       "64967  udacity_health_encounter_id_100  udacity_health_patient_id_585   \n",
       "94636  udacity_health_encounter_id_100  udacity_health_patient_id_585   \n",
       "\n",
       "      PRINCIPAL_DIAGNOSIS_CODE PROCEDURE_CODE       MEDICATION_CODE  \\\n",
       "14286            dx_code_71465            NaN                   NaN   \n",
       "19091            dx_code_71465            NaN  medication_code_7982   \n",
       "29530            dx_code_71465            NaN                   NaN   \n",
       "34583            dx_code_71465            NaN                   NaN   \n",
       "62325            dx_code_71465            NaN  medication_code_2452   \n",
       "64967            dx_code_71465            NaN                   NaN   \n",
       "94636            dx_code_71465            NaN   medication_code_279   \n",
       "\n",
       "            LAB_CODE  LABEL  \n",
       "14286  lab_code_4198      0  \n",
       "19091            NaN      0  \n",
       "29530  lab_code_6603      0  \n",
       "34583   lab_code_332      0  \n",
       "62325            NaN      0  \n",
       "64967  lab_code_1431      0  \n",
       "94636            NaN      0  "
      ]
     },
     "execution_count": 16,
     "metadata": {},
     "output_type": "execute_result"
    }
   ],
   "source": [
    "ehr_line_df[ehr_line_df['ENCOUNTER_ID']=='udacity_health_encounter_id_100']"
   ]
  },
  {
   "cell_type": "code",
   "execution_count": 17,
   "metadata": {},
   "outputs": [],
   "source": [
    "#note that this is for illustrative purposes only and for practicing key skills, \n",
    "# the actual data representation and combinations of codes not indicative of real thing"
   ]
  },
  {
   "cell_type": "markdown",
   "metadata": {},
   "source": [
    "### Convert Line to Encounter Representation"
   ]
  },
  {
   "cell_type": "code",
   "execution_count": 18,
   "metadata": {},
   "outputs": [],
   "source": [
    "# grouping fields \n",
    "grouping_field_list = ['ENCOUNTER_ID', 'PATIENT_ID', 'PRINCIPAL_DIAGNOSIS_CODE']\n",
    "non_grouped_field_list = [c for c in ehr_line_df.columns if c not in grouping_field_list]"
   ]
  },
  {
   "cell_type": "code",
   "execution_count": 19,
   "metadata": {},
   "outputs": [],
   "source": [
    "encounter_df = ehr_line_df.groupby(grouping_field_list)[non_grouped_field_list].agg(lambda x: \n",
    "                                                        list([y for y in x if y is not np.nan ] ) ).reset_index()"
   ]
  },
  {
   "cell_type": "code",
   "execution_count": 20,
   "metadata": {},
   "outputs": [
    {
     "data": {
      "text/html": [
       "<div>\n",
       "<style scoped>\n",
       "    .dataframe tbody tr th:only-of-type {\n",
       "        vertical-align: middle;\n",
       "    }\n",
       "\n",
       "    .dataframe tbody tr th {\n",
       "        vertical-align: top;\n",
       "    }\n",
       "\n",
       "    .dataframe thead th {\n",
       "        text-align: right;\n",
       "    }\n",
       "</style>\n",
       "<table border=\"1\" class=\"dataframe\">\n",
       "  <thead>\n",
       "    <tr style=\"text-align: right;\">\n",
       "      <th></th>\n",
       "      <th>ENCOUNTER_ID</th>\n",
       "      <th>PATIENT_ID</th>\n",
       "      <th>PRINCIPAL_DIAGNOSIS_CODE</th>\n",
       "      <th>PROCEDURE_CODE</th>\n",
       "      <th>MEDICATION_CODE</th>\n",
       "      <th>LAB_CODE</th>\n",
       "      <th>LABEL</th>\n",
       "    </tr>\n",
       "  </thead>\n",
       "  <tbody>\n",
       "    <tr>\n",
       "      <th>0</th>\n",
       "      <td>udacity_health_encounter_id_1</td>\n",
       "      <td>udacity_health_patient_id_186</td>\n",
       "      <td>dx_code_15406</td>\n",
       "      <td>[procedure_code_58552, procedure_code_39776, p...</td>\n",
       "      <td>[medication_code_2350, medication_code_8630, m...</td>\n",
       "      <td>[lab_code_8835, lab_code_9859, lab_code_9032, ...</td>\n",
       "      <td>[0, 0, 0, 0, 0, 0, 0, 0, 0, 0, 0, 0, 0, 0, 0, ...</td>\n",
       "    </tr>\n",
       "    <tr>\n",
       "      <th>1</th>\n",
       "      <td>udacity_health_encounter_id_10</td>\n",
       "      <td>udacity_health_patient_id_188</td>\n",
       "      <td>dx_code_74047</td>\n",
       "      <td>[]</td>\n",
       "      <td>[medication_code_7789, medication_code_3560, m...</td>\n",
       "      <td>[]</td>\n",
       "      <td>[1, 1, 1, 1]</td>\n",
       "    </tr>\n",
       "    <tr>\n",
       "      <th>2</th>\n",
       "      <td>udacity_health_encounter_id_100</td>\n",
       "      <td>udacity_health_patient_id_585</td>\n",
       "      <td>dx_code_71465</td>\n",
       "      <td>[]</td>\n",
       "      <td>[medication_code_7982, medication_code_2452, m...</td>\n",
       "      <td>[lab_code_4198, lab_code_6603, lab_code_332, l...</td>\n",
       "      <td>[0, 0, 0, 0, 0, 0, 0]</td>\n",
       "    </tr>\n",
       "    <tr>\n",
       "      <th>3</th>\n",
       "      <td>udacity_health_encounter_id_1000</td>\n",
       "      <td>udacity_health_patient_id_525</td>\n",
       "      <td>dx_code_61569</td>\n",
       "      <td>[]</td>\n",
       "      <td>[medication_code_4036]</td>\n",
       "      <td>[]</td>\n",
       "      <td>[0]</td>\n",
       "    </tr>\n",
       "    <tr>\n",
       "      <th>4</th>\n",
       "      <td>udacity_health_encounter_id_1001</td>\n",
       "      <td>udacity_health_patient_id_950</td>\n",
       "      <td>dx_code_90172</td>\n",
       "      <td>[procedure_code_30555]</td>\n",
       "      <td>[medication_code_6755, medication_code_5045]</td>\n",
       "      <td>[lab_code_9112]</td>\n",
       "      <td>[0, 0, 0, 0]</td>\n",
       "    </tr>\n",
       "  </tbody>\n",
       "</table>\n",
       "</div>"
      ],
      "text/plain": [
       "                       ENCOUNTER_ID                     PATIENT_ID  \\\n",
       "0     udacity_health_encounter_id_1  udacity_health_patient_id_186   \n",
       "1    udacity_health_encounter_id_10  udacity_health_patient_id_188   \n",
       "2   udacity_health_encounter_id_100  udacity_health_patient_id_585   \n",
       "3  udacity_health_encounter_id_1000  udacity_health_patient_id_525   \n",
       "4  udacity_health_encounter_id_1001  udacity_health_patient_id_950   \n",
       "\n",
       "  PRINCIPAL_DIAGNOSIS_CODE                                     PROCEDURE_CODE  \\\n",
       "0            dx_code_15406  [procedure_code_58552, procedure_code_39776, p...   \n",
       "1            dx_code_74047                                                 []   \n",
       "2            dx_code_71465                                                 []   \n",
       "3            dx_code_61569                                                 []   \n",
       "4            dx_code_90172                             [procedure_code_30555]   \n",
       "\n",
       "                                     MEDICATION_CODE  \\\n",
       "0  [medication_code_2350, medication_code_8630, m...   \n",
       "1  [medication_code_7789, medication_code_3560, m...   \n",
       "2  [medication_code_7982, medication_code_2452, m...   \n",
       "3                             [medication_code_4036]   \n",
       "4       [medication_code_6755, medication_code_5045]   \n",
       "\n",
       "                                            LAB_CODE  \\\n",
       "0  [lab_code_8835, lab_code_9859, lab_code_9032, ...   \n",
       "1                                                 []   \n",
       "2  [lab_code_4198, lab_code_6603, lab_code_332, l...   \n",
       "3                                                 []   \n",
       "4                                    [lab_code_9112]   \n",
       "\n",
       "                                               LABEL  \n",
       "0  [0, 0, 0, 0, 0, 0, 0, 0, 0, 0, 0, 0, 0, 0, 0, ...  \n",
       "1                                       [1, 1, 1, 1]  \n",
       "2                              [0, 0, 0, 0, 0, 0, 0]  \n",
       "3                                                [0]  \n",
       "4                                       [0, 0, 0, 0]  "
      ]
     },
     "execution_count": 20,
     "metadata": {},
     "output_type": "execute_result"
    }
   ],
   "source": [
    "encounter_df[0:5]"
   ]
  },
  {
   "cell_type": "code",
   "execution_count": 21,
   "metadata": {},
   "outputs": [
    {
     "data": {
      "text/html": [
       "<div>\n",
       "<style scoped>\n",
       "    .dataframe tbody tr th:only-of-type {\n",
       "        vertical-align: middle;\n",
       "    }\n",
       "\n",
       "    .dataframe tbody tr th {\n",
       "        vertical-align: top;\n",
       "    }\n",
       "\n",
       "    .dataframe thead th {\n",
       "        text-align: right;\n",
       "    }\n",
       "</style>\n",
       "<table border=\"1\" class=\"dataframe\">\n",
       "  <thead>\n",
       "    <tr style=\"text-align: right;\">\n",
       "      <th></th>\n",
       "      <th>ENCOUNTER_ID</th>\n",
       "      <th>PATIENT_ID</th>\n",
       "      <th>PRINCIPAL_DIAGNOSIS_CODE</th>\n",
       "      <th>PROCEDURE_CODE</th>\n",
       "      <th>MEDICATION_CODE</th>\n",
       "      <th>LAB_CODE</th>\n",
       "      <th>LABEL</th>\n",
       "    </tr>\n",
       "  </thead>\n",
       "  <tbody>\n",
       "    <tr>\n",
       "      <th>3246</th>\n",
       "      <td>udacity_health_encounter_id_1</td>\n",
       "      <td>udacity_health_patient_id_186</td>\n",
       "      <td>dx_code_15406</td>\n",
       "      <td>NaN</td>\n",
       "      <td>medication_code_2350</td>\n",
       "      <td>NaN</td>\n",
       "      <td>0</td>\n",
       "    </tr>\n",
       "    <tr>\n",
       "      <th>7901</th>\n",
       "      <td>udacity_health_encounter_id_1</td>\n",
       "      <td>udacity_health_patient_id_186</td>\n",
       "      <td>dx_code_15406</td>\n",
       "      <td>NaN</td>\n",
       "      <td>medication_code_8630</td>\n",
       "      <td>NaN</td>\n",
       "      <td>0</td>\n",
       "    </tr>\n",
       "    <tr>\n",
       "      <th>11765</th>\n",
       "      <td>udacity_health_encounter_id_1</td>\n",
       "      <td>udacity_health_patient_id_186</td>\n",
       "      <td>dx_code_15406</td>\n",
       "      <td>NaN</td>\n",
       "      <td>NaN</td>\n",
       "      <td>lab_code_8835</td>\n",
       "      <td>0</td>\n",
       "    </tr>\n",
       "    <tr>\n",
       "      <th>11950</th>\n",
       "      <td>udacity_health_encounter_id_1</td>\n",
       "      <td>udacity_health_patient_id_186</td>\n",
       "      <td>dx_code_15406</td>\n",
       "      <td>procedure_code_58552</td>\n",
       "      <td>NaN</td>\n",
       "      <td>NaN</td>\n",
       "      <td>0</td>\n",
       "    </tr>\n",
       "    <tr>\n",
       "      <th>16057</th>\n",
       "      <td>udacity_health_encounter_id_1</td>\n",
       "      <td>udacity_health_patient_id_186</td>\n",
       "      <td>dx_code_15406</td>\n",
       "      <td>NaN</td>\n",
       "      <td>medication_code_4030</td>\n",
       "      <td>NaN</td>\n",
       "      <td>0</td>\n",
       "    </tr>\n",
       "    <tr>\n",
       "      <th>17961</th>\n",
       "      <td>udacity_health_encounter_id_1</td>\n",
       "      <td>udacity_health_patient_id_186</td>\n",
       "      <td>dx_code_15406</td>\n",
       "      <td>procedure_code_39776</td>\n",
       "      <td>NaN</td>\n",
       "      <td>NaN</td>\n",
       "      <td>0</td>\n",
       "    </tr>\n",
       "    <tr>\n",
       "      <th>24877</th>\n",
       "      <td>udacity_health_encounter_id_1</td>\n",
       "      <td>udacity_health_patient_id_186</td>\n",
       "      <td>dx_code_15406</td>\n",
       "      <td>NaN</td>\n",
       "      <td>medication_code_431</td>\n",
       "      <td>NaN</td>\n",
       "      <td>0</td>\n",
       "    </tr>\n",
       "    <tr>\n",
       "      <th>26235</th>\n",
       "      <td>udacity_health_encounter_id_1</td>\n",
       "      <td>udacity_health_patient_id_186</td>\n",
       "      <td>dx_code_15406</td>\n",
       "      <td>NaN</td>\n",
       "      <td>medication_code_7435</td>\n",
       "      <td>NaN</td>\n",
       "      <td>0</td>\n",
       "    </tr>\n",
       "    <tr>\n",
       "      <th>35490</th>\n",
       "      <td>udacity_health_encounter_id_1</td>\n",
       "      <td>udacity_health_patient_id_186</td>\n",
       "      <td>dx_code_15406</td>\n",
       "      <td>NaN</td>\n",
       "      <td>NaN</td>\n",
       "      <td>lab_code_9859</td>\n",
       "      <td>0</td>\n",
       "    </tr>\n",
       "    <tr>\n",
       "      <th>42855</th>\n",
       "      <td>udacity_health_encounter_id_1</td>\n",
       "      <td>udacity_health_patient_id_186</td>\n",
       "      <td>dx_code_15406</td>\n",
       "      <td>NaN</td>\n",
       "      <td>medication_code_4338</td>\n",
       "      <td>NaN</td>\n",
       "      <td>0</td>\n",
       "    </tr>\n",
       "    <tr>\n",
       "      <th>44848</th>\n",
       "      <td>udacity_health_encounter_id_1</td>\n",
       "      <td>udacity_health_patient_id_186</td>\n",
       "      <td>dx_code_15406</td>\n",
       "      <td>NaN</td>\n",
       "      <td>medication_code_3080</td>\n",
       "      <td>NaN</td>\n",
       "      <td>0</td>\n",
       "    </tr>\n",
       "    <tr>\n",
       "      <th>47715</th>\n",
       "      <td>udacity_health_encounter_id_1</td>\n",
       "      <td>udacity_health_patient_id_186</td>\n",
       "      <td>dx_code_15406</td>\n",
       "      <td>NaN</td>\n",
       "      <td>medication_code_3808</td>\n",
       "      <td>NaN</td>\n",
       "      <td>0</td>\n",
       "    </tr>\n",
       "    <tr>\n",
       "      <th>56278</th>\n",
       "      <td>udacity_health_encounter_id_1</td>\n",
       "      <td>udacity_health_patient_id_186</td>\n",
       "      <td>dx_code_15406</td>\n",
       "      <td>NaN</td>\n",
       "      <td>NaN</td>\n",
       "      <td>lab_code_9032</td>\n",
       "      <td>0</td>\n",
       "    </tr>\n",
       "    <tr>\n",
       "      <th>57825</th>\n",
       "      <td>udacity_health_encounter_id_1</td>\n",
       "      <td>udacity_health_patient_id_186</td>\n",
       "      <td>dx_code_15406</td>\n",
       "      <td>procedure_code_13212</td>\n",
       "      <td>NaN</td>\n",
       "      <td>NaN</td>\n",
       "      <td>0</td>\n",
       "    </tr>\n",
       "    <tr>\n",
       "      <th>60152</th>\n",
       "      <td>udacity_health_encounter_id_1</td>\n",
       "      <td>udacity_health_patient_id_186</td>\n",
       "      <td>dx_code_15406</td>\n",
       "      <td>NaN</td>\n",
       "      <td>NaN</td>\n",
       "      <td>lab_code_9167</td>\n",
       "      <td>0</td>\n",
       "    </tr>\n",
       "    <tr>\n",
       "      <th>81720</th>\n",
       "      <td>udacity_health_encounter_id_1</td>\n",
       "      <td>udacity_health_patient_id_186</td>\n",
       "      <td>dx_code_15406</td>\n",
       "      <td>procedure_code_50377</td>\n",
       "      <td>NaN</td>\n",
       "      <td>NaN</td>\n",
       "      <td>0</td>\n",
       "    </tr>\n",
       "    <tr>\n",
       "      <th>85047</th>\n",
       "      <td>udacity_health_encounter_id_1</td>\n",
       "      <td>udacity_health_patient_id_186</td>\n",
       "      <td>dx_code_15406</td>\n",
       "      <td>NaN</td>\n",
       "      <td>medication_code_8275</td>\n",
       "      <td>NaN</td>\n",
       "      <td>0</td>\n",
       "    </tr>\n",
       "    <tr>\n",
       "      <th>85255</th>\n",
       "      <td>udacity_health_encounter_id_1</td>\n",
       "      <td>udacity_health_patient_id_186</td>\n",
       "      <td>dx_code_15406</td>\n",
       "      <td>NaN</td>\n",
       "      <td>medication_code_7779</td>\n",
       "      <td>NaN</td>\n",
       "      <td>0</td>\n",
       "    </tr>\n",
       "    <tr>\n",
       "      <th>89329</th>\n",
       "      <td>udacity_health_encounter_id_1</td>\n",
       "      <td>udacity_health_patient_id_186</td>\n",
       "      <td>dx_code_15406</td>\n",
       "      <td>NaN</td>\n",
       "      <td>medication_code_4081</td>\n",
       "      <td>NaN</td>\n",
       "      <td>0</td>\n",
       "    </tr>\n",
       "    <tr>\n",
       "      <th>96061</th>\n",
       "      <td>udacity_health_encounter_id_1</td>\n",
       "      <td>udacity_health_patient_id_186</td>\n",
       "      <td>dx_code_15406</td>\n",
       "      <td>NaN</td>\n",
       "      <td>medication_code_5203</td>\n",
       "      <td>NaN</td>\n",
       "      <td>0</td>\n",
       "    </tr>\n",
       "    <tr>\n",
       "      <th>97931</th>\n",
       "      <td>udacity_health_encounter_id_1</td>\n",
       "      <td>udacity_health_patient_id_186</td>\n",
       "      <td>dx_code_15406</td>\n",
       "      <td>NaN</td>\n",
       "      <td>medication_code_1267</td>\n",
       "      <td>NaN</td>\n",
       "      <td>0</td>\n",
       "    </tr>\n",
       "  </tbody>\n",
       "</table>\n",
       "</div>"
      ],
      "text/plain": [
       "                        ENCOUNTER_ID                     PATIENT_ID  \\\n",
       "3246   udacity_health_encounter_id_1  udacity_health_patient_id_186   \n",
       "7901   udacity_health_encounter_id_1  udacity_health_patient_id_186   \n",
       "11765  udacity_health_encounter_id_1  udacity_health_patient_id_186   \n",
       "11950  udacity_health_encounter_id_1  udacity_health_patient_id_186   \n",
       "16057  udacity_health_encounter_id_1  udacity_health_patient_id_186   \n",
       "17961  udacity_health_encounter_id_1  udacity_health_patient_id_186   \n",
       "24877  udacity_health_encounter_id_1  udacity_health_patient_id_186   \n",
       "26235  udacity_health_encounter_id_1  udacity_health_patient_id_186   \n",
       "35490  udacity_health_encounter_id_1  udacity_health_patient_id_186   \n",
       "42855  udacity_health_encounter_id_1  udacity_health_patient_id_186   \n",
       "44848  udacity_health_encounter_id_1  udacity_health_patient_id_186   \n",
       "47715  udacity_health_encounter_id_1  udacity_health_patient_id_186   \n",
       "56278  udacity_health_encounter_id_1  udacity_health_patient_id_186   \n",
       "57825  udacity_health_encounter_id_1  udacity_health_patient_id_186   \n",
       "60152  udacity_health_encounter_id_1  udacity_health_patient_id_186   \n",
       "81720  udacity_health_encounter_id_1  udacity_health_patient_id_186   \n",
       "85047  udacity_health_encounter_id_1  udacity_health_patient_id_186   \n",
       "85255  udacity_health_encounter_id_1  udacity_health_patient_id_186   \n",
       "89329  udacity_health_encounter_id_1  udacity_health_patient_id_186   \n",
       "96061  udacity_health_encounter_id_1  udacity_health_patient_id_186   \n",
       "97931  udacity_health_encounter_id_1  udacity_health_patient_id_186   \n",
       "\n",
       "      PRINCIPAL_DIAGNOSIS_CODE        PROCEDURE_CODE       MEDICATION_CODE  \\\n",
       "3246             dx_code_15406                   NaN  medication_code_2350   \n",
       "7901             dx_code_15406                   NaN  medication_code_8630   \n",
       "11765            dx_code_15406                   NaN                   NaN   \n",
       "11950            dx_code_15406  procedure_code_58552                   NaN   \n",
       "16057            dx_code_15406                   NaN  medication_code_4030   \n",
       "17961            dx_code_15406  procedure_code_39776                   NaN   \n",
       "24877            dx_code_15406                   NaN   medication_code_431   \n",
       "26235            dx_code_15406                   NaN  medication_code_7435   \n",
       "35490            dx_code_15406                   NaN                   NaN   \n",
       "42855            dx_code_15406                   NaN  medication_code_4338   \n",
       "44848            dx_code_15406                   NaN  medication_code_3080   \n",
       "47715            dx_code_15406                   NaN  medication_code_3808   \n",
       "56278            dx_code_15406                   NaN                   NaN   \n",
       "57825            dx_code_15406  procedure_code_13212                   NaN   \n",
       "60152            dx_code_15406                   NaN                   NaN   \n",
       "81720            dx_code_15406  procedure_code_50377                   NaN   \n",
       "85047            dx_code_15406                   NaN  medication_code_8275   \n",
       "85255            dx_code_15406                   NaN  medication_code_7779   \n",
       "89329            dx_code_15406                   NaN  medication_code_4081   \n",
       "96061            dx_code_15406                   NaN  medication_code_5203   \n",
       "97931            dx_code_15406                   NaN  medication_code_1267   \n",
       "\n",
       "            LAB_CODE  LABEL  \n",
       "3246             NaN      0  \n",
       "7901             NaN      0  \n",
       "11765  lab_code_8835      0  \n",
       "11950            NaN      0  \n",
       "16057            NaN      0  \n",
       "17961            NaN      0  \n",
       "24877            NaN      0  \n",
       "26235            NaN      0  \n",
       "35490  lab_code_9859      0  \n",
       "42855            NaN      0  \n",
       "44848            NaN      0  \n",
       "47715            NaN      0  \n",
       "56278  lab_code_9032      0  \n",
       "57825            NaN      0  \n",
       "60152  lab_code_9167      0  \n",
       "81720            NaN      0  \n",
       "85047            NaN      0  \n",
       "85255            NaN      0  \n",
       "89329            NaN      0  \n",
       "96061            NaN      0  \n",
       "97931            NaN      0  "
      ]
     },
     "execution_count": 21,
     "metadata": {},
     "output_type": "execute_result"
    }
   ],
   "source": [
    "ehr_line_df[ehr_line_df['ENCOUNTER_ID']=='udacity_health_encounter_id_1']"
   ]
  },
  {
   "cell_type": "code",
   "execution_count": 22,
   "metadata": {},
   "outputs": [
    {
     "data": {
      "text/html": [
       "<div>\n",
       "<style scoped>\n",
       "    .dataframe tbody tr th:only-of-type {\n",
       "        vertical-align: middle;\n",
       "    }\n",
       "\n",
       "    .dataframe tbody tr th {\n",
       "        vertical-align: top;\n",
       "    }\n",
       "\n",
       "    .dataframe thead th {\n",
       "        text-align: right;\n",
       "    }\n",
       "</style>\n",
       "<table border=\"1\" class=\"dataframe\">\n",
       "  <thead>\n",
       "    <tr style=\"text-align: right;\">\n",
       "      <th></th>\n",
       "      <th>ENCOUNTER_ID</th>\n",
       "      <th>PATIENT_ID</th>\n",
       "      <th>PRINCIPAL_DIAGNOSIS_CODE</th>\n",
       "      <th>PROCEDURE_CODE</th>\n",
       "      <th>MEDICATION_CODE</th>\n",
       "      <th>LAB_CODE</th>\n",
       "      <th>LABEL</th>\n",
       "    </tr>\n",
       "  </thead>\n",
       "  <tbody>\n",
       "    <tr>\n",
       "      <th>0</th>\n",
       "      <td>udacity_health_encounter_id_1</td>\n",
       "      <td>udacity_health_patient_id_186</td>\n",
       "      <td>dx_code_15406</td>\n",
       "      <td>[procedure_code_58552, procedure_code_39776, p...</td>\n",
       "      <td>[medication_code_2350, medication_code_8630, m...</td>\n",
       "      <td>[lab_code_8835, lab_code_9859, lab_code_9032, ...</td>\n",
       "      <td>[0, 0, 0, 0, 0, 0, 0, 0, 0, 0, 0, 0, 0, 0, 0, ...</td>\n",
       "    </tr>\n",
       "  </tbody>\n",
       "</table>\n",
       "</div>"
      ],
      "text/plain": [
       "                    ENCOUNTER_ID                     PATIENT_ID  \\\n",
       "0  udacity_health_encounter_id_1  udacity_health_patient_id_186   \n",
       "\n",
       "  PRINCIPAL_DIAGNOSIS_CODE                                     PROCEDURE_CODE  \\\n",
       "0            dx_code_15406  [procedure_code_58552, procedure_code_39776, p...   \n",
       "\n",
       "                                     MEDICATION_CODE  \\\n",
       "0  [medication_code_2350, medication_code_8630, m...   \n",
       "\n",
       "                                            LAB_CODE  \\\n",
       "0  [lab_code_8835, lab_code_9859, lab_code_9032, ...   \n",
       "\n",
       "                                               LABEL  \n",
       "0  [0, 0, 0, 0, 0, 0, 0, 0, 0, 0, 0, 0, 0, 0, 0, ...  "
      ]
     },
     "execution_count": 22,
     "metadata": {},
     "output_type": "execute_result"
    }
   ],
   "source": [
    "encounter_df[encounter_df['ENCOUNTER_ID']=='udacity_health_encounter_id_1']"
   ]
  },
  {
   "cell_type": "code",
   "execution_count": null,
   "metadata": {},
   "outputs": [],
   "source": []
  },
  {
   "cell_type": "markdown",
   "metadata": {},
   "source": [
    "## 2. Converting Encounter to Longitudinal Representation"
   ]
  },
  {
   "cell_type": "code",
   "execution_count": 23,
   "metadata": {},
   "outputs": [
    {
     "data": {
      "text/html": [
       "<div>\n",
       "<style scoped>\n",
       "    .dataframe tbody tr th:only-of-type {\n",
       "        vertical-align: middle;\n",
       "    }\n",
       "\n",
       "    .dataframe tbody tr th {\n",
       "        vertical-align: top;\n",
       "    }\n",
       "\n",
       "    .dataframe thead th {\n",
       "        text-align: right;\n",
       "    }\n",
       "</style>\n",
       "<table border=\"1\" class=\"dataframe\">\n",
       "  <thead>\n",
       "    <tr style=\"text-align: right;\">\n",
       "      <th></th>\n",
       "      <th>ENCOUNTER_ID</th>\n",
       "      <th>PATIENT_ID</th>\n",
       "      <th>PRINCIPAL_DIAGNOSIS_CODE</th>\n",
       "      <th>PROCEDURE_CODE</th>\n",
       "      <th>MEDICATION_CODE</th>\n",
       "      <th>LAB_CODE</th>\n",
       "      <th>LABEL</th>\n",
       "    </tr>\n",
       "  </thead>\n",
       "  <tbody>\n",
       "    <tr>\n",
       "      <th>0</th>\n",
       "      <td>udacity_health_encounter_id_1</td>\n",
       "      <td>udacity_health_patient_id_186</td>\n",
       "      <td>dx_code_15406</td>\n",
       "      <td>[procedure_code_58552, procedure_code_39776, p...</td>\n",
       "      <td>[medication_code_2350, medication_code_8630, m...</td>\n",
       "      <td>[lab_code_8835, lab_code_9859, lab_code_9032, ...</td>\n",
       "      <td>[0, 0, 0, 0, 0, 0, 0, 0, 0, 0, 0, 0, 0, 0, 0, ...</td>\n",
       "    </tr>\n",
       "    <tr>\n",
       "      <th>1</th>\n",
       "      <td>udacity_health_encounter_id_10</td>\n",
       "      <td>udacity_health_patient_id_188</td>\n",
       "      <td>dx_code_74047</td>\n",
       "      <td>[]</td>\n",
       "      <td>[medication_code_7789, medication_code_3560, m...</td>\n",
       "      <td>[]</td>\n",
       "      <td>[1, 1, 1, 1]</td>\n",
       "    </tr>\n",
       "    <tr>\n",
       "      <th>2</th>\n",
       "      <td>udacity_health_encounter_id_100</td>\n",
       "      <td>udacity_health_patient_id_585</td>\n",
       "      <td>dx_code_71465</td>\n",
       "      <td>[]</td>\n",
       "      <td>[medication_code_7982, medication_code_2452, m...</td>\n",
       "      <td>[lab_code_4198, lab_code_6603, lab_code_332, l...</td>\n",
       "      <td>[0, 0, 0, 0, 0, 0, 0]</td>\n",
       "    </tr>\n",
       "    <tr>\n",
       "      <th>3</th>\n",
       "      <td>udacity_health_encounter_id_1000</td>\n",
       "      <td>udacity_health_patient_id_525</td>\n",
       "      <td>dx_code_61569</td>\n",
       "      <td>[]</td>\n",
       "      <td>[medication_code_4036]</td>\n",
       "      <td>[]</td>\n",
       "      <td>[0]</td>\n",
       "    </tr>\n",
       "    <tr>\n",
       "      <th>4</th>\n",
       "      <td>udacity_health_encounter_id_1001</td>\n",
       "      <td>udacity_health_patient_id_950</td>\n",
       "      <td>dx_code_90172</td>\n",
       "      <td>[procedure_code_30555]</td>\n",
       "      <td>[medication_code_6755, medication_code_5045]</td>\n",
       "      <td>[lab_code_9112]</td>\n",
       "      <td>[0, 0, 0, 0]</td>\n",
       "    </tr>\n",
       "  </tbody>\n",
       "</table>\n",
       "</div>"
      ],
      "text/plain": [
       "                       ENCOUNTER_ID                     PATIENT_ID  \\\n",
       "0     udacity_health_encounter_id_1  udacity_health_patient_id_186   \n",
       "1    udacity_health_encounter_id_10  udacity_health_patient_id_188   \n",
       "2   udacity_health_encounter_id_100  udacity_health_patient_id_585   \n",
       "3  udacity_health_encounter_id_1000  udacity_health_patient_id_525   \n",
       "4  udacity_health_encounter_id_1001  udacity_health_patient_id_950   \n",
       "\n",
       "  PRINCIPAL_DIAGNOSIS_CODE                                     PROCEDURE_CODE  \\\n",
       "0            dx_code_15406  [procedure_code_58552, procedure_code_39776, p...   \n",
       "1            dx_code_74047                                                 []   \n",
       "2            dx_code_71465                                                 []   \n",
       "3            dx_code_61569                                                 []   \n",
       "4            dx_code_90172                             [procedure_code_30555]   \n",
       "\n",
       "                                     MEDICATION_CODE  \\\n",
       "0  [medication_code_2350, medication_code_8630, m...   \n",
       "1  [medication_code_7789, medication_code_3560, m...   \n",
       "2  [medication_code_7982, medication_code_2452, m...   \n",
       "3                             [medication_code_4036]   \n",
       "4       [medication_code_6755, medication_code_5045]   \n",
       "\n",
       "                                            LAB_CODE  \\\n",
       "0  [lab_code_8835, lab_code_9859, lab_code_9032, ...   \n",
       "1                                                 []   \n",
       "2  [lab_code_4198, lab_code_6603, lab_code_332, l...   \n",
       "3                                                 []   \n",
       "4                                    [lab_code_9112]   \n",
       "\n",
       "                                               LABEL  \n",
       "0  [0, 0, 0, 0, 0, 0, 0, 0, 0, 0, 0, 0, 0, 0, 0, ...  \n",
       "1                                       [1, 1, 1, 1]  \n",
       "2                              [0, 0, 0, 0, 0, 0, 0]  \n",
       "3                                                [0]  \n",
       "4                                       [0, 0, 0, 0]  "
      ]
     },
     "execution_count": 23,
     "metadata": {},
     "output_type": "execute_result"
    }
   ],
   "source": [
    "encounter_df.head()"
   ]
  },
  {
   "cell_type": "code",
   "execution_count": 24,
   "metadata": {},
   "outputs": [],
   "source": [
    "patient_grouping_field_list = [\"PATIENT_ID\"]\n",
    "non_patient_agg_field_list = [c for c in encounter_df.columns if c not in patient_grouping_field_list]"
   ]
  },
  {
   "cell_type": "code",
   "execution_count": 25,
   "metadata": {},
   "outputs": [],
   "source": [
    "long_df = encounter_df.groupby(patient_grouping_field_list)[non_patient_agg_field_list].agg(lambda x: \n",
    "                                                        list([y for y in x if y is not np.nan ] ) ).reset_index()"
   ]
  },
  {
   "cell_type": "code",
   "execution_count": 26,
   "metadata": {},
   "outputs": [
    {
     "data": {
      "text/html": [
       "<div>\n",
       "<style scoped>\n",
       "    .dataframe tbody tr th:only-of-type {\n",
       "        vertical-align: middle;\n",
       "    }\n",
       "\n",
       "    .dataframe tbody tr th {\n",
       "        vertical-align: top;\n",
       "    }\n",
       "\n",
       "    .dataframe thead th {\n",
       "        text-align: right;\n",
       "    }\n",
       "</style>\n",
       "<table border=\"1\" class=\"dataframe\">\n",
       "  <thead>\n",
       "    <tr style=\"text-align: right;\">\n",
       "      <th></th>\n",
       "      <th>PATIENT_ID</th>\n",
       "      <th>ENCOUNTER_ID</th>\n",
       "      <th>PRINCIPAL_DIAGNOSIS_CODE</th>\n",
       "      <th>PROCEDURE_CODE</th>\n",
       "      <th>MEDICATION_CODE</th>\n",
       "      <th>LAB_CODE</th>\n",
       "      <th>LABEL</th>\n",
       "    </tr>\n",
       "  </thead>\n",
       "  <tbody>\n",
       "    <tr>\n",
       "      <th>0</th>\n",
       "      <td>udacity_health_patient_id_1</td>\n",
       "      <td>[udacity_health_encounter_id_1038, udacity_hea...</td>\n",
       "      <td>[dx_code_36196, dx_code_63471, dx_code_29114, ...</td>\n",
       "      <td>[[procedure_code_36285, procedure_code_21124, ...</td>\n",
       "      <td>[[medication_code_3772, medication_code_9214, ...</td>\n",
       "      <td>[[lab_code_3982, lab_code_306], [], [lab_code_...</td>\n",
       "      <td>[[1, 1, 1, 1, 1, 1, 1, 1, 1, 1, 1, 1, 1, 1, 1,...</td>\n",
       "    </tr>\n",
       "    <tr>\n",
       "      <th>1</th>\n",
       "      <td>udacity_health_patient_id_10</td>\n",
       "      <td>[udacity_health_encounter_id_1110, udacity_hea...</td>\n",
       "      <td>[dx_code_29609, dx_code_268, dx_code_26932, dx...</td>\n",
       "      <td>[[procedure_code_9379], [procedure_code_3052, ...</td>\n",
       "      <td>[[medication_code_7371, medication_code_2104, ...</td>\n",
       "      <td>[[lab_code_6457], [lab_code_2180, lab_code_693...</td>\n",
       "      <td>[[0, 0, 0, 0, 0, 0, 0, 0, 0], [0, 0, 0, 0, 0, ...</td>\n",
       "    </tr>\n",
       "    <tr>\n",
       "      <th>2</th>\n",
       "      <td>udacity_health_patient_id_100</td>\n",
       "      <td>[udacity_health_encounter_id_1205, udacity_hea...</td>\n",
       "      <td>[dx_code_32095, dx_code_45376, dx_code_48998, ...</td>\n",
       "      <td>[[procedure_code_71055, procedure_code_29744, ...</td>\n",
       "      <td>[[medication_code_2399, medication_code_966, m...</td>\n",
       "      <td>[[lab_code_4928, lab_code_6524, lab_code_1713,...</td>\n",
       "      <td>[[0, 0, 0, 0, 0, 0, 0, 0, 0, 0, 0, 0, 0, 0, 0,...</td>\n",
       "    </tr>\n",
       "    <tr>\n",
       "      <th>3</th>\n",
       "      <td>udacity_health_patient_id_1000</td>\n",
       "      <td>[udacity_health_encounter_id_1105, udacity_hea...</td>\n",
       "      <td>[dx_code_53764, dx_code_50924, dx_code_80218, ...</td>\n",
       "      <td>[[], [procedure_code_7870, procedure_code_2169...</td>\n",
       "      <td>[[medication_code_6580, medication_code_3007],...</td>\n",
       "      <td>[[], [lab_code_5468], [lab_code_7607], [lab_co...</td>\n",
       "      <td>[[1, 1], [1, 1, 1, 1, 1, 1], [1, 1, 1, 1, 1, 1...</td>\n",
       "    </tr>\n",
       "    <tr>\n",
       "      <th>4</th>\n",
       "      <td>udacity_health_patient_id_101</td>\n",
       "      <td>[udacity_health_encounter_id_2058, udacity_hea...</td>\n",
       "      <td>[dx_code_13590, dx_code_29551]</td>\n",
       "      <td>[[procedure_code_45319, procedure_code_67294],...</td>\n",
       "      <td>[[medication_code_2532], [medication_code_4311...</td>\n",
       "      <td>[[lab_code_1206, lab_code_9967], []]</td>\n",
       "      <td>[[0, 0, 0, 0, 0], [0, 0, 0, 0, 0]]</td>\n",
       "    </tr>\n",
       "  </tbody>\n",
       "</table>\n",
       "</div>"
      ],
      "text/plain": [
       "                       PATIENT_ID  \\\n",
       "0     udacity_health_patient_id_1   \n",
       "1    udacity_health_patient_id_10   \n",
       "2   udacity_health_patient_id_100   \n",
       "3  udacity_health_patient_id_1000   \n",
       "4   udacity_health_patient_id_101   \n",
       "\n",
       "                                        ENCOUNTER_ID  \\\n",
       "0  [udacity_health_encounter_id_1038, udacity_hea...   \n",
       "1  [udacity_health_encounter_id_1110, udacity_hea...   \n",
       "2  [udacity_health_encounter_id_1205, udacity_hea...   \n",
       "3  [udacity_health_encounter_id_1105, udacity_hea...   \n",
       "4  [udacity_health_encounter_id_2058, udacity_hea...   \n",
       "\n",
       "                            PRINCIPAL_DIAGNOSIS_CODE  \\\n",
       "0  [dx_code_36196, dx_code_63471, dx_code_29114, ...   \n",
       "1  [dx_code_29609, dx_code_268, dx_code_26932, dx...   \n",
       "2  [dx_code_32095, dx_code_45376, dx_code_48998, ...   \n",
       "3  [dx_code_53764, dx_code_50924, dx_code_80218, ...   \n",
       "4                     [dx_code_13590, dx_code_29551]   \n",
       "\n",
       "                                      PROCEDURE_CODE  \\\n",
       "0  [[procedure_code_36285, procedure_code_21124, ...   \n",
       "1  [[procedure_code_9379], [procedure_code_3052, ...   \n",
       "2  [[procedure_code_71055, procedure_code_29744, ...   \n",
       "3  [[], [procedure_code_7870, procedure_code_2169...   \n",
       "4  [[procedure_code_45319, procedure_code_67294],...   \n",
       "\n",
       "                                     MEDICATION_CODE  \\\n",
       "0  [[medication_code_3772, medication_code_9214, ...   \n",
       "1  [[medication_code_7371, medication_code_2104, ...   \n",
       "2  [[medication_code_2399, medication_code_966, m...   \n",
       "3  [[medication_code_6580, medication_code_3007],...   \n",
       "4  [[medication_code_2532], [medication_code_4311...   \n",
       "\n",
       "                                            LAB_CODE  \\\n",
       "0  [[lab_code_3982, lab_code_306], [], [lab_code_...   \n",
       "1  [[lab_code_6457], [lab_code_2180, lab_code_693...   \n",
       "2  [[lab_code_4928, lab_code_6524, lab_code_1713,...   \n",
       "3  [[], [lab_code_5468], [lab_code_7607], [lab_co...   \n",
       "4               [[lab_code_1206, lab_code_9967], []]   \n",
       "\n",
       "                                               LABEL  \n",
       "0  [[1, 1, 1, 1, 1, 1, 1, 1, 1, 1, 1, 1, 1, 1, 1,...  \n",
       "1  [[0, 0, 0, 0, 0, 0, 0, 0, 0], [0, 0, 0, 0, 0, ...  \n",
       "2  [[0, 0, 0, 0, 0, 0, 0, 0, 0, 0, 0, 0, 0, 0, 0,...  \n",
       "3  [[1, 1], [1, 1, 1, 1, 1, 1], [1, 1, 1, 1, 1, 1...  \n",
       "4                 [[0, 0, 0, 0, 0], [0, 0, 0, 0, 0]]  "
      ]
     },
     "execution_count": 26,
     "metadata": {},
     "output_type": "execute_result"
    }
   ],
   "source": [
    "long_df.head()"
   ]
  },
  {
   "cell_type": "code",
   "execution_count": 27,
   "metadata": {},
   "outputs": [],
   "source": [
    "example_patient_history = long_df[long_df['PATIENT_ID']=='udacity_health_patient_id_310']"
   ]
  },
  {
   "cell_type": "code",
   "execution_count": 28,
   "metadata": {},
   "outputs": [
    {
     "data": {
      "text/html": [
       "<div>\n",
       "<style scoped>\n",
       "    .dataframe tbody tr th:only-of-type {\n",
       "        vertical-align: middle;\n",
       "    }\n",
       "\n",
       "    .dataframe tbody tr th {\n",
       "        vertical-align: top;\n",
       "    }\n",
       "\n",
       "    .dataframe thead th {\n",
       "        text-align: right;\n",
       "    }\n",
       "</style>\n",
       "<table border=\"1\" class=\"dataframe\">\n",
       "  <thead>\n",
       "    <tr style=\"text-align: right;\">\n",
       "      <th></th>\n",
       "      <th>PATIENT_ID</th>\n",
       "      <th>ENCOUNTER_ID</th>\n",
       "      <th>PRINCIPAL_DIAGNOSIS_CODE</th>\n",
       "      <th>PROCEDURE_CODE</th>\n",
       "      <th>MEDICATION_CODE</th>\n",
       "      <th>LAB_CODE</th>\n",
       "      <th>LABEL</th>\n",
       "    </tr>\n",
       "  </thead>\n",
       "  <tbody>\n",
       "    <tr>\n",
       "      <th>211</th>\n",
       "      <td>udacity_health_patient_id_310</td>\n",
       "      <td>[udacity_health_encounter_id_4647, udacity_hea...</td>\n",
       "      <td>[dx_code_74153, dx_code_95836, dx_code_39465, ...</td>\n",
       "      <td>[[procedure_code_40521, procedure_code_52188, ...</td>\n",
       "      <td>[[medication_code_7251, medication_code_2765, ...</td>\n",
       "      <td>[[lab_code_1372], [lab_code_1794], [lab_code_1...</td>\n",
       "      <td>[[0, 0, 0, 0, 0, 0, 0, 0, 0, 0, 0, 0, 0, 0, 0,...</td>\n",
       "    </tr>\n",
       "  </tbody>\n",
       "</table>\n",
       "</div>"
      ],
      "text/plain": [
       "                        PATIENT_ID  \\\n",
       "211  udacity_health_patient_id_310   \n",
       "\n",
       "                                          ENCOUNTER_ID  \\\n",
       "211  [udacity_health_encounter_id_4647, udacity_hea...   \n",
       "\n",
       "                              PRINCIPAL_DIAGNOSIS_CODE  \\\n",
       "211  [dx_code_74153, dx_code_95836, dx_code_39465, ...   \n",
       "\n",
       "                                        PROCEDURE_CODE  \\\n",
       "211  [[procedure_code_40521, procedure_code_52188, ...   \n",
       "\n",
       "                                       MEDICATION_CODE  \\\n",
       "211  [[medication_code_7251, medication_code_2765, ...   \n",
       "\n",
       "                                              LAB_CODE  \\\n",
       "211  [[lab_code_1372], [lab_code_1794], [lab_code_1...   \n",
       "\n",
       "                                                 LABEL  \n",
       "211  [[0, 0, 0, 0, 0, 0, 0, 0, 0, 0, 0, 0, 0, 0, 0,...  "
      ]
     },
     "execution_count": 28,
     "metadata": {},
     "output_type": "execute_result"
    }
   ],
   "source": [
    "example_patient_history"
   ]
  },
  {
   "cell_type": "code",
   "execution_count": 29,
   "metadata": {},
   "outputs": [
    {
     "data": {
      "text/plain": [
       "[['udacity_health_encounter_id_4647',\n",
       "  'udacity_health_encounter_id_5010',\n",
       "  'udacity_health_encounter_id_551',\n",
       "  'udacity_health_encounter_id_7210',\n",
       "  'udacity_health_encounter_id_7331']]"
      ]
     },
     "execution_count": 29,
     "metadata": {},
     "output_type": "execute_result"
    }
   ],
   "source": [
    "list(example_patient_history['ENCOUNTER_ID'].values)"
   ]
  },
  {
   "cell_type": "code",
   "execution_count": 30,
   "metadata": {},
   "outputs": [
    {
     "data": {
      "text/plain": [
       "[['dx_code_74153',\n",
       "  'dx_code_95836',\n",
       "  'dx_code_39465',\n",
       "  'dx_code_66358',\n",
       "  'dx_code_99743']]"
      ]
     },
     "execution_count": 30,
     "metadata": {},
     "output_type": "execute_result"
    }
   ],
   "source": [
    "list(example_patient_history['PRINCIPAL_DIAGNOSIS_CODE'].values)"
   ]
  },
  {
   "cell_type": "code",
   "execution_count": 31,
   "metadata": {},
   "outputs": [
    {
     "data": {
      "text/plain": [
       "[[['procedure_code_40521',\n",
       "   'procedure_code_52188',\n",
       "   'procedure_code_57020',\n",
       "   'procedure_code_11784',\n",
       "   'procedure_code_50478'],\n",
       "  ['procedure_code_12696',\n",
       "   'procedure_code_2873',\n",
       "   'procedure_code_28392',\n",
       "   'procedure_code_1398'],\n",
       "  ['procedure_code_49962'],\n",
       "  [],\n",
       "  ['procedure_code_31171']]]"
      ]
     },
     "execution_count": 31,
     "metadata": {},
     "output_type": "execute_result"
    }
   ],
   "source": [
    "list(example_patient_history['PROCEDURE_CODE'].values)"
   ]
  },
  {
   "cell_type": "markdown",
   "metadata": {},
   "source": [
    "## 3. How to Split Dataset at Patient Level"
   ]
  },
  {
   "cell_type": "markdown",
   "metadata": {},
   "source": [
    "#### ***Objective:*** \n",
    "- Split dataset at patient level into train and test partitions\n",
    "- Validate that split was done correctly"
   ]
  },
  {
   "cell_type": "markdown",
   "metadata": {},
   "source": [
    "#### Dataset Splitting Tests\n",
    "- Patient data in only one partition\n",
    "- Total unique number of patients across all partitions = total number unique patients in original full dataset\n",
    "- Total number of rows original dataset = sum of rows across splits"
   ]
  },
  {
   "cell_type": "code",
   "execution_count": 32,
   "metadata": {},
   "outputs": [],
   "source": [
    "PATIENT_ID_FIELD = 'PATIENT_ID'\n",
    "TEST_PERCENTAGE = 0.2"
   ]
  },
  {
   "cell_type": "code",
   "execution_count": 33,
   "metadata": {},
   "outputs": [],
   "source": [
    "def split_dataset_patient_level(df, key, test_percentage=0.2):\n",
    "    df = df.iloc[np.random.permutation(len(df))]\n",
    "    unique_values = df[key].unique()\n",
    "    total_values = len(unique_values)\n",
    "    sample_size = round(total_values * (1 - test_percentage ))\n",
    "    train = df[df[key].isin(unique_values[:sample_size])].reset_index(drop=True)\n",
    "    test = df[df[key].isin(unique_values[sample_size:])].reset_index(drop=True)\n",
    "    return train, test"
   ]
  },
  {
   "cell_type": "code",
   "execution_count": 34,
   "metadata": {},
   "outputs": [],
   "source": [
    "train_df, test_df = split_dataset_patient_level(encounter_df, PATIENT_ID_FIELD, TEST_PERCENTAGE)"
   ]
  },
  {
   "cell_type": "code",
   "execution_count": 35,
   "metadata": {},
   "outputs": [
    {
     "name": "stdout",
     "output_type": "stream",
     "text": [
      "Test passed for patient data in only one partition\n"
     ]
    }
   ],
   "source": [
    "assert len(set(train_df[PATIENT_ID_FIELD].unique()).intersection(set(test_df[PATIENT_ID_FIELD].unique()))) == 0\n",
    "print(\"Test passed for patient data in only one partition\")"
   ]
  },
  {
   "cell_type": "code",
   "execution_count": 36,
   "metadata": {},
   "outputs": [
    {
     "name": "stdout",
     "output_type": "stream",
     "text": [
      "Test passed for number of unique patients being equal!\n"
     ]
    }
   ],
   "source": [
    "assert (train_df[PATIENT_ID_FIELD].nunique()  + test_df[PATIENT_ID_FIELD].nunique()) == encounter_df[PATIENT_ID_FIELD].nunique()\n",
    "print(\"Test passed for number of unique patients being equal!\")"
   ]
  },
  {
   "cell_type": "code",
   "execution_count": 37,
   "metadata": {},
   "outputs": [
    {
     "name": "stdout",
     "output_type": "stream",
     "text": [
      "Test passed for number of total rows equal!\n"
     ]
    }
   ],
   "source": [
    "assert len(train_df)  + len(test_df) == len(encounter_df)\n",
    "print(\"Test passed for number of total rows equal!\")"
   ]
  },
  {
   "cell_type": "markdown",
   "metadata": {},
   "source": [
    "## 4. ETL with TF Dataset API and Pandas"
   ]
  },
  {
   "cell_type": "markdown",
   "metadata": {},
   "source": [
    "NOTE: In some cases you may need to preprocess Pandas Dataframe to removed mixed types. In particular, remove null values and impute or remove rows (we will later impute with zero for numerical features)."
   ]
  },
  {
   "cell_type": "code",
   "execution_count": 38,
   "metadata": {},
   "outputs": [],
   "source": [
    "import tensorflow as tf"
   ]
  },
  {
   "cell_type": "code",
   "execution_count": 39,
   "metadata": {},
   "outputs": [],
   "source": [
    "swiss_dataset_path = \"processed_swiss.csv\"\n",
    "swiss_df = pd.read_csv(swiss_dataset_path)\n",
    "selected_col_list = ['age', 'thalach', 'cp', 'num_label']\n",
    "subset_swiss_df = swiss_df[selected_col_list]"
   ]
  },
  {
   "cell_type": "code",
   "execution_count": 40,
   "metadata": {},
   "outputs": [
    {
     "data": {
      "text/html": [
       "<div>\n",
       "<style scoped>\n",
       "    .dataframe tbody tr th:only-of-type {\n",
       "        vertical-align: middle;\n",
       "    }\n",
       "\n",
       "    .dataframe tbody tr th {\n",
       "        vertical-align: top;\n",
       "    }\n",
       "\n",
       "    .dataframe thead th {\n",
       "        text-align: right;\n",
       "    }\n",
       "</style>\n",
       "<table border=\"1\" class=\"dataframe\">\n",
       "  <thead>\n",
       "    <tr style=\"text-align: right;\">\n",
       "      <th></th>\n",
       "      <th>age</th>\n",
       "      <th>sex</th>\n",
       "      <th>cp</th>\n",
       "      <th>trestbps</th>\n",
       "      <th>chol</th>\n",
       "      <th>fbs</th>\n",
       "      <th>restecg</th>\n",
       "      <th>thalach</th>\n",
       "      <th>exang</th>\n",
       "      <th>oldpeak</th>\n",
       "      <th>slope</th>\n",
       "      <th>ca</th>\n",
       "      <th>thal</th>\n",
       "      <th>num_label</th>\n",
       "    </tr>\n",
       "  </thead>\n",
       "  <tbody>\n",
       "    <tr>\n",
       "      <th>0</th>\n",
       "      <td>32</td>\n",
       "      <td>1</td>\n",
       "      <td>1</td>\n",
       "      <td>95</td>\n",
       "      <td>0</td>\n",
       "      <td>?</td>\n",
       "      <td>0</td>\n",
       "      <td>127</td>\n",
       "      <td>0</td>\n",
       "      <td>.7</td>\n",
       "      <td>1</td>\n",
       "      <td>?</td>\n",
       "      <td>?</td>\n",
       "      <td>1</td>\n",
       "    </tr>\n",
       "    <tr>\n",
       "      <th>1</th>\n",
       "      <td>34</td>\n",
       "      <td>1</td>\n",
       "      <td>4</td>\n",
       "      <td>115</td>\n",
       "      <td>0</td>\n",
       "      <td>?</td>\n",
       "      <td>?</td>\n",
       "      <td>154</td>\n",
       "      <td>0</td>\n",
       "      <td>.2</td>\n",
       "      <td>1</td>\n",
       "      <td>?</td>\n",
       "      <td>?</td>\n",
       "      <td>1</td>\n",
       "    </tr>\n",
       "    <tr>\n",
       "      <th>2</th>\n",
       "      <td>35</td>\n",
       "      <td>1</td>\n",
       "      <td>4</td>\n",
       "      <td>?</td>\n",
       "      <td>0</td>\n",
       "      <td>?</td>\n",
       "      <td>0</td>\n",
       "      <td>130</td>\n",
       "      <td>1</td>\n",
       "      <td>?</td>\n",
       "      <td>?</td>\n",
       "      <td>?</td>\n",
       "      <td>7</td>\n",
       "      <td>3</td>\n",
       "    </tr>\n",
       "    <tr>\n",
       "      <th>3</th>\n",
       "      <td>36</td>\n",
       "      <td>1</td>\n",
       "      <td>4</td>\n",
       "      <td>110</td>\n",
       "      <td>0</td>\n",
       "      <td>?</td>\n",
       "      <td>0</td>\n",
       "      <td>125</td>\n",
       "      <td>1</td>\n",
       "      <td>1</td>\n",
       "      <td>2</td>\n",
       "      <td>?</td>\n",
       "      <td>6</td>\n",
       "      <td>1</td>\n",
       "    </tr>\n",
       "    <tr>\n",
       "      <th>4</th>\n",
       "      <td>38</td>\n",
       "      <td>0</td>\n",
       "      <td>4</td>\n",
       "      <td>105</td>\n",
       "      <td>0</td>\n",
       "      <td>?</td>\n",
       "      <td>0</td>\n",
       "      <td>166</td>\n",
       "      <td>0</td>\n",
       "      <td>2.8</td>\n",
       "      <td>1</td>\n",
       "      <td>?</td>\n",
       "      <td>?</td>\n",
       "      <td>2</td>\n",
       "    </tr>\n",
       "  </tbody>\n",
       "</table>\n",
       "</div>"
      ],
      "text/plain": [
       "   age  sex  cp trestbps  chol fbs restecg thalach exang oldpeak slope ca  \\\n",
       "0   32    1   1       95     0   ?       0     127     0      .7     1  ?   \n",
       "1   34    1   4      115     0   ?       ?     154     0      .2     1  ?   \n",
       "2   35    1   4        ?     0   ?       0     130     1       ?     ?  ?   \n",
       "3   36    1   4      110     0   ?       0     125     1       1     2  ?   \n",
       "4   38    0   4      105     0   ?       0     166     0     2.8     1  ?   \n",
       "\n",
       "  thal  num_label  \n",
       "0    ?          1  \n",
       "1    ?          1  \n",
       "2    7          3  \n",
       "3    6          1  \n",
       "4    ?          2  "
      ]
     },
     "execution_count": 40,
     "metadata": {},
     "output_type": "execute_result"
    }
   ],
   "source": [
    "swiss_df.head()"
   ]
  },
  {
   "cell_type": "code",
   "execution_count": 41,
   "metadata": {},
   "outputs": [
    {
     "data": {
      "text/html": [
       "<div>\n",
       "<style scoped>\n",
       "    .dataframe tbody tr th:only-of-type {\n",
       "        vertical-align: middle;\n",
       "    }\n",
       "\n",
       "    .dataframe tbody tr th {\n",
       "        vertical-align: top;\n",
       "    }\n",
       "\n",
       "    .dataframe thead th {\n",
       "        text-align: right;\n",
       "    }\n",
       "</style>\n",
       "<table border=\"1\" class=\"dataframe\">\n",
       "  <thead>\n",
       "    <tr style=\"text-align: right;\">\n",
       "      <th></th>\n",
       "      <th>age</th>\n",
       "      <th>thalach</th>\n",
       "      <th>cp</th>\n",
       "      <th>num_label</th>\n",
       "    </tr>\n",
       "  </thead>\n",
       "  <tbody>\n",
       "    <tr>\n",
       "      <th>0</th>\n",
       "      <td>32</td>\n",
       "      <td>127</td>\n",
       "      <td>1</td>\n",
       "      <td>1</td>\n",
       "    </tr>\n",
       "    <tr>\n",
       "      <th>1</th>\n",
       "      <td>34</td>\n",
       "      <td>154</td>\n",
       "      <td>4</td>\n",
       "      <td>1</td>\n",
       "    </tr>\n",
       "    <tr>\n",
       "      <th>2</th>\n",
       "      <td>35</td>\n",
       "      <td>130</td>\n",
       "      <td>4</td>\n",
       "      <td>3</td>\n",
       "    </tr>\n",
       "    <tr>\n",
       "      <th>3</th>\n",
       "      <td>36</td>\n",
       "      <td>125</td>\n",
       "      <td>4</td>\n",
       "      <td>1</td>\n",
       "    </tr>\n",
       "    <tr>\n",
       "      <th>4</th>\n",
       "      <td>38</td>\n",
       "      <td>166</td>\n",
       "      <td>4</td>\n",
       "      <td>2</td>\n",
       "    </tr>\n",
       "  </tbody>\n",
       "</table>\n",
       "</div>"
      ],
      "text/plain": [
       "   age thalach  cp  num_label\n",
       "0   32     127   1          1\n",
       "1   34     154   4          1\n",
       "2   35     130   4          3\n",
       "3   36     125   4          1\n",
       "4   38     166   4          2"
      ]
     },
     "execution_count": 41,
     "metadata": {},
     "output_type": "execute_result"
    }
   ],
   "source": [
    "subset_swiss_df.head()"
   ]
  },
  {
   "cell_type": "code",
   "execution_count": 42,
   "metadata": {},
   "outputs": [],
   "source": [
    "#adapted from https://www.tensorflow.org/tutorials/structured_data/feature_columns\n",
    "def df_to_dataset(df, predictor,  batch_size=32):\n",
    "    df = df.copy()\n",
    "    labels = df.pop(predictor)\n",
    "    ds = tf.data.Dataset.from_tensor_slices((dict(df), labels))\n",
    "    ds = ds.shuffle(buffer_size=len(df))\n",
    "    ds = ds.batch(batch_size)\n",
    "    return ds"
   ]
  },
  {
   "cell_type": "code",
   "execution_count": 43,
   "metadata": {},
   "outputs": [
    {
     "name": "stdout",
     "output_type": "stream",
     "text": [
      "Metal device set to: Apple M1\n"
     ]
    },
    {
     "name": "stderr",
     "output_type": "stream",
     "text": [
      "2022-06-17 09:52:38.158207: I tensorflow/core/common_runtime/pluggable_device/pluggable_device_factory.cc:305] Could not identify NUMA node of platform GPU ID 0, defaulting to 0. Your kernel may not have been built with NUMA support.\n",
      "2022-06-17 09:52:38.158690: I tensorflow/core/common_runtime/pluggable_device/pluggable_device_factory.cc:271] Created TensorFlow device (/job:localhost/replica:0/task:0/device:GPU:0 with 0 MB memory) -> physical PluggableDevice (device: 0, name: METAL, pci bus id: <undefined>)\n"
     ]
    }
   ],
   "source": [
    "BATCH_SIZE = 64\n",
    "PREDICTOR_FIELD = 'num_label'\n",
    "sample_tf_ds = df_to_dataset(subset_swiss_df, PREDICTOR_FIELD, batch_size=BATCH_SIZE)"
   ]
  },
  {
   "cell_type": "code",
   "execution_count": 44,
   "metadata": {},
   "outputs": [
    {
     "data": {
      "text/plain": [
       "{'age': <tf.Tensor: shape=(64,), dtype=int64, numpy=\n",
       " array([62, 32, 51, 64, 63, 46, 61, 70, 51, 64, 42, 50, 55, 59, 65, 56, 65,\n",
       "        59, 60, 73, 72, 58, 56, 43, 50, 53, 38, 66, 65, 56, 53, 57, 68, 51,\n",
       "        56, 38, 60, 50, 47, 43, 50, 34, 41, 54, 56, 42, 38, 62, 60, 56, 62,\n",
       "        65, 63, 55, 40, 51, 57, 47, 61, 56, 53, 74, 57, 62])>,\n",
       " 'thalach': <tf.Tensor: shape=(64,), dtype=string, numpy=\n",
       " array([b'128', b'127', b'60', b'145', b'109', b'133', b'113', b'157',\n",
       "        b'104', b'140', b'128', b'110', b'150', b'175', b'154', b'82',\n",
       "        b'122', b'115', b'110', b'121', b'114', b'138', b'100', b'140',\n",
       "        b'156', b'115', b'120', b'108', b'67', b'98', b'120', b'182',\n",
       "        b'120', b'127', b'148', b'150', b'149', b'139', b'120', b'122',\n",
       "        b'120', b'154', b'176', b'150', b'103', b'99', b'179', b'72',\n",
       "        b'99', b'99', b'78', b'93', b'86', b'155', b'144', b'92', b'120',\n",
       "        b'149', b'117', b'97', b'141', b'123', b'98', b'123'], dtype=object)>,\n",
       " 'cp': <tf.Tensor: shape=(64,), dtype=int64, numpy=\n",
       " array([4, 1, 4, 4, 4, 4, 4, 4, 4, 4, 4, 4, 2, 3, 4, 4, 4, 4, 4, 3, 3, 4,\n",
       "        4, 4, 4, 3, 4, 4, 4, 3, 2, 4, 4, 4, 4, 4, 4, 4, 3, 4, 4, 4, 4, 4,\n",
       "        4, 4, 3, 4, 4, 3, 4, 4, 4, 4, 4, 4, 4, 4, 4, 3, 4, 2, 4, 4])>}"
      ]
     },
     "execution_count": 44,
     "metadata": {},
     "output_type": "execute_result"
    }
   ],
   "source": [
    "sample_feature_batch = next(iter(sample_tf_ds))[0]\n",
    "sample_feature_batch"
   ]
  },
  {
   "cell_type": "code",
   "execution_count": 45,
   "metadata": {},
   "outputs": [
    {
     "data": {
      "text/plain": [
       "<tf.Tensor: shape=(64,), dtype=int64, numpy=\n",
       "array([1, 2, 1, 1, 2, 1, 2, 3, 4, 2, 2, 1, 3, 3, 2, 3, 1, 2, 2, 2, 3, 0,\n",
       "       1, 3, 2, 3, 2, 2, 1, 1, 2, 3, 3, 1, 3, 1, 1, 0, 1, 2, 3, 1, 1, 1,\n",
       "       2, 1, 2, 2, 3, 3, 2, 1, 0, 2, 1, 2, 1, 1, 3, 3, 3, 2, 1, 2])>"
      ]
     },
     "execution_count": 45,
     "metadata": {},
     "output_type": "execute_result"
    }
   ],
   "source": [
    "sample_label_batch = next(iter(sample_tf_ds))[1]\n",
    "sample_label_batch"
   ]
  },
  {
   "cell_type": "markdown",
   "metadata": {},
   "source": [
    "## 5. Building Numerical Feature with TF Feature Column API"
   ]
  },
  {
   "cell_type": "code",
   "execution_count": 46,
   "metadata": {},
   "outputs": [
    {
     "data": {
      "text/html": [
       "<div>\n",
       "<style scoped>\n",
       "    .dataframe tbody tr th:only-of-type {\n",
       "        vertical-align: middle;\n",
       "    }\n",
       "\n",
       "    .dataframe tbody tr th {\n",
       "        vertical-align: top;\n",
       "    }\n",
       "\n",
       "    .dataframe thead th {\n",
       "        text-align: right;\n",
       "    }\n",
       "</style>\n",
       "<table border=\"1\" class=\"dataframe\">\n",
       "  <thead>\n",
       "    <tr style=\"text-align: right;\">\n",
       "      <th></th>\n",
       "      <th>age</th>\n",
       "      <th>thalach</th>\n",
       "      <th>cp</th>\n",
       "      <th>num_label</th>\n",
       "    </tr>\n",
       "  </thead>\n",
       "  <tbody>\n",
       "    <tr>\n",
       "      <th>0</th>\n",
       "      <td>32</td>\n",
       "      <td>127</td>\n",
       "      <td>1</td>\n",
       "      <td>1</td>\n",
       "    </tr>\n",
       "    <tr>\n",
       "      <th>1</th>\n",
       "      <td>34</td>\n",
       "      <td>154</td>\n",
       "      <td>4</td>\n",
       "      <td>1</td>\n",
       "    </tr>\n",
       "    <tr>\n",
       "      <th>2</th>\n",
       "      <td>35</td>\n",
       "      <td>130</td>\n",
       "      <td>4</td>\n",
       "      <td>3</td>\n",
       "    </tr>\n",
       "    <tr>\n",
       "      <th>3</th>\n",
       "      <td>36</td>\n",
       "      <td>125</td>\n",
       "      <td>4</td>\n",
       "      <td>1</td>\n",
       "    </tr>\n",
       "    <tr>\n",
       "      <th>4</th>\n",
       "      <td>38</td>\n",
       "      <td>166</td>\n",
       "      <td>4</td>\n",
       "      <td>2</td>\n",
       "    </tr>\n",
       "  </tbody>\n",
       "</table>\n",
       "</div>"
      ],
      "text/plain": [
       "   age thalach  cp  num_label\n",
       "0   32     127   1          1\n",
       "1   34     154   4          1\n",
       "2   35     130   4          3\n",
       "3   36     125   4          1\n",
       "4   38     166   4          2"
      ]
     },
     "execution_count": 46,
     "metadata": {},
     "output_type": "execute_result"
    }
   ],
   "source": [
    "subset_swiss_df.head()"
   ]
  },
  {
   "cell_type": "code",
   "execution_count": 47,
   "metadata": {},
   "outputs": [
    {
     "name": "stdout",
     "output_type": "stream",
     "text": [
      "Mean age:55.31707317073171\n",
      "Standard Deviation Age:9.032107639562039\n"
     ]
    }
   ],
   "source": [
    "age_mean = subset_swiss_df['age'].describe()['mean']\n",
    "age_std = subset_swiss_df['age'].describe()['std']\n",
    "print(\"Mean age:{}\\nStandard Deviation Age:{}\".format(age_mean, age_std))"
   ]
  },
  {
   "cell_type": "code",
   "execution_count": 48,
   "metadata": {},
   "outputs": [],
   "source": [
    "import functools\n",
    "def normalize_numeric_with_zscore(col, mean, std):\n",
    "    return (col - mean)/std\n",
    "\n",
    "def create_tf_numeric_feature(col, MEAN, STD,   default_value=0):\n",
    "    normalizer = functools.partial(normalize_numeric_with_zscore, mean=MEAN, std=STD)\n",
    "    return tf.feature_column.numeric_column(\n",
    "    key=col, default_value = default_value, normalizer_fn=normalizer, dtype=tf.float64)"
   ]
  },
  {
   "cell_type": "code",
   "execution_count": 49,
   "metadata": {},
   "outputs": [],
   "source": [
    "age_tf_feature = create_tf_numeric_feature('age', age_mean, age_std)"
   ]
  },
  {
   "cell_type": "code",
   "execution_count": 50,
   "metadata": {},
   "outputs": [],
   "source": [
    "def demo(feature_column, example_batch):\n",
    "    feature_layer = tf.keras.layers.DenseFeatures(feature_column)\n",
    "    print(feature_layer(example_batch))"
   ]
  },
  {
   "cell_type": "code",
   "execution_count": 51,
   "metadata": {},
   "outputs": [
    {
     "name": "stdout",
     "output_type": "stream",
     "text": [
      "Example continuous field:\n",
      "NumericColumn(key='age', shape=(1,), default_value=(0,), dtype=tf.float64, normalizer_fn=functools.partial(<function normalize_numeric_with_zscore at 0x1690e94c0>, mean=55.31707317073171, std=9.032107639562039))\n",
      "\n",
      "tf.Tensor(\n",
      "[[ 0.7777778 ]\n",
      " [-2.5555556 ]\n",
      " [-0.44444445]\n",
      " [ 1.        ]\n",
      " [ 0.8888889 ]\n",
      " [-1.        ]\n",
      " [ 0.6666667 ]\n",
      " [ 1.6666666 ]\n",
      " [-0.44444445]\n",
      " [ 1.        ]\n",
      " [-1.4444444 ]\n",
      " [-0.5555556 ]\n",
      " [ 0.        ]\n",
      " [ 0.44444445]\n",
      " [ 1.1111112 ]\n",
      " [ 0.11111111]\n",
      " [ 1.1111112 ]\n",
      " [ 0.44444445]\n",
      " [ 0.5555556 ]\n",
      " [ 2.        ]\n",
      " [ 1.8888888 ]\n",
      " [ 0.33333334]\n",
      " [ 0.11111111]\n",
      " [-1.3333334 ]\n",
      " [-0.5555556 ]\n",
      " [-0.22222222]\n",
      " [-1.8888888 ]\n",
      " [ 1.2222222 ]\n",
      " [ 1.1111112 ]\n",
      " [ 0.11111111]\n",
      " [-0.22222222]\n",
      " [ 0.22222222]\n",
      " [ 1.4444444 ]\n",
      " [-0.44444445]\n",
      " [ 0.11111111]\n",
      " [-1.8888888 ]\n",
      " [ 0.5555556 ]\n",
      " [-0.5555556 ]\n",
      " [-0.8888889 ]\n",
      " [-1.3333334 ]\n",
      " [-0.5555556 ]\n",
      " [-2.3333333 ]\n",
      " [-1.5555556 ]\n",
      " [-0.11111111]\n",
      " [ 0.11111111]\n",
      " [-1.4444444 ]\n",
      " [-1.8888888 ]\n",
      " [ 0.7777778 ]\n",
      " [ 0.5555556 ]\n",
      " [ 0.11111111]\n",
      " [ 0.7777778 ]\n",
      " [ 1.1111112 ]\n",
      " [ 0.8888889 ]\n",
      " [ 0.        ]\n",
      " [-1.6666666 ]\n",
      " [-0.44444445]\n",
      " [ 0.22222222]\n",
      " [-0.8888889 ]\n",
      " [ 0.6666667 ]\n",
      " [ 0.11111111]\n",
      " [-0.22222222]\n",
      " [ 2.1111112 ]\n",
      " [ 0.22222222]\n",
      " [ 0.7777778 ]], shape=(64, 1), dtype=float32)\n"
     ]
    }
   ],
   "source": [
    "print(\"Example continuous field:\\n{}\\n\".format(age_tf_feature))\n",
    "demo(age_tf_feature, sample_feature_batch)"
   ]
  },
  {
   "cell_type": "markdown",
   "metadata": {},
   "source": [
    "## 6. Building Categorical Features with TF Feature Column API"
   ]
  },
  {
   "cell_type": "code",
   "execution_count": 52,
   "metadata": {},
   "outputs": [],
   "source": [
    "categorical_example_df = encounter_df[['ENCOUNTER_ID', 'PRINCIPAL_DIAGNOSIS_CODE', 'LABEL']] "
   ]
  },
  {
   "cell_type": "code",
   "execution_count": 53,
   "metadata": {},
   "outputs": [
    {
     "name": "stderr",
     "output_type": "stream",
     "text": [
      "/var/folders/v_/rh4ycfcn3vd4r73j2nln2brm0000gn/T/ipykernel_46366/394606490.py:2: SettingWithCopyWarning: \n",
      "A value is trying to be set on a copy of a slice from a DataFrame.\n",
      "Try using .loc[row_indexer,col_indexer] = value instead\n",
      "\n",
      "See the caveats in the documentation: https://pandas.pydata.org/pandas-docs/stable/user_guide/indexing.html#returning-a-view-versus-a-copy\n",
      "  categorical_example_df['LABEL'] = categorical_example_df['LABEL'].apply(lambda x: np.unique(x)[0])\n"
     ]
    }
   ],
   "source": [
    "# for this task need to convert label from array to scalar value\n",
    "categorical_example_df['LABEL'] = categorical_example_df['LABEL'].apply(lambda x: np.unique(x)[0])"
   ]
  },
  {
   "cell_type": "code",
   "execution_count": 54,
   "metadata": {},
   "outputs": [
    {
     "data": {
      "text/html": [
       "<div>\n",
       "<style scoped>\n",
       "    .dataframe tbody tr th:only-of-type {\n",
       "        vertical-align: middle;\n",
       "    }\n",
       "\n",
       "    .dataframe tbody tr th {\n",
       "        vertical-align: top;\n",
       "    }\n",
       "\n",
       "    .dataframe thead th {\n",
       "        text-align: right;\n",
       "    }\n",
       "</style>\n",
       "<table border=\"1\" class=\"dataframe\">\n",
       "  <thead>\n",
       "    <tr style=\"text-align: right;\">\n",
       "      <th></th>\n",
       "      <th>ENCOUNTER_ID</th>\n",
       "      <th>PRINCIPAL_DIAGNOSIS_CODE</th>\n",
       "      <th>LABEL</th>\n",
       "    </tr>\n",
       "  </thead>\n",
       "  <tbody>\n",
       "    <tr>\n",
       "      <th>0</th>\n",
       "      <td>udacity_health_encounter_id_1</td>\n",
       "      <td>dx_code_15406</td>\n",
       "      <td>0</td>\n",
       "    </tr>\n",
       "    <tr>\n",
       "      <th>1</th>\n",
       "      <td>udacity_health_encounter_id_10</td>\n",
       "      <td>dx_code_74047</td>\n",
       "      <td>1</td>\n",
       "    </tr>\n",
       "    <tr>\n",
       "      <th>2</th>\n",
       "      <td>udacity_health_encounter_id_100</td>\n",
       "      <td>dx_code_71465</td>\n",
       "      <td>0</td>\n",
       "    </tr>\n",
       "    <tr>\n",
       "      <th>3</th>\n",
       "      <td>udacity_health_encounter_id_1000</td>\n",
       "      <td>dx_code_61569</td>\n",
       "      <td>0</td>\n",
       "    </tr>\n",
       "    <tr>\n",
       "      <th>4</th>\n",
       "      <td>udacity_health_encounter_id_1001</td>\n",
       "      <td>dx_code_90172</td>\n",
       "      <td>0</td>\n",
       "    </tr>\n",
       "  </tbody>\n",
       "</table>\n",
       "</div>"
      ],
      "text/plain": [
       "                       ENCOUNTER_ID PRINCIPAL_DIAGNOSIS_CODE  LABEL\n",
       "0     udacity_health_encounter_id_1            dx_code_15406      0\n",
       "1    udacity_health_encounter_id_10            dx_code_74047      1\n",
       "2   udacity_health_encounter_id_100            dx_code_71465      0\n",
       "3  udacity_health_encounter_id_1000            dx_code_61569      0\n",
       "4  udacity_health_encounter_id_1001            dx_code_90172      0"
      ]
     },
     "execution_count": 54,
     "metadata": {},
     "output_type": "execute_result"
    }
   ],
   "source": [
    "categorical_example_df.head()"
   ]
  },
  {
   "cell_type": "markdown",
   "metadata": {},
   "source": [
    "### High Cardinality for Principal Diagnosis Code"
   ]
  },
  {
   "cell_type": "code",
   "execution_count": 55,
   "metadata": {},
   "outputs": [
    {
     "data": {
      "text/plain": [
       "6752"
      ]
     },
     "execution_count": 55,
     "metadata": {},
     "output_type": "execute_result"
    }
   ],
   "source": [
    "categorical_example_df['PRINCIPAL_DIAGNOSIS_CODE'].nunique()"
   ]
  },
  {
   "cell_type": "markdown",
   "metadata": {},
   "source": [
    "### Generate Vocabulary File"
   ]
  },
  {
   "cell_type": "code",
   "execution_count": 56,
   "metadata": {},
   "outputs": [],
   "source": [
    "#make vocab dir\n",
    "import os\n",
    "#os.mkdir(\"./vocab/\")"
   ]
  },
  {
   "cell_type": "code",
   "execution_count": 57,
   "metadata": {},
   "outputs": [],
   "source": [
    "# build vocab for categorical features\n",
    "def write_vocabulary_file(vocab_list, field_name, default_value, vocab_dir='./vocab/'):\n",
    "    output_file_path = os.path.join(vocab_dir, str(field_name) + \"_vocab.txt\")\n",
    "    # put default value in first row as TF requires\n",
    "    vocab_list = np.insert(vocab_list, 0, default_value, axis=0) \n",
    "    df = pd.DataFrame(vocab_list).to_csv(output_file_path, index=None, header=None)\n",
    "    return output_file_path\n",
    "\n",
    "def build_vocab_files(df, categorical_column_list, default_value='00'):\n",
    "    vocab_files_list = []\n",
    "    for c in categorical_column_list:\n",
    "        v_file = write_vocabulary_file(df[c].unique(), c, default_value)\n",
    "        vocab_files_list.append(v_file)\n",
    "    return vocab_files_list"
   ]
  },
  {
   "cell_type": "code",
   "execution_count": 58,
   "metadata": {},
   "outputs": [],
   "source": [
    "categorical_field_list = [\"PRINCIPAL_DIAGNOSIS_CODE\"]\n",
    "vocab_files_list = build_vocab_files(categorical_example_df, categorical_field_list)"
   ]
  },
  {
   "cell_type": "markdown",
   "metadata": {},
   "source": [
    "### Build TF Dataset from Pandas Dataframe"
   ]
  },
  {
   "cell_type": "code",
   "execution_count": 59,
   "metadata": {},
   "outputs": [],
   "source": [
    "BATCH_SIZE = 64\n",
    "PREDICTOR_FIELD = 'LABEL'\n",
    "categorical_tf_ds = df_to_dataset(categorical_example_df, PREDICTOR_FIELD, batch_size=BATCH_SIZE)"
   ]
  },
  {
   "cell_type": "markdown",
   "metadata": {},
   "source": [
    "### Use TF Feature Column API to read from vocab file"
   ]
  },
  {
   "cell_type": "code",
   "execution_count": 60,
   "metadata": {},
   "outputs": [
    {
     "data": {
      "text/plain": [
       "'./vocab/PRINCIPAL_DIAGNOSIS_CODE_vocab.txt'"
      ]
     },
     "execution_count": 60,
     "metadata": {},
     "output_type": "execute_result"
    }
   ],
   "source": [
    "vocab_files_list[0]"
   ]
  },
  {
   "cell_type": "code",
   "execution_count": 61,
   "metadata": {},
   "outputs": [
    {
     "name": "stdout",
     "output_type": "stream",
     "text": [
      "INFO:tensorflow:vocabulary_size = 6753 in PRINCIPAL_DIAGNOSIS_CODE is inferred from the number of elements in the vocabulary_file ./vocab/PRINCIPAL_DIAGNOSIS_CODE_vocab.txt.\n"
     ]
    }
   ],
   "source": [
    "principal_diagnosis_vocab = tf.feature_column.categorical_column_with_vocabulary_file(\n",
    "            key=\"PRINCIPAL_DIAGNOSIS_CODE\", vocabulary_file = vocab_files_list[0], num_oov_buckets=1)"
   ]
  },
  {
   "cell_type": "markdown",
   "metadata": {},
   "source": [
    "### Create one-hot encoding  from vocab column feature function"
   ]
  },
  {
   "cell_type": "code",
   "execution_count": 62,
   "metadata": {},
   "outputs": [],
   "source": [
    "one_hot_principal_diagnosis_feature = tf.feature_column.indicator_column(principal_diagnosis_vocab)"
   ]
  },
  {
   "cell_type": "code",
   "execution_count": 63,
   "metadata": {},
   "outputs": [],
   "source": [
    "categorical_tf_ds_batch = next(iter(categorical_tf_ds))[0]"
   ]
  },
  {
   "cell_type": "code",
   "execution_count": 64,
   "metadata": {},
   "outputs": [
    {
     "name": "stdout",
     "output_type": "stream",
     "text": [
      "tf.Tensor(\n",
      "[[0. 0. 0. ... 0. 0. 0.]\n",
      " [0. 0. 0. ... 0. 0. 0.]\n",
      " [0. 0. 0. ... 0. 0. 0.]\n",
      " ...\n",
      " [0. 0. 0. ... 0. 0. 0.]\n",
      " [0. 0. 0. ... 0. 0. 0.]\n",
      " [0. 0. 0. ... 0. 0. 0.]], shape=(64, 6754), dtype=float32)\n"
     ]
    }
   ],
   "source": [
    "demo(one_hot_principal_diagnosis_feature, categorical_tf_ds_batch)"
   ]
  },
  {
   "cell_type": "markdown",
   "metadata": {},
   "source": [
    "[Tensorflow Feature Column API Categorical Features](https://www.tensorflow.org/api_docs/python/tf/feature_column/categorical_column_with_vocabulary_file)"
   ]
  },
  {
   "cell_type": "markdown",
   "metadata": {},
   "source": [
    "[TensorFlow One-hot Encoding](https://www.tensorflow.org/api_docs/python/tf/one_hot)"
   ]
  }
 ],
 "metadata": {
  "kernelspec": {
   "display_name": "Python 3 (ipykernel)",
   "language": "python",
   "name": "python3"
  },
  "language_info": {
   "codemirror_mode": {
    "name": "ipython",
    "version": 3
   },
   "file_extension": ".py",
   "mimetype": "text/x-python",
   "name": "python",
   "nbconvert_exporter": "python",
   "pygments_lexer": "ipython3",
   "version": "3.9.13"
  }
 },
 "nbformat": 4,
 "nbformat_minor": 4
}
