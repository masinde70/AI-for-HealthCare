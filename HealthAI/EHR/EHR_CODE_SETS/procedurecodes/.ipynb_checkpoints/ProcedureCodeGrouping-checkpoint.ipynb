{
 "cells": [
  {
   "cell_type": "markdown",
   "id": "bd9dd4cd-bc95-469f-a543-bf9eb5dd2290",
   "metadata": {},
   "source": [
    "**Datasets**\n",
    "* 2018 CA inpatient dataset - https://data.chhs.ca.gov/dataset/hospital-inpatient-diagnosis-procedure-and-external-cause-codes/\n",
    "* Attribution to CA https://data.chhs.ca.gov/pages/terms"
   ]
  },
  {
   "cell_type": "markdown",
   "id": "4a397da0-4cd5-4689-a8b5-04539942a27b",
   "metadata": {},
   "source": [
    "### Instructions\n",
    "Please use the dataset above from the state of California that provides the total inpatient diagnosis counts using the ICD10 - PCS code set. \n",
    "1. Give the codes that have 'CORONARY ARTERY\" in the description\n",
    "2. What percentage of cases that have 'CORONARY ARTERY' in their description have primary procedure codes that could be grouped at the B category level? \n",
    "3. What is the highest percentage grouping you can make with 3 characters for the secondary procedure code? \n"
   ]
  },
  {
   "cell_type": "code",
   "execution_count": 1,
   "id": "eb1d3cff-328a-47d5-b4a7-02f6c6ba8a49",
   "metadata": {},
   "outputs": [],
   "source": [
    "import pandas as pd\n",
    "import numpy as np"
   ]
  },
  {
   "cell_type": "code",
   "execution_count": 5,
   "id": "3ba1af22-9d8e-4e99-b32e-76454ddc78ce",
   "metadata": {},
   "outputs": [],
   "source": [
    "proc_df = pd.read_csv('ICD10PCS.csv').fillna(0)[:-1]"
   ]
  },
  {
   "cell_type": "code",
   "execution_count": 6,
   "id": "c3d2f30b-0031-4fc0-a470-268c9f09ba36",
   "metadata": {},
   "outputs": [
    {
     "data": {
      "text/html": [
       "<div>\n",
       "<style scoped>\n",
       "    .dataframe tbody tr th:only-of-type {\n",
       "        vertical-align: middle;\n",
       "    }\n",
       "\n",
       "    .dataframe tbody tr th {\n",
       "        vertical-align: top;\n",
       "    }\n",
       "\n",
       "    .dataframe thead th {\n",
       "        text-align: right;\n",
       "    }\n",
       "</style>\n",
       "<table border=\"1\" class=\"dataframe\">\n",
       "  <thead>\n",
       "    <tr style=\"text-align: right;\">\n",
       "      <th></th>\n",
       "      <th>ProcedureCode</th>\n",
       "      <th>ProcedureDesc</th>\n",
       "      <th>TotalProc</th>\n",
       "      <th>PrimaryProc</th>\n",
       "      <th>SecondProc</th>\n",
       "    </tr>\n",
       "  </thead>\n",
       "  <tbody>\n",
       "    <tr>\n",
       "      <th>0</th>\n",
       "      <td>0016073</td>\n",
       "      <td>BYPASS CEREB VENT TO BLOOD VESS W AUTOL SUB, OPEN</td>\n",
       "      <td>2</td>\n",
       "      <td>0</td>\n",
       "      <td>2</td>\n",
       "    </tr>\n",
       "    <tr>\n",
       "      <th>1</th>\n",
       "      <td>00160J2</td>\n",
       "      <td>BYPASS CEREB VENT TO ATRIUM WITH SYNTH SUB, OP...</td>\n",
       "      <td>17</td>\n",
       "      <td>8</td>\n",
       "      <td>9</td>\n",
       "    </tr>\n",
       "    <tr>\n",
       "      <th>2</th>\n",
       "      <td>00160J4</td>\n",
       "      <td>BYPASS CEREB VENT TO PLEURAL CAV W SYNTH SUB, ...</td>\n",
       "      <td>17</td>\n",
       "      <td>6</td>\n",
       "      <td>11</td>\n",
       "    </tr>\n",
       "    <tr>\n",
       "      <th>3</th>\n",
       "      <td>00160J6</td>\n",
       "      <td>BYPASS CEREB VENT TO PERITON CAV W SYNTH SUB, ...</td>\n",
       "      <td>1372</td>\n",
       "      <td>796</td>\n",
       "      <td>576</td>\n",
       "    </tr>\n",
       "    <tr>\n",
       "      <th>4</th>\n",
       "      <td>00160JB</td>\n",
       "      <td>BYPASS CEREB VENT TO CEREB CISTERN W SYNTH SUB...</td>\n",
       "      <td>46</td>\n",
       "      <td>17</td>\n",
       "      <td>29</td>\n",
       "    </tr>\n",
       "  </tbody>\n",
       "</table>\n",
       "</div>"
      ],
      "text/plain": [
       "  ProcedureCode                                      ProcedureDesc TotalProc  \\\n",
       "0       0016073  BYPASS CEREB VENT TO BLOOD VESS W AUTOL SUB, OPEN         2   \n",
       "1       00160J2  BYPASS CEREB VENT TO ATRIUM WITH SYNTH SUB, OP...        17   \n",
       "2       00160J4  BYPASS CEREB VENT TO PLEURAL CAV W SYNTH SUB, ...        17   \n",
       "3       00160J6  BYPASS CEREB VENT TO PERITON CAV W SYNTH SUB, ...      1372   \n",
       "4       00160JB  BYPASS CEREB VENT TO CEREB CISTERN W SYNTH SUB...        46   \n",
       "\n",
       "  PrimaryProc SecondProc  \n",
       "0           0          2  \n",
       "1           8          9  \n",
       "2           6         11  \n",
       "3         796        576  \n",
       "4          17         29  "
      ]
     },
     "execution_count": 6,
     "metadata": {},
     "output_type": "execute_result"
    }
   ],
   "source": [
    "proc_df.head()"
   ]
  },
  {
   "cell_type": "code",
   "execution_count": null,
   "id": "29062bad-9b94-49ab-93d0-e7ef3963d721",
   "metadata": {},
   "outputs": [],
   "source": []
  }
 ],
 "metadata": {
  "kernelspec": {
   "display_name": "Python 3 (ipykernel)",
   "language": "python",
   "name": "python3"
  },
  "language_info": {
   "codemirror_mode": {
    "name": "ipython",
    "version": 3
   },
   "file_extension": ".py",
   "mimetype": "text/x-python",
   "name": "python",
   "nbconvert_exporter": "python",
   "pygments_lexer": "ipython3",
   "version": "3.8.10"
  }
 },
 "nbformat": 4,
 "nbformat_minor": 5
}
