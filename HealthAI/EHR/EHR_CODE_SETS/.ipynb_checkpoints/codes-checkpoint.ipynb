{
 "cells": [
  {
   "cell_type": "code",
   "execution_count": 1,
   "id": "25dd84f0-0f5d-424d-b875-893d5c565dff",
   "metadata": {},
   "outputs": [],
   "source": [
    "import pandas as pd\n",
    "import numpy as np"
   ]
  },
  {
   "cell_type": "code",
   "execution_count": 2,
   "id": "b9141dc6-1787-49ac-b8e5-f500115df7e3",
   "metadata": {},
   "outputs": [],
   "source": [
    "code_list = [\"02C24ZZ\", \"02C33Z6\", \"D2C33ZZ\", \"Z2C34Z6\", \"D2C34ZZ\", \"4A020N6\"]\n"
   ]
  },
  {
   "cell_type": "code",
   "execution_count": 3,
   "id": "c4e229b5-350b-4d39-9527-328d33d08dc3",
   "metadata": {},
   "outputs": [],
   "source": [
    "description_list = [\"Percutaneous transluminal angioplasty\", \"Percutaneous transluminal coronary angioplasty\",\n",
    "\"Percutaneous transluminal angioplasty\", \"Percutaneous transluminal angioplasty\", \"Percutaneous transluminal angioplasty\",\n",
    "\"Diagnostic cardiac catheterization; coronary\" ]"
   ]
  },
  {
   "cell_type": "code",
   "execution_count": 4,
   "id": "33966351-e1f9-4e25-a5eb-641da2944bb0",
   "metadata": {},
   "outputs": [],
   "source": [
    "sample_df = pd.DataFrame({\"sample_code\": code_list, \"code_description\": description_list})"
   ]
  },
  {
   "cell_type": "code",
   "execution_count": 5,
   "id": "4b7134b8-4ccf-47e5-9d2d-e8091d5c48b6",
   "metadata": {},
   "outputs": [
    {
     "data": {
      "text/html": [
       "<div>\n",
       "<style scoped>\n",
       "    .dataframe tbody tr th:only-of-type {\n",
       "        vertical-align: middle;\n",
       "    }\n",
       "\n",
       "    .dataframe tbody tr th {\n",
       "        vertical-align: top;\n",
       "    }\n",
       "\n",
       "    .dataframe thead th {\n",
       "        text-align: right;\n",
       "    }\n",
       "</style>\n",
       "<table border=\"1\" class=\"dataframe\">\n",
       "  <thead>\n",
       "    <tr style=\"text-align: right;\">\n",
       "      <th></th>\n",
       "      <th>sample_code</th>\n",
       "      <th>code_description</th>\n",
       "    </tr>\n",
       "  </thead>\n",
       "  <tbody>\n",
       "    <tr>\n",
       "      <th>0</th>\n",
       "      <td>02C24ZZ</td>\n",
       "      <td>Percutaneous transluminal angioplasty</td>\n",
       "    </tr>\n",
       "    <tr>\n",
       "      <th>1</th>\n",
       "      <td>02C33Z6</td>\n",
       "      <td>Percutaneous transluminal coronary angioplasty</td>\n",
       "    </tr>\n",
       "    <tr>\n",
       "      <th>2</th>\n",
       "      <td>D2C33ZZ</td>\n",
       "      <td>Percutaneous transluminal angioplasty</td>\n",
       "    </tr>\n",
       "    <tr>\n",
       "      <th>3</th>\n",
       "      <td>Z2C34Z6</td>\n",
       "      <td>Percutaneous transluminal angioplasty</td>\n",
       "    </tr>\n",
       "    <tr>\n",
       "      <th>4</th>\n",
       "      <td>D2C34ZZ</td>\n",
       "      <td>Percutaneous transluminal angioplasty</td>\n",
       "    </tr>\n",
       "    <tr>\n",
       "      <th>5</th>\n",
       "      <td>4A020N6</td>\n",
       "      <td>Diagnostic cardiac catheterization; coronary</td>\n",
       "    </tr>\n",
       "  </tbody>\n",
       "</table>\n",
       "</div>"
      ],
      "text/plain": [
       "  sample_code                                code_description\n",
       "0     02C24ZZ           Percutaneous transluminal angioplasty\n",
       "1     02C33Z6  Percutaneous transluminal coronary angioplasty\n",
       "2     D2C33ZZ           Percutaneous transluminal angioplasty\n",
       "3     Z2C34Z6           Percutaneous transluminal angioplasty\n",
       "4     D2C34ZZ           Percutaneous transluminal angioplasty\n",
       "5     4A020N6    Diagnostic cardiac catheterization; coronary"
      ]
     },
     "execution_count": 5,
     "metadata": {},
     "output_type": "execute_result"
    }
   ],
   "source": [
    "sample_df"
   ]
  },
  {
   "cell_type": "markdown",
   "id": "e1dcaa54-dc10-4f52-9332-62a30344992e",
   "metadata": {},
   "source": [
    "### 1. Searching for Codes with  Text Patttern\n",
    "  *  Searching for text with string methods like contains()\n"
   ]
  },
  {
   "cell_type": "code",
   "execution_count": 6,
   "id": "4d527cb8-faa4-4ba5-9ef2-4c80d4011057",
   "metadata": {},
   "outputs": [],
   "source": [
    "matched_string_df = sample_df[sample_df['code_description'].str.contains('angioplasty')]"
   ]
  },
  {
   "cell_type": "code",
   "execution_count": 7,
   "id": "51649ae5-6f8e-4cba-89ab-20a53e13df5e",
   "metadata": {},
   "outputs": [
    {
     "data": {
      "text/html": [
       "<div>\n",
       "<style scoped>\n",
       "    .dataframe tbody tr th:only-of-type {\n",
       "        vertical-align: middle;\n",
       "    }\n",
       "\n",
       "    .dataframe tbody tr th {\n",
       "        vertical-align: top;\n",
       "    }\n",
       "\n",
       "    .dataframe thead th {\n",
       "        text-align: right;\n",
       "    }\n",
       "</style>\n",
       "<table border=\"1\" class=\"dataframe\">\n",
       "  <thead>\n",
       "    <tr style=\"text-align: right;\">\n",
       "      <th></th>\n",
       "      <th>sample_code</th>\n",
       "      <th>code_description</th>\n",
       "    </tr>\n",
       "  </thead>\n",
       "  <tbody>\n",
       "    <tr>\n",
       "      <th>0</th>\n",
       "      <td>02C24ZZ</td>\n",
       "      <td>Percutaneous transluminal angioplasty</td>\n",
       "    </tr>\n",
       "    <tr>\n",
       "      <th>1</th>\n",
       "      <td>02C33Z6</td>\n",
       "      <td>Percutaneous transluminal coronary angioplasty</td>\n",
       "    </tr>\n",
       "    <tr>\n",
       "      <th>2</th>\n",
       "      <td>D2C33ZZ</td>\n",
       "      <td>Percutaneous transluminal angioplasty</td>\n",
       "    </tr>\n",
       "    <tr>\n",
       "      <th>3</th>\n",
       "      <td>Z2C34Z6</td>\n",
       "      <td>Percutaneous transluminal angioplasty</td>\n",
       "    </tr>\n",
       "    <tr>\n",
       "      <th>4</th>\n",
       "      <td>D2C34ZZ</td>\n",
       "      <td>Percutaneous transluminal angioplasty</td>\n",
       "    </tr>\n",
       "  </tbody>\n",
       "</table>\n",
       "</div>"
      ],
      "text/plain": [
       "  sample_code                                code_description\n",
       "0     02C24ZZ           Percutaneous transluminal angioplasty\n",
       "1     02C33Z6  Percutaneous transluminal coronary angioplasty\n",
       "2     D2C33ZZ           Percutaneous transluminal angioplasty\n",
       "3     Z2C34Z6           Percutaneous transluminal angioplasty\n",
       "4     D2C34ZZ           Percutaneous transluminal angioplasty"
      ]
     },
     "execution_count": 7,
     "metadata": {},
     "output_type": "execute_result"
    }
   ],
   "source": [
    "matched_string_df"
   ]
  },
  {
   "cell_type": "code",
   "execution_count": 8,
   "id": "29c8e4c2-0d60-4baa-965c-df56f2849183",
   "metadata": {},
   "outputs": [],
   "source": [
    "# Here is the row that didn't match the have string in the description\n",
    "unmatched_string_df = sample_df[~sample_df['code_description'].str.contains('angioplasty')]"
   ]
  },
  {
   "cell_type": "code",
   "execution_count": 9,
   "id": "e9526c80-4409-48c6-b2af-295abe91d9f9",
   "metadata": {},
   "outputs": [
    {
     "data": {
      "text/html": [
       "<div>\n",
       "<style scoped>\n",
       "    .dataframe tbody tr th:only-of-type {\n",
       "        vertical-align: middle;\n",
       "    }\n",
       "\n",
       "    .dataframe tbody tr th {\n",
       "        vertical-align: top;\n",
       "    }\n",
       "\n",
       "    .dataframe thead th {\n",
       "        text-align: right;\n",
       "    }\n",
       "</style>\n",
       "<table border=\"1\" class=\"dataframe\">\n",
       "  <thead>\n",
       "    <tr style=\"text-align: right;\">\n",
       "      <th></th>\n",
       "      <th>sample_code</th>\n",
       "      <th>code_description</th>\n",
       "    </tr>\n",
       "  </thead>\n",
       "  <tbody>\n",
       "    <tr>\n",
       "      <th>5</th>\n",
       "      <td>4A020N6</td>\n",
       "      <td>Diagnostic cardiac catheterization; coronary</td>\n",
       "    </tr>\n",
       "  </tbody>\n",
       "</table>\n",
       "</div>"
      ],
      "text/plain": [
       "  sample_code                              code_description\n",
       "5     4A020N6  Diagnostic cardiac catheterization; coronary"
      ]
     },
     "execution_count": 9,
     "metadata": {},
     "output_type": "execute_result"
    }
   ],
   "source": [
    "unmatched_string_df"
   ]
  },
  {
   "cell_type": "markdown",
   "id": "f764528a-821a-4e8c-afaf-7139cd190bb6",
   "metadata": {},
   "source": [
    "### 2. Grouping by character\n",
    "  * Use startswith function to get the codes that start with the first x number of characters"
   ]
  },
  {
   "cell_type": "code",
   "execution_count": 10,
   "id": "b024f7b6-4c4d-4a2a-8bf7-a622dd35b86d",
   "metadata": {},
   "outputs": [],
   "source": [
    "first_char_group_df = sample_df[sample_df['sample_code'].str.startswith('4')]"
   ]
  },
  {
   "cell_type": "code",
   "execution_count": 11,
   "id": "484b8fd0-de3a-498c-8e1e-f749c548598d",
   "metadata": {},
   "outputs": [
    {
     "data": {
      "text/html": [
       "<div>\n",
       "<style scoped>\n",
       "    .dataframe tbody tr th:only-of-type {\n",
       "        vertical-align: middle;\n",
       "    }\n",
       "\n",
       "    .dataframe tbody tr th {\n",
       "        vertical-align: top;\n",
       "    }\n",
       "\n",
       "    .dataframe thead th {\n",
       "        text-align: right;\n",
       "    }\n",
       "</style>\n",
       "<table border=\"1\" class=\"dataframe\">\n",
       "  <thead>\n",
       "    <tr style=\"text-align: right;\">\n",
       "      <th></th>\n",
       "      <th>sample_code</th>\n",
       "      <th>code_description</th>\n",
       "    </tr>\n",
       "  </thead>\n",
       "  <tbody>\n",
       "    <tr>\n",
       "      <th>5</th>\n",
       "      <td>4A020N6</td>\n",
       "      <td>Diagnostic cardiac catheterization; coronary</td>\n",
       "    </tr>\n",
       "  </tbody>\n",
       "</table>\n",
       "</div>"
      ],
      "text/plain": [
       "  sample_code                              code_description\n",
       "5     4A020N6  Diagnostic cardiac catheterization; coronary"
      ]
     },
     "execution_count": 11,
     "metadata": {},
     "output_type": "execute_result"
    }
   ],
   "source": [
    "first_char_group_df"
   ]
  },
  {
   "cell_type": "code",
   "execution_count": 12,
   "id": "c4aea18c-5e5f-4fce-93ee-a11e86ff5f68",
   "metadata": {},
   "outputs": [],
   "source": [
    "two_char_group_df = sample_df[sample_df['sample_code'].str.startswith('D2')]"
   ]
  },
  {
   "cell_type": "code",
   "execution_count": 13,
   "id": "fd5a6587-9932-4a0c-94ff-4bd4c06249f4",
   "metadata": {},
   "outputs": [
    {
     "data": {
      "text/html": [
       "<div>\n",
       "<style scoped>\n",
       "    .dataframe tbody tr th:only-of-type {\n",
       "        vertical-align: middle;\n",
       "    }\n",
       "\n",
       "    .dataframe tbody tr th {\n",
       "        vertical-align: top;\n",
       "    }\n",
       "\n",
       "    .dataframe thead th {\n",
       "        text-align: right;\n",
       "    }\n",
       "</style>\n",
       "<table border=\"1\" class=\"dataframe\">\n",
       "  <thead>\n",
       "    <tr style=\"text-align: right;\">\n",
       "      <th></th>\n",
       "      <th>sample_code</th>\n",
       "      <th>code_description</th>\n",
       "    </tr>\n",
       "  </thead>\n",
       "  <tbody>\n",
       "    <tr>\n",
       "      <th>2</th>\n",
       "      <td>D2C33ZZ</td>\n",
       "      <td>Percutaneous transluminal angioplasty</td>\n",
       "    </tr>\n",
       "    <tr>\n",
       "      <th>4</th>\n",
       "      <td>D2C34ZZ</td>\n",
       "      <td>Percutaneous transluminal angioplasty</td>\n",
       "    </tr>\n",
       "  </tbody>\n",
       "</table>\n",
       "</div>"
      ],
      "text/plain": [
       "  sample_code                       code_description\n",
       "2     D2C33ZZ  Percutaneous transluminal angioplasty\n",
       "4     D2C34ZZ  Percutaneous transluminal angioplasty"
      ]
     },
     "execution_count": 13,
     "metadata": {},
     "output_type": "execute_result"
    }
   ],
   "source": [
    "two_char_group_df"
   ]
  },
  {
   "cell_type": "code",
   "execution_count": null,
   "id": "172e4fe7-4b4a-490e-bc09-9c8b638f0150",
   "metadata": {},
   "outputs": [],
   "source": []
  }
 ],
 "metadata": {
  "kernelspec": {
   "display_name": "Python 3 (ipykernel)",
   "language": "python",
   "name": "python3"
  },
  "language_info": {
   "codemirror_mode": {
    "name": "ipython",
    "version": 3
   },
   "file_extension": ".py",
   "mimetype": "text/x-python",
   "name": "python",
   "nbconvert_exporter": "python",
   "pygments_lexer": "ipython3",
   "version": "3.8.10"
  }
 },
 "nbformat": 4,
 "nbformat_minor": 5
}
