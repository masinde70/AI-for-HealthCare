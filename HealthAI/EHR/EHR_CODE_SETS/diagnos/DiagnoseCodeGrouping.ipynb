{
 "cells": [
  {
   "cell_type": "markdown",
   "id": "581640a2-2ce4-4c0b-8bc3-2087e1040110",
   "metadata": {},
   "source": [
    "### Datasets\n",
    "- 2018 CA inpatient dataset - https://data.chhs.ca.gov/dataset/hospital-inpatient-diagnosis-procedure-and-external-cause-codes/\n",
    "- Attribution to CA https://data.chhs.ca.gov/pages/terms\n",
    "\n",
    "The attributes of the data are:\n",
    "1. `ICD10CMCODE` - The ICD-10-CM Code\n",
    "2. `DiagnosisDesc` - Diagnosis Description \n",
    "3. `TotalDiag` - Count of Total Diagnosis\t\n",
    "4. `PrimaryDiag` - Count of Primary Diagnosis\t\n",
    "5. `SecondDiag` - Count of Secondary Diagnosis"
   ]
  },
  {
   "cell_type": "markdown",
   "id": "acfb275f-9ee5-41f9-9c36-71f1be0260d7",
   "metadata": {},
   "source": [
    "### Instructions\n",
    "Please use the dataset above from the state of California that provides the total inpatient diagnosis counts using the ICD10 - CM code set. \n",
    "1. Give the codes that have 'SEPSIS\" in the description (HINT: could use the str.contains function)\n",
    "1. What percentage of primary diagnosis can be grouped at the category level with A41? \n",
    "1. If you were to create a metacategory for sepsis, what percentage of secondary diagnosis codes would be grouped with using just the first character? "
   ]
  },
  {
   "cell_type": "code",
   "execution_count": 1,
   "id": "565c3f24-4e19-4f96-9291-40d2f191a2a4",
   "metadata": {},
   "outputs": [],
   "source": [
    "import pandas as pd\n",
    "import numpy as np"
   ]
  }
 ],
 "metadata": {
  "kernelspec": {
   "display_name": "Python 3 (ipykernel)",
   "language": "python",
   "name": "python3"
  },
  "language_info": {
   "codemirror_mode": {
    "name": "ipython",
    "version": 3
   },
   "file_extension": ".py",
   "mimetype": "text/x-python",
   "name": "python",
   "nbconvert_exporter": "python",
   "pygments_lexer": "ipython3",
   "version": "3.8.10"
  }
 },
 "nbformat": 4,
 "nbformat_minor": 5
}
