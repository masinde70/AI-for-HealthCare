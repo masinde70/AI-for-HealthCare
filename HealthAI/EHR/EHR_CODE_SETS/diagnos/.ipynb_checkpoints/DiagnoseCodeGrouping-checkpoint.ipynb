{
 "cells": [
  {
   "cell_type": "markdown",
   "id": "581640a2-2ce4-4c0b-8bc3-2087e1040110",
   "metadata": {},
   "source": [
    "### Datasets\n",
    "- 2018 CA inpatient dataset - https://data.chhs.ca.gov/dataset/hospital-inpatient-diagnosis-procedure-and-external-cause-codes/\n",
    "- Attribution to CA https://data.chhs.ca.gov/pages/terms\n",
    "\n",
    "The attributes of the data are:\n",
    "1. `ICD10CMCODE` - The ICD-10-CM Code\n",
    "2. `DiagnosisDesc` - Diagnosis Description \n",
    "3. `TotalDiag` - Count of Total Diagnosis\t\n",
    "4. `PrimaryDiag` - Count of Primary Diagnosis\t\n",
    "5. `SecondDiag` - Count of Secondary Diagnosis"
   ]
  },
  {
   "cell_type": "markdown",
   "id": "acfb275f-9ee5-41f9-9c36-71f1be0260d7",
   "metadata": {},
   "source": [
    "### Instructions\n",
    "Please use the dataset above from the state of California that provides the total inpatient diagnosis counts using the ICD10 - CM code set. \n",
    "1. Give the codes that have 'SEPSIS\" in the description (HINT: could use the str.contains function)\n",
    "1. What percentage of primary diagnosis can be grouped at the category level with A41? \n",
    "1. If you were to create a metacategory for sepsis, what percentage of secondary diagnosis codes would be grouped with using just the first character? "
   ]
  },
  {
   "cell_type": "code",
   "execution_count": 1,
   "id": "565c3f24-4e19-4f96-9291-40d2f191a2a4",
   "metadata": {},
   "outputs": [],
   "source": [
    "import pandas as pd\n",
    "import numpy as np"
   ]
  },
  {
   "cell_type": "code",
   "execution_count": 2,
   "id": "ae9f593b-0df8-4a49-8eda-4c442a392813",
   "metadata": {},
   "outputs": [],
   "source": [
    "ca_icd_dx_path = \"ICD10.csv\"\n",
    "#last row is malformed\n",
    "dx_df = pd.read_csv(ca_icd_dx_path).fillna(0)[:-1]"
   ]
  },
  {
   "cell_type": "code",
   "execution_count": 3,
   "id": "6f60079f-3303-483d-b4aa-17c74bb15fd4",
   "metadata": {},
   "outputs": [
    {
     "data": {
      "text/html": [
       "<div>\n",
       "<style scoped>\n",
       "    .dataframe tbody tr th:only-of-type {\n",
       "        vertical-align: middle;\n",
       "    }\n",
       "\n",
       "    .dataframe tbody tr th {\n",
       "        vertical-align: top;\n",
       "    }\n",
       "\n",
       "    .dataframe thead th {\n",
       "        text-align: right;\n",
       "    }\n",
       "</style>\n",
       "<table border=\"1\" class=\"dataframe\">\n",
       "  <thead>\n",
       "    <tr style=\"text-align: right;\">\n",
       "      <th></th>\n",
       "      <th>ICD10CMCODE</th>\n",
       "      <th>DiagnosisDesc</th>\n",
       "      <th>TotalDiag</th>\n",
       "      <th>PrimaryDiag</th>\n",
       "      <th>SecondDiag</th>\n",
       "    </tr>\n",
       "  </thead>\n",
       "  <tbody>\n",
       "    <tr>\n",
       "      <th>0</th>\n",
       "      <td>A00.0</td>\n",
       "      <td>CHOLERA DUE TO VIBRIO CHOLERAE 01, BIOVAR CHOL...</td>\n",
       "      <td>5</td>\n",
       "      <td>1</td>\n",
       "      <td>4</td>\n",
       "    </tr>\n",
       "    <tr>\n",
       "      <th>1</th>\n",
       "      <td>A00.9</td>\n",
       "      <td>CHOLERA, UNSPECIFIED</td>\n",
       "      <td>4</td>\n",
       "      <td>1</td>\n",
       "      <td>3</td>\n",
       "    </tr>\n",
       "    <tr>\n",
       "      <th>2</th>\n",
       "      <td>A01.00</td>\n",
       "      <td>TYPHOID FEVER, UNSPECIFIED</td>\n",
       "      <td>56</td>\n",
       "      <td>27</td>\n",
       "      <td>29</td>\n",
       "    </tr>\n",
       "    <tr>\n",
       "      <th>3</th>\n",
       "      <td>A01.01</td>\n",
       "      <td>TYPHOID MENINGITIS</td>\n",
       "      <td>1</td>\n",
       "      <td>0</td>\n",
       "      <td>1</td>\n",
       "    </tr>\n",
       "    <tr>\n",
       "      <th>4</th>\n",
       "      <td>A01.02</td>\n",
       "      <td>TYPHOID FEVER WITH HEART INVOLVEMENT</td>\n",
       "      <td>1</td>\n",
       "      <td>0</td>\n",
       "      <td>1</td>\n",
       "    </tr>\n",
       "  </tbody>\n",
       "</table>\n",
       "</div>"
      ],
      "text/plain": [
       "  ICD10CMCODE                                      DiagnosisDesc TotalDiag  \\\n",
       "0       A00.0  CHOLERA DUE TO VIBRIO CHOLERAE 01, BIOVAR CHOL...         5   \n",
       "1       A00.9                               CHOLERA, UNSPECIFIED         4   \n",
       "2      A01.00                         TYPHOID FEVER, UNSPECIFIED        56   \n",
       "3      A01.01                                 TYPHOID MENINGITIS         1   \n",
       "4      A01.02               TYPHOID FEVER WITH HEART INVOLVEMENT         1   \n",
       "\n",
       "  PrimaryDiag SecondDiag  \n",
       "0           1          4  \n",
       "1           1          3  \n",
       "2          27         29  \n",
       "3           0          1  \n",
       "4           0          1  "
      ]
     },
     "execution_count": 3,
     "metadata": {},
     "output_type": "execute_result"
    }
   ],
   "source": [
    "dx_df.head()"
   ]
  },
  {
   "cell_type": "markdown",
   "id": "ff1f1238-43cf-4128-8e43-c3e2153465cf",
   "metadata": {},
   "source": [
    "**1. Give the codes that have 'SEPSIS' in the description**"
   ]
  },
  {
   "cell_type": "code",
   "execution_count": 4,
   "id": "7c418ff2-bab2-4082-92b5-f22aa49f280d",
   "metadata": {},
   "outputs": [],
   "source": [
    "matching_sepsis_df=dx_df[dx_df['DiagnosisDesc'].str.contains('SEPSIS')]"
   ]
  },
  {
   "cell_type": "code",
   "execution_count": 5,
   "id": "6aaff13a-eff6-40e7-9450-f89f678b920f",
   "metadata": {},
   "outputs": [
    {
     "data": {
      "text/html": [
       "<div>\n",
       "<style scoped>\n",
       "    .dataframe tbody tr th:only-of-type {\n",
       "        vertical-align: middle;\n",
       "    }\n",
       "\n",
       "    .dataframe tbody tr th {\n",
       "        vertical-align: top;\n",
       "    }\n",
       "\n",
       "    .dataframe thead th {\n",
       "        text-align: right;\n",
       "    }\n",
       "</style>\n",
       "<table border=\"1\" class=\"dataframe\">\n",
       "  <thead>\n",
       "    <tr style=\"text-align: right;\">\n",
       "      <th></th>\n",
       "      <th>ICD10CMCODE</th>\n",
       "      <th>DiagnosisDesc</th>\n",
       "      <th>TotalDiag</th>\n",
       "      <th>PrimaryDiag</th>\n",
       "      <th>SecondDiag</th>\n",
       "    </tr>\n",
       "  </thead>\n",
       "  <tbody>\n",
       "    <tr>\n",
       "      <th>8</th>\n",
       "      <td>A02.1</td>\n",
       "      <td>SALMONELLA SEPSIS</td>\n",
       "      <td>280</td>\n",
       "      <td>255</td>\n",
       "      <td>25</td>\n",
       "    </tr>\n",
       "    <tr>\n",
       "      <th>115</th>\n",
       "      <td>A22.7</td>\n",
       "      <td>ANTHRAX SEPSIS</td>\n",
       "      <td>3</td>\n",
       "      <td>0</td>\n",
       "      <td>3</td>\n",
       "    </tr>\n",
       "    <tr>\n",
       "      <th>129</th>\n",
       "      <td>A26.7</td>\n",
       "      <td>ERYSIPELOTHRIX SEPSIS</td>\n",
       "      <td>4</td>\n",
       "      <td>1</td>\n",
       "      <td>3</td>\n",
       "    </tr>\n",
       "    <tr>\n",
       "      <th>150</th>\n",
       "      <td>A32.7</td>\n",
       "      <td>LISTERIAL SEPSIS</td>\n",
       "      <td>38</td>\n",
       "      <td>32</td>\n",
       "      <td>6</td>\n",
       "    </tr>\n",
       "    <tr>\n",
       "      <th>183</th>\n",
       "      <td>A40.0</td>\n",
       "      <td>SEPSIS DUE TO STREPTOCOCCUS, GROUP A</td>\n",
       "      <td>1929</td>\n",
       "      <td>1651</td>\n",
       "      <td>278</td>\n",
       "    </tr>\n",
       "  </tbody>\n",
       "</table>\n",
       "</div>"
      ],
      "text/plain": [
       "    ICD10CMCODE                         DiagnosisDesc TotalDiag PrimaryDiag  \\\n",
       "8         A02.1                     SALMONELLA SEPSIS       280         255   \n",
       "115       A22.7                        ANTHRAX SEPSIS         3           0   \n",
       "129       A26.7                 ERYSIPELOTHRIX SEPSIS         4           1   \n",
       "150       A32.7                      LISTERIAL SEPSIS        38          32   \n",
       "183       A40.0  SEPSIS DUE TO STREPTOCOCCUS, GROUP A      1929        1651   \n",
       "\n",
       "    SecondDiag  \n",
       "8           25  \n",
       "115          3  \n",
       "129          3  \n",
       "150          6  \n",
       "183        278  "
      ]
     },
     "execution_count": 5,
     "metadata": {},
     "output_type": "execute_result"
    }
   ],
   "source": [
    "matching_sepsis_df.head()"
   ]
  },
  {
   "cell_type": "markdown",
   "id": "ebfe1ccb-1193-4e57-bc49-d7ae092c0071",
   "metadata": {},
   "source": [
    "**2. What percentage of primary diagnosis could be grouped at the category level with A41**"
   ]
  },
  {
   "cell_type": "code",
   "execution_count": 11,
   "id": "13e0edae-107e-45ae-996b-697eac5deda4",
   "metadata": {},
   "outputs": [],
   "source": [
    "a41_cat_level_sum = sum(matching_sepsis_df[matching_sepsis_df['ICD10CMCODE'].str.startswith('A41')]['PrimaryDiag'].astype(int))"
   ]
  },
  {
   "cell_type": "code",
   "execution_count": 12,
   "id": "53973fcc-916a-4da6-b0bd-a26624c4654b",
   "metadata": {},
   "outputs": [
    {
     "data": {
      "text/plain": [
       "281924"
      ]
     },
     "execution_count": 12,
     "metadata": {},
     "output_type": "execute_result"
    }
   ],
   "source": [
    "a41_cat_level_sum "
   ]
  },
  {
   "cell_type": "code",
   "execution_count": 13,
   "id": "50826b97-4bbf-4e36-820d-1fcc843ce37e",
   "metadata": {},
   "outputs": [
    {
     "data": {
      "text/plain": [
       "294017"
      ]
     },
     "execution_count": 13,
     "metadata": {},
     "output_type": "execute_result"
    }
   ],
   "source": [
    "total_primary_dx = sum(matching_sepsis_df['PrimaryDiag'].astype(int))\n",
    "total_primary_dx"
   ]
  },
  {
   "cell_type": "code",
   "execution_count": 14,
   "id": "961e7e4d-c3f0-4b10-85fd-8f162d89f92c",
   "metadata": {},
   "outputs": [
    {
     "data": {
      "text/plain": [
       "0.9588697252199703"
      ]
     },
     "execution_count": 14,
     "metadata": {},
     "output_type": "execute_result"
    }
   ],
   "source": [
    "float(a41_cat_level_sum/total_primary_dx)"
   ]
  },
  {
   "cell_type": "markdown",
   "id": "3755c143-cc23-4502-b3cd-6f6d9d5f72c7",
   "metadata": {},
   "source": [
    "**3. If you were to create a metacategory for sepsis, what percentage of secondary diagnosis codes would be grouped with using the first character as A?**"
   ]
  },
  {
   "cell_type": "code",
   "execution_count": 15,
   "id": "e472d6c4-48cc-4276-82b5-303e39f1ed53",
   "metadata": {},
   "outputs": [
    {
     "data": {
      "text/plain": [
       "69056"
      ]
     },
     "execution_count": 15,
     "metadata": {},
     "output_type": "execute_result"
    }
   ],
   "source": [
    "a_cat_level_sum = sum(matching_sepsis_df[matching_sepsis_df['ICD10CMCODE'].str.startswith('A')]['SecondDiag'].astype(int))\n",
    "a_cat_level_sum"
   ]
  },
  {
   "cell_type": "code",
   "execution_count": 16,
   "id": "7a13bdbd-85f9-42ce-8354-d05c533acac2",
   "metadata": {},
   "outputs": [
    {
     "data": {
      "text/plain": [
       "230786"
      ]
     },
     "execution_count": 16,
     "metadata": {},
     "output_type": "execute_result"
    }
   ],
   "source": [
    "total_secondary_dx = sum(matching_sepsis_df['SecondDiag'].astype(int))\n",
    "total_secondary_dx"
   ]
  },
  {
   "cell_type": "code",
   "execution_count": 17,
   "id": "8080b258-c8a1-4fcf-9449-3e4059175c06",
   "metadata": {},
   "outputs": [
    {
     "data": {
      "text/plain": [
       "0.299220923279575"
      ]
     },
     "execution_count": 17,
     "metadata": {},
     "output_type": "execute_result"
    }
   ],
   "source": [
    "float(a_cat_level_sum/total_secondary_dx)\n"
   ]
  }
 ],
 "metadata": {
  "kernelspec": {
   "display_name": "Python 3 (ipykernel)",
   "language": "python",
   "name": "python3"
  },
  "language_info": {
   "codemirror_mode": {
    "name": "ipython",
    "version": 3
   },
   "file_extension": ".py",
   "mimetype": "text/x-python",
   "name": "python",
   "nbconvert_exporter": "python",
   "pygments_lexer": "ipython3",
   "version": "3.8.10"
  }
 },
 "nbformat": 4,
 "nbformat_minor": 5
}
