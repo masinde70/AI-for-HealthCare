{
 "cells": [
  {
   "cell_type": "markdown",
   "id": "6f0db12a-fa95-4801-ae6e-1767c52d1047",
   "metadata": {},
   "source": [
    "### Dataset Source \n",
    "The portal [https://www.hcup-us.ahrq.gov/toolssoftware/ccs10/ccs10.jsp](https://www.hcup-us.ahrq.gov/toolssoftware/ccs10/ccs10.jsp) presents an overview, description, technical guidance, and downloading Information for Clinical Classifications Software (CCS) for ICD-10-PCS (beta version). The CCS is developed as a part of Healthcare Cost and Utilization Project (HCUP). We recommend you to go through each section to understand the data better. \n",
    "\n",
    "\n",
    "### Data Description\n",
    "We have already downloaded the `ccs_pr_icd10pcs_2020_1.zip` file available under the section \"Downloading Information for the CCS for ICD-10-PCS Tool\" in the above portal. We have tweaked the `.csv` file contained inside of the `.zip` file. The updated `.csv` file is provided locally in the current workspace, with the name `clean_ccs_pr_icd10pcs.csv`. \n",
    "\n",
    "\n",
    "The `clean_ccs_pr_icd10pcs.csv` file is composed of the following eight fields separated by commas:\n",
    "1. Procedure Code as 'ICD-10-PCS CODE'\n",
    "1. 'CCS CATEGORY',\n",
    "1. 'ICD-10-PCS CODE DESCRIPTION',\n",
    "1. 'CCS CATEGORY DESCRIPTION',\n",
    "1. Multi-level 1 Category as 'MULTI CCS LVL 1',\n",
    "1. Multi-level 1 Category Description as 'MULTI CCS LVL 1 LABEL',\n",
    "1. Multi-level 2 Category as 'MULTI CCS LVL 2',\n",
    "1. Multi-level 2 Category Description as 'MULTI CCS LVL 2 LABEL'\n",
    "\n",
    "\n",
    "### Exercise\n",
    "1. If you search the CCS_CATEGORY_DESCRIPTION for \"coronary\", what are the two single level categories that you find? What is/are the label(s) for the multi-level 1 categories?\n",
    "\n",
    "\n",
    "2. Given CCS single level category 45, what do you notice about the ICD10 PCS Codes? Do they all have a similar character pattern?\n",
    "\n",
    "\n",
    "### Solution"
   ]
  },
  {
   "cell_type": "markdown",
   "id": "5df5d604-b5fc-4e4c-ab2f-14432f944227",
   "metadata": {},
   "source": [
    "import pandas as pd\n",
    "import numpy as np"
   ]
  },
  {
   "cell_type": "code",
   "execution_count": null,
   "id": "6c68a18b-7d03-4495-8dd0-925bf2b491cf",
   "metadata": {},
   "outputs": [],
   "source": []
  }
 ],
 "metadata": {
  "kernelspec": {
   "display_name": "Python 3 (ipykernel)",
   "language": "python",
   "name": "python3"
  },
  "language_info": {
   "codemirror_mode": {
    "name": "ipython",
    "version": 3
   },
   "file_extension": ".py",
   "mimetype": "text/x-python",
   "name": "python",
   "nbconvert_exporter": "python",
   "pygments_lexer": "ipython3",
   "version": "3.8.10"
  }
 },
 "nbformat": 4,
 "nbformat_minor": 5
}
