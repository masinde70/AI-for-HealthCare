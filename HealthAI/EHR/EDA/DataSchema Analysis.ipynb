{
 "cells": [
  {
   "cell_type": "markdown",
   "id": "5dbb4a8b",
   "metadata": {},
   "source": [
    "1. ### Dataset Schema Analysis\n",
    "We will use the following UCI dataset for this lesson and the related exercise.\n",
    "\n",
    "**Dataset:** Heart Disease Dataset donated to UCI ML Dataset Repository https://archive.ics.uci.edu/ml/datasets/heart+Disease. The authors of the databases have requested that any publications resulting from the use of the data include the names of the principal investigator responsible for the data collection at each institution. They would be:\n",
    "\n",
    "1. Hungarian Institute of Cardiology. Budapest: Andras Janosi, M.D.\n",
    "2. University Hospital, Zurich, Switzerland: William Steinbrunn, M.D.\n",
    "3. University Hospital, Basel, Switzerland: Matthias Pfisterer, M.D.\n",
    "4. V.A. Medical Center, Long Beach and Cleveland Clinic Foundation:Robert Detrano, M.D., Ph.D.\n",
    "\n",
    "**Modeling Objective:** Predict the incidence of heart disease\n",
    "\n",
    "Below is a list of areas that we will be looking for in our exploratory data analysis.\n",
    " * Value Distributions - Is the dataset feature uniform, normal, skewed and severely unbalanced?\n",
    " * Scale of Numerical Features\n",
    " * Missing Values\n",
    " *  High Cardinality\n",
    "\n",
    " "
   ]
  },
  {
   "cell_type": "markdown",
   "id": "ccd7f8b2",
   "metadata": {},
   "source": [
    "**Dataset Schema:** The schema for the dataset that we will be using is on the page https://archive.ics.uci.edu/ml/datasets/heart+Disease under the **\"Attribute Information\"** header. Please note that only 14 attributes are used and listed below\n",
    "\n",
    "1. age: age in years\n",
    "2. sex: sex (1 = male; 0 = female)\n",
    "3. cp: chest pain type\n",
    "   * Value 1: typical angina\n",
    "   * Value 2: atypical angina\n",
    "   * Value 3: non-anginal pain\n",
    "   * Value 4: asymptomatic\n",
    "4. trestbps: resting blood pressure (in mm Hg on admission to the hospital)\n",
    "5. chol: serum cholestoral in mg/dl\n",
    "6. fbs: (fasting blood sugar > 120 mg/dl) (1 = true; 0 = false)\n",
    "7. restecg: resting electrocardiographic results\n",
    "   * Value 0: normal\n",
    "   * Value 1: having ST-T wave abnormality (T wave inversions and/or ST elevation or depression of > 0.05 mV)  \n",
    "   * Value 2: showing probable or definite left ventricular hypertrophy by Estes' criteria\n",
    "8. thalach: maximum heart rate achieved\n",
    "9. exang: exercise induced angina (1 = yes; 0 = no)\n",
    "10. oldpeak: ST depression induced by exercise relative to rest\n",
    "11. slope: the slope of the peak exercise ST segment\n",
    "  * Value 1: upsloping\n",
    "  * Value 2: flat\n",
    "  * Value 3: downsloping\n",
    "12. ca: number of major vessels (0-3) colored by flourosopy\n",
    "13. thal: 3 = normal; 6 = fixed defect; 7 = reversable defect\n",
    "14. num: diagnosis of heart disease (angiographic disease status)\n",
    "    * Value 0: < 50% diameter narrowing\n",
    "    * Value 1: > 50% diameter narrowing\n",
    "    * Values >1: linking to attributes 59 through 68, which are vessels (we won't focus on this for this course)\n",
    "\n"
   ]
  },
  {
   "cell_type": "markdown",
   "id": "e0bfe704",
   "metadata": {},
   "source": [
    "**OPTIONAL- Use Tensorflow Data Validation (TFDV) for EDA**\n",
    "You are free to use your tool of choice to explore the data and create an EDA report at the end and TFDV currently has some bugs with the latest version of Chrome. The intention of this lesson is to expose you to TFDV as an option to explore your data. While there are other tools for exploratory data analysis, below are some reasons that TFDV can be helpful:\n",
    "\n",
    " * Interactive and simple descriptive statistics visualization tool\n",
    " *  Scales to large datasets\n",
    "    * It uses \"Apache Beam's data-parallel processing framework to scale the computation of statistics over large datasets.\"\n",
    "  * Can be used to detect anomalies and drift with new data or differences between training and testing splits\n",
    "\n",
    "Before building a machine learning model, we must first analyze the dataset and assess for common issues that may require preprocessing. We will use the TFDV library to help analyze and visualize the dataset. Some of the information has been adapted from the TFDV page(https://www.tensorflow.org/tfx/data_validation/get_started.\n",
    "\n",
    "**IMPORTANT** You must use the Chrome browser to see the TFDV library visualizations.\n",
    "\n",
    "NOTE: Please note that there are other ways we can explore and analyze the data but we will focus on these areas for the course."
   ]
  },
  {
   "cell_type": "code",
   "execution_count": 1,
   "id": "92a21b95",
   "metadata": {},
   "outputs": [],
   "source": [
    "import pandas as pd\n",
    "import numpy as np\n",
    "import sklearn\n",
    "import seaborn as sns\n",
    "import matplotlib.pyplot as plt"
   ]
  },
  {
   "cell_type": "markdown",
   "id": "637cf771",
   "metadata": {},
   "source": [
    "NOTE: For this lesson and exercise we will use the processed not the raw dataset provided, so the categorical feature values have already been converted to numerical values.\n",
    "\n",
    "For this exercise we will use the processed Cleveland Clinic dataset."
   ]
  },
  {
   "cell_type": "code",
   "execution_count": 2,
   "id": "c929e24f",
   "metadata": {},
   "outputs": [],
   "source": [
    "#https://archive.ics.uci.edu/ml/datasets/heart+Disease, Cleveland dataset\n",
    "processed_cleveland_path = \"data/processed.cleveland.txt\"\n",
    "column_header_list = [\n",
    "    'age',\n",
    "   'sex',\n",
    "   'cp',\n",
    "   'trestbps',\n",
    "     'chol',\n",
    "      'fbs',\n",
    "      'restecg',\n",
    "      'thalach',\n",
    "       'exang',\n",
    "      'oldpeak',\n",
    "       'slope',\n",
    "       'ca',\n",
    "        'thal', \n",
    "     'num_label'\n",
    "]\n",
    "processed_cleveland_df = pd.read_csv(processed_cleveland_path, names=column_header_list)"
   ]
  },
  {
   "cell_type": "code",
   "execution_count": 3,
   "id": "995855a4",
   "metadata": {},
   "outputs": [
    {
     "data": {
      "text/html": [
       "<div>\n",
       "<style scoped>\n",
       "    .dataframe tbody tr th:only-of-type {\n",
       "        vertical-align: middle;\n",
       "    }\n",
       "\n",
       "    .dataframe tbody tr th {\n",
       "        vertical-align: top;\n",
       "    }\n",
       "\n",
       "    .dataframe thead th {\n",
       "        text-align: right;\n",
       "    }\n",
       "</style>\n",
       "<table border=\"1\" class=\"dataframe\">\n",
       "  <thead>\n",
       "    <tr style=\"text-align: right;\">\n",
       "      <th></th>\n",
       "      <th>age</th>\n",
       "      <th>sex</th>\n",
       "      <th>cp</th>\n",
       "      <th>trestbps</th>\n",
       "      <th>chol</th>\n",
       "      <th>fbs</th>\n",
       "      <th>restecg</th>\n",
       "      <th>thalach</th>\n",
       "      <th>exang</th>\n",
       "      <th>oldpeak</th>\n",
       "      <th>slope</th>\n",
       "      <th>ca</th>\n",
       "      <th>thal</th>\n",
       "      <th>num_label</th>\n",
       "    </tr>\n",
       "  </thead>\n",
       "  <tbody>\n",
       "    <tr>\n",
       "      <th>0</th>\n",
       "      <td>63.0</td>\n",
       "      <td>1.0</td>\n",
       "      <td>1.0</td>\n",
       "      <td>145.0</td>\n",
       "      <td>233.0</td>\n",
       "      <td>1.0</td>\n",
       "      <td>2.0</td>\n",
       "      <td>150.0</td>\n",
       "      <td>0.0</td>\n",
       "      <td>2.3</td>\n",
       "      <td>3.0</td>\n",
       "      <td>0.0</td>\n",
       "      <td>6.0</td>\n",
       "      <td>0</td>\n",
       "    </tr>\n",
       "    <tr>\n",
       "      <th>1</th>\n",
       "      <td>67.0</td>\n",
       "      <td>1.0</td>\n",
       "      <td>4.0</td>\n",
       "      <td>160.0</td>\n",
       "      <td>286.0</td>\n",
       "      <td>0.0</td>\n",
       "      <td>2.0</td>\n",
       "      <td>108.0</td>\n",
       "      <td>1.0</td>\n",
       "      <td>1.5</td>\n",
       "      <td>2.0</td>\n",
       "      <td>3.0</td>\n",
       "      <td>3.0</td>\n",
       "      <td>2</td>\n",
       "    </tr>\n",
       "    <tr>\n",
       "      <th>2</th>\n",
       "      <td>67.0</td>\n",
       "      <td>1.0</td>\n",
       "      <td>4.0</td>\n",
       "      <td>120.0</td>\n",
       "      <td>229.0</td>\n",
       "      <td>0.0</td>\n",
       "      <td>2.0</td>\n",
       "      <td>129.0</td>\n",
       "      <td>1.0</td>\n",
       "      <td>2.6</td>\n",
       "      <td>2.0</td>\n",
       "      <td>2.0</td>\n",
       "      <td>7.0</td>\n",
       "      <td>1</td>\n",
       "    </tr>\n",
       "    <tr>\n",
       "      <th>3</th>\n",
       "      <td>37.0</td>\n",
       "      <td>1.0</td>\n",
       "      <td>3.0</td>\n",
       "      <td>130.0</td>\n",
       "      <td>250.0</td>\n",
       "      <td>0.0</td>\n",
       "      <td>0.0</td>\n",
       "      <td>187.0</td>\n",
       "      <td>0.0</td>\n",
       "      <td>3.5</td>\n",
       "      <td>3.0</td>\n",
       "      <td>0.0</td>\n",
       "      <td>3.0</td>\n",
       "      <td>0</td>\n",
       "    </tr>\n",
       "    <tr>\n",
       "      <th>4</th>\n",
       "      <td>41.0</td>\n",
       "      <td>0.0</td>\n",
       "      <td>2.0</td>\n",
       "      <td>130.0</td>\n",
       "      <td>204.0</td>\n",
       "      <td>0.0</td>\n",
       "      <td>2.0</td>\n",
       "      <td>172.0</td>\n",
       "      <td>0.0</td>\n",
       "      <td>1.4</td>\n",
       "      <td>1.0</td>\n",
       "      <td>0.0</td>\n",
       "      <td>3.0</td>\n",
       "      <td>0</td>\n",
       "    </tr>\n",
       "  </tbody>\n",
       "</table>\n",
       "</div>"
      ],
      "text/plain": [
       "    age  sex   cp  trestbps   chol  fbs  restecg  thalach  exang  oldpeak  \\\n",
       "0  63.0  1.0  1.0     145.0  233.0  1.0      2.0    150.0    0.0      2.3   \n",
       "1  67.0  1.0  4.0     160.0  286.0  0.0      2.0    108.0    1.0      1.5   \n",
       "2  67.0  1.0  4.0     120.0  229.0  0.0      2.0    129.0    1.0      2.6   \n",
       "3  37.0  1.0  3.0     130.0  250.0  0.0      0.0    187.0    0.0      3.5   \n",
       "4  41.0  0.0  2.0     130.0  204.0  0.0      2.0    172.0    0.0      1.4   \n",
       "\n",
       "   slope   ca thal  num_label  \n",
       "0    3.0  0.0  6.0          0  \n",
       "1    2.0  3.0  3.0          2  \n",
       "2    2.0  2.0  7.0          1  \n",
       "3    3.0  0.0  3.0          0  \n",
       "4    1.0  0.0  3.0          0  "
      ]
     },
     "execution_count": 3,
     "metadata": {},
     "output_type": "execute_result"
    }
   ],
   "source": [
    "processed_cleveland_df.head()"
   ]
  },
  {
   "cell_type": "code",
   "execution_count": 4,
   "id": "d3ef6bb5",
   "metadata": {},
   "outputs": [],
   "source": [
    "# visualize categorical distributions\n",
    "def visualize_distributions(df, c):\n",
    "    df[c].value_counts().plot(kind='bar')\n",
    "    plt.show()\n",
    "    plt.close()"
   ]
  },
  {
   "cell_type": "code",
   "execution_count": 5,
   "id": "3a5aee46",
   "metadata": {},
   "outputs": [
    {
     "name": "stdout",
     "output_type": "stream",
     "text": [
      "Distribution for sex feature\n"
     ]
    },
    {
     "data": {
      "text/plain": [
       "<AxesSubplot:>"
      ]
     },
     "execution_count": 5,
     "metadata": {},
     "output_type": "execute_result"
    },
    {
     "data": {
      "image/png": "[encoded data removed]",
      "text/plain": [
       "<Figure size 432x288 with 1 Axes>"
      ]
     },
     "metadata": {
      "needs_background": "light"
     },
     "output_type": "display_data"
    }
   ],
   "source": [
    "example_column1 = \"sex\"\n",
    "print(\"Distribution for {} feature\".format(example_column1))\n",
    "processed_cleveland_df[example_column1].replace({1:\"male\", 0:\"female\"}).value_counts().plot(kind='bar')"
   ]
  },
  {
   "cell_type": "markdown",
   "id": "cd13d6f5",
   "metadata": {},
   "source": [
    "Next, we will look at another categorical feature chest pain."
   ]
  },
  {
   "cell_type": "code",
   "execution_count": 6,
   "id": "de06e5d2",
   "metadata": {},
   "outputs": [
    {
     "name": "stdout",
     "output_type": "stream",
     "text": [
      "Distribution for cp feature\n"
     ]
    },
    {
     "data": {
      "text/plain": [
       "<AxesSubplot:>"
      ]
     },
     "execution_count": 6,
     "metadata": {},
     "output_type": "execute_result"
    },
    {
     "data": {
      "image/png": "[encoded data removed]",
      "text/plain": [
       "<Figure size 432x288 with 1 Axes>"
      ]
     },
     "metadata": {
      "needs_background": "light"
     },
     "output_type": "display_data"
    }
   ],
   "source": [
    "example_column2 = \"cp\"\n",
    "print(\"Distribution for {} feature\".format(example_column2))\n",
    "processed_cleveland_df[example_column2].replace({1: \"typical angina\",\n",
    "2: \"atypical angina\",\n",
    "3: \"non-anginal pain\",\n",
    "4: \"asymptomatic\" }).value_counts().plot(kind='barh')"
   ]
  },
  {
   "cell_type": "markdown",
   "id": "ec5e40c2",
   "metadata": {},
   "source": [
    "### Review of normal and uniform distributions"
   ]
  },
  {
   "cell_type": "markdown",
   "id": "304f53a0",
   "metadata": {},
   "source": [
    "**Normal Distribution**"
   ]
  },
  {
   "cell_type": "code",
   "execution_count": 7,
   "id": "3b38a033",
   "metadata": {},
   "outputs": [],
   "source": [
    "mu, sigma = 100, 17.0 # mean and standard deviation\n",
    "norm_dist = np.random.normal(mu, sigma, 100)"
   ]
  },
  {
   "cell_type": "code",
   "execution_count": 11,
   "id": "ab453f07",
   "metadata": {},
   "outputs": [
    {
     "data": {
      "image/png": "[encoded data removed]",
      "text/plain": [
       "<Figure size 360x360 with 1 Axes>"
      ]
     },
     "metadata": {
      "needs_background": "light"
     },
     "output_type": "display_data"
    }
   ],
   "source": [
    "norm_ax = sns.displot(norm_dist, kde=False )\n",
    "plt.show()"
   ]
  },
  {
   "cell_type": "markdown",
   "id": "828f8cbe",
   "metadata": {},
   "source": [
    "**Uniform Distribution**"
   ]
  },
  {
   "cell_type": "code",
   "execution_count": 10,
   "id": "38c053c3",
   "metadata": {},
   "outputs": [
    {
     "data": {
      "image/png": "[encoded data removed]",
      "text/plain": [
       "<Figure size 360x360 with 1 Axes>"
      ]
     },
     "metadata": {
      "needs_background": "light"
     },
     "output_type": "display_data"
    }
   ],
   "source": [
    "uniform_dist = np.random.uniform(-1,0,1000)\n",
    "uniform_ax = sns.displot(uniform_dist, kde=False )\n",
    "plt.show()"
   ]
  },
  {
   "cell_type": "markdown",
   "id": "e85227f4",
   "metadata": {},
   "source": [
    "**Guess the type of distribution for the following?**"
   ]
  },
  {
   "cell_type": "code",
   "execution_count": 12,
   "id": "ecd9ff76",
   "metadata": {},
   "outputs": [
    {
     "data": {
      "text/plain": [
       "<AxesSubplot:>"
      ]
     },
     "execution_count": 12,
     "metadata": {},
     "output_type": "execute_result"
    },
    {
     "data": {
      "image/png": "[encoded data removed]",
      "text/plain": [
       "<Figure size 432x288 with 1 Axes>"
      ]
     },
     "metadata": {
      "needs_background": "light"
     },
     "output_type": "display_data"
    }
   ],
   "source": [
    "# numerical field histogram\n",
    "processed_cleveland_df['trestbps'].hist()"
   ]
  },
  {
   "cell_type": "code",
   "execution_count": null,
   "id": "3667c1fc",
   "metadata": {},
   "outputs": [],
   "source": []
  }
 ],
 "metadata": {
  "kernelspec": {
   "display_name": "Python 3 (ipykernel)",
   "language": "python",
   "name": "python3"
  },
  "language_info": {
   "codemirror_mode": {
    "name": "ipython",
    "version": 3
   },
   "file_extension": ".py",
   "mimetype": "text/x-python",
   "name": "python",
   "nbconvert_exporter": "python",
   "pygments_lexer": "ipython3",
   "version": "3.9.13"
  }
 },
 "nbformat": 4,
 "nbformat_minor": 5
}
